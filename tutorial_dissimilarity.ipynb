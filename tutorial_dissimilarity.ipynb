{
 "cells": [
  {
   "cell_type": "code",
   "execution_count": null,
   "metadata": {},
   "outputs": [],
   "source": [
    "#WARNING: dipy version >= 0.16.0 is needed\n",
    "import dipy\n",
    "dipy.__version__"
   ]
  },
  {
   "cell_type": "code",
   "execution_count": null,
   "metadata": {},
   "outputs": [],
   "source": [
    "import os\n",
    "import numpy as np\n",
    "import nibabel as nib\n",
    "from functools import partial\n",
    "from os.path import join as pjoin\n",
    "from sklearn.cluster import KMeans\n",
    "from dipy.segment.clustering import QuickBundles\n",
    "from dipy.tracking.streamline import set_number_of_points\n",
    "from dipy.tracking.distances import bundles_distances_mam\n",
    "from euclidean_embeddings.dissimilarity import compute_dissimilarity\n",
    "from euclidean_embeddings.distances import euclidean_distance, parallel_distance_computation\n",
    "from dipy.data.fetcher import (fetch_target_tractogram_hcp,\n",
    "                               fetch_bundle_atlas_hcp842,\n",
    "                               get_bundle_atlas_hcp842,\n",
    "                               get_target_tractogram_hcp)"
   ]
  },
  {
   "cell_type": "code",
   "execution_count": null,
   "metadata": {},
   "outputs": [],
   "source": [
    "def compute_centroid(bundle, nb_points=100):\n",
    "    \"\"\"Compute the centroid of a bundle.\n",
    "    \"\"\"\n",
    "    st = np.array([s for s in bundle], dtype=np.object)\n",
    "    qb = QuickBundles(threshold=10.0, max_nb_clusters=1)\n",
    "    centroid = [cluster.centroid for cluster in qb.cluster(bundle)]\n",
    "    centroid = set_number_of_points(centroid, nb_points)\n",
    "\n",
    "    return centroid"
   ]
  },
  {
   "cell_type": "code",
   "execution_count": null,
   "metadata": {},
   "outputs": [],
   "source": [
    "if __name__ == '__main__':\n",
    "\n",
    "    #get the tractogram atlas and the 80 bundles\n",
    "    atlas_file, atlas_folder = fetch_bundle_atlas_hcp842()\n",
    "    atlas_file, all_bundles_files = get_bundle_atlas_hcp842()"
   ]
  },
  {
   "cell_type": "code",
   "execution_count": null,
   "metadata": {},
   "outputs": [],
   "source": [
    "    #Read the tractogram atlas with old API because the it \n",
    "    #does not apply any transformation during loading.\n",
    "    atlas_tr, _ = nib.trackvis.read(atlas_file)\n",
    "    atlas = [sl[0] for sl in atlas_tr]\n",
    "    atlas = np.array(atlas, dtype=np.object)\n",
    "    len(atlas)"
   ]
  },
  {
   "cell_type": "code",
   "execution_count": null,
   "metadata": {},
   "outputs": [],
   "source": [
    "    #EXAMPLE 1: compute the dissimilarity of the atlas using 100 \n",
    "    #prototypes computed in the atlas with prototype_policy='sff'"
   ]
  },
  {
   "cell_type": "code",
   "execution_count": null,
   "metadata": {},
   "outputs": [],
   "source": [
    "    distance = partial(parallel_distance_computation, distance=bundles_distances_mam)\n",
    "    n_prototypes = 100"
   ]
  },
  {
   "cell_type": "code",
   "execution_count": null,
   "metadata": {},
   "outputs": [],
   "source": [
    "    #compute dissimilarity\n",
    "    dissimilarity_atlas, prototype_idx = compute_dissimilarity(atlas, distance, n_prototypes,\n",
    "                                                               prototype_policy='sff',\n",
    "                                                               verbose=False)"
   ]
  },
  {
   "cell_type": "code",
   "execution_count": null,
   "metadata": {},
   "outputs": [],
   "source": [
    "    dissimilarity_atlas.shape"
   ]
  },
  {
   "cell_type": "code",
   "execution_count": null,
   "metadata": {},
   "outputs": [],
   "source": [
    "    #EXAMPLE 2: compute the dissimilarity of the \n",
    "    #IFOF_L bundle using the same prototypes    "
   ]
  },
  {
   "cell_type": "code",
   "execution_count": null,
   "metadata": {},
   "outputs": [],
   "source": [
    "    tract_name = 'IFOF_L'\n",
    "    bundle_file = '%s/Atlas_80_Bundles/bundles/%s.trk' %(atlas_folder, tract_name)"
   ]
  },
  {
   "cell_type": "code",
   "execution_count": null,
   "metadata": {},
   "outputs": [],
   "source": [
    "    #Read the bundle with old API because the it \n",
    "    #does not apply any transformation during loading.\n",
    "    bundle, _ = nib.trackvis.read(bundle_file)\n",
    "    bundle = [sl[0] for sl in bundle]\n",
    "    bundle = nib.streamlines.array_sequence.ArraySequence(bundle)\n",
    "    len(bundle)"
   ]
  },
  {
   "cell_type": "code",
   "execution_count": null,
   "metadata": {},
   "outputs": [],
   "source": [
    "    #compute dissimilarity\n",
    "    prototypes = atlas[prototype_idx]\n",
    "    dissimilarity_bundle = distance(bundle, prototypes)\n",
    "    dissimilarity_bundle.shape"
   ]
  },
  {
   "cell_type": "code",
   "execution_count": null,
   "metadata": {},
   "outputs": [],
   "source": [
    "    #EXAMPLE 3: compute the dissimilarity of the IFOF_L\n",
    "    #bundle using as a prototype the centroid of the bundle"
   ]
  },
  {
   "cell_type": "code",
   "execution_count": null,
   "metadata": {},
   "outputs": [],
   "source": [
    "    centroid = compute_centroid(bundle)\n",
    "    dissimilarity_bundle_1 = distance(bundle, centroid)\n",
    "    dissimilarity_bundle_1.shape"
   ]
  },
  {
   "cell_type": "code",
   "execution_count": null,
   "metadata": {},
   "outputs": [],
   "source": [
    "    #EXERCISE 1: compute the dissimilarity of the IFOF_L bundle using as \n",
    "    #prototypes the centroids of all the 80 bundles contained in the bundle_folder.\n",
    "    #WARNING: For the Fornix (F_L_R.trk) both left and right sides are\n",
    "    #included in one file. It should be possible to easily separate them."
   ]
  },
  {
   "cell_type": "code",
   "execution_count": null,
   "metadata": {},
   "outputs": [],
   "source": [
    "    bundles_folder = '%s/Atlas_80_Bundles/bundles' %atlas_folder"
   ]
  }
 ],
 "metadata": {
  "kernelspec": {
   "display_name": "Python 3",
   "language": "python",
   "name": "python3"
  },
  "language_info": {
   "codemirror_mode": {
    "name": "ipython",
    "version": 3
   },
   "file_extension": ".py",
   "mimetype": "text/x-python",
   "name": "python",
   "nbconvert_exporter": "python",
   "pygments_lexer": "ipython3",
   "version": "3.7.3"
  }
 },
 "nbformat": 4,
 "nbformat_minor": 2
}
