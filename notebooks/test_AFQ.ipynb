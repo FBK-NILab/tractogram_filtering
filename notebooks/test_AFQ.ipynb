{
 "cells": [
  {
   "cell_type": "code",
   "execution_count": 1,
   "metadata": {},
   "outputs": [],
   "source": [
    "import sys"
   ]
  },
  {
   "cell_type": "code",
   "execution_count": 2,
   "metadata": {},
   "outputs": [],
   "source": [
    "sys.path.insert(0, '../')"
   ]
  },
  {
   "cell_type": "code",
   "execution_count": 20,
   "metadata": {},
   "outputs": [],
   "source": [
    "import torch\n",
    "from torch import nn\n",
    "import torch.nn.functional as F\n",
    "from torchvision import transforms\n",
    "from torch.utils.data import DataLoader\n",
    "from torch_geometric.data import Batch as gBatch\n",
    "from torch_geometric.data import DataListLoader as gDataLoader\n",
    "import glob\n",
    "import numpy as np\n",
    "import datasets as ds\n",
    "from sampling_functions import bspline\n",
    "from time import time\n",
    "import os"
   ]
  },
  {
   "cell_type": "code",
   "execution_count": 4,
   "metadata": {},
   "outputs": [],
   "source": [
    "np.random.seed(10)"
   ]
  },
  {
   "cell_type": "code",
   "execution_count": 9,
   "metadata": {},
   "outputs": [],
   "source": [
    "import configparser"
   ]
  },
  {
   "cell_type": "code",
   "execution_count": 10,
   "metadata": {},
   "outputs": [],
   "source": [
    "exp = '../paper_runs/sdec_nodropout_loss_nll-data_hcp20_gt20mm_resampled16_fs8000_balanced_sampling_1'"
   ]
  },
  {
   "cell_type": "code",
   "execution_count": 11,
   "metadata": {},
   "outputs": [],
   "source": [
    "var = 'HCP20'\n",
    "cfg_parser = configparser.ConfigParser()\n",
    "cfg_parser.read(exp + '/config.txt')\n",
    "cfg = {}\n",
    "cfg[var] = {}\n",
    "for name, value in cfg_parser.items('DEFAULT'):\n",
    "    if value == 'y':\n",
    "        value = True\n",
    "    elif value == 'n':\n",
    "        value = False\n",
    "    cfg[var][name] = value\n",
    "for name, value in cfg_parser.items(var):\n",
    "    if value == 'y':\n",
    "        value = True\n",
    "    elif value == 'n':\n",
    "        value = False\n",
    "    cfg[var][name] = value\n",
    "cfg = cfg[var]\n",
    "cfg['weights_path'] = ''\n",
    "cfg['exp_path'] = exp\n",
    "cfg['with_gt'] = False"
   ]
  },
  {
   "cell_type": "code",
   "execution_count": 12,
   "metadata": {},
   "outputs": [],
   "source": [
    "# fn = '/home/pietro/datasets/TractSeg_new/ground_truth_trk/sub-599469/sub-599469_var-GT_AF_left.trk'\n",
    "# fn = '/home/pietro/datasets/TractSeg_full/downsampled_tractograms/sub-599469/All_500000.trk'\n",
    "# fn = '/home/pietro/src/tractconverter/599469_AF_left_warped_MNI.trk'\n",
    "# fn = '/home/pietro/src/tractconverter/599469_all_500000_MNI.trk'\n",
    "# fn = '/home/pietro/datasets/ExTractor_PRIVATE/derivatives/streamlines_resampled_16_gt20mm/sub-t0337/sub-t0337_var-GIN_full_tract.trk'\n",
    "# cfg['dataset_dir'] = '/home/pietro/datasets/ExTractor_PRIVATE/derivatives/streamlines_resampled_16_gt20mm'\n",
    "cfg['dataset_dir'] = '/home/pastolfi/datasets/multilap_dataset/derivatives/tract_MNI16'"
   ]
  },
  {
   "cell_type": "code",
   "execution_count": 13,
   "metadata": {},
   "outputs": [],
   "source": [
    "sub_list = '../data/sub_list_AFQ.txt'"
   ]
  },
  {
   "cell_type": "code",
   "execution_count": 14,
   "metadata": {},
   "outputs": [],
   "source": [
    "cfg['fixed_size'] = 40000"
   ]
  },
  {
   "cell_type": "code",
   "execution_count": null,
   "metadata": {},
   "outputs": [],
   "source": []
  },
  {
   "cell_type": "code",
   "execution_count": 8,
   "metadata": {},
   "outputs": [
    {
     "ename": "NameError",
     "evalue": "name 'gDataset' is not defined",
     "output_type": "error",
     "traceback": [
      "\u001b[0;31m---------------------------------------------------------------------------\u001b[0m",
      "\u001b[0;31mNameError\u001b[0m                                 Traceback (most recent call last)",
      "\u001b[0;32m<ipython-input-8-7688551dfd42>\u001b[0m in \u001b[0;36m<module>\u001b[0;34m\u001b[0m\n\u001b[0;32m----> 1\u001b[0;31m \u001b[0;32mclass\u001b[0m \u001b[0mAFQDataset\u001b[0m\u001b[0;34m(\u001b[0m\u001b[0mgDataset\u001b[0m\u001b[0;34m)\u001b[0m\u001b[0;34m:\u001b[0m\u001b[0;34m\u001b[0m\u001b[0;34m\u001b[0m\u001b[0m\n\u001b[0m\u001b[1;32m      2\u001b[0m     def __init__(self,\n\u001b[1;32m      3\u001b[0m                  \u001b[0msub_file\u001b[0m\u001b[0;34m,\u001b[0m\u001b[0;34m\u001b[0m\u001b[0;34m\u001b[0m\u001b[0m\n\u001b[1;32m      4\u001b[0m                  \u001b[0mroot_dir\u001b[0m\u001b[0;34m,\u001b[0m\u001b[0;34m\u001b[0m\u001b[0;34m\u001b[0m\u001b[0m\n\u001b[1;32m      5\u001b[0m                  \u001b[0msame_size\u001b[0m\u001b[0;34m=\u001b[0m\u001b[0;32mTrue\u001b[0m\u001b[0;34m,\u001b[0m\u001b[0;34m\u001b[0m\u001b[0;34m\u001b[0m\u001b[0m\n",
      "\u001b[0;31mNameError\u001b[0m: name 'gDataset' is not defined"
     ]
    }
   ],
   "source": [
    "class AFQDataset(gDataset):\n",
    "    def __init__(self,\n",
    "                 sub_file,\n",
    "                 root_dir,\n",
    "                 same_size=True,\n",
    "                 transform=None,\n",
    "                 distance=None,\n",
    "                 with_gt=False,\n",
    "                 return_edges=False,\n",
    "                 split_obj=True,\n",
    "                 train=False,\n",
    "                 standardize=False,\n",
    "                 centering=False,\n",
    "                 labels_dir=None,\n",
    "                 permute=False):\n",
    "        \"\"\"\n",
    "        Args:\n",
    "            root_dir (string): root directory of the dataset.\n",
    "            transform (callable, optional): Optional transform to be applied\n",
    "                on a sample.\n",
    "        \"\"\"\n",
    "        self.root_dir = root_dir\n",
    "        with open(sub_file) as f:\n",
    "            subjects = [s.strip() for s in f.readlines()]\n",
    "        self.subjects = subjects\n",
    "        self.transform = transform\n",
    "        self.distance = distance\n",
    "        self.with_gt = with_gt\n",
    "        self.return_edges = return_edges\n",
    "        self.train = train\n",
    "        self.same_size = same_size\n",
    "        self.standardize = standardize\n",
    "        self.centering = centering\n",
    "        self.permute = permute\n",
    "        if train:\n",
    "            split_obj=False\n",
    "        if split_obj:\n",
    "            self.remaining = [[] for _ in range(len(subjects))]\n",
    "        self.split_obj = split_obj\n",
    "        if with_gt:\n",
    "            self.labels = []\n",
    "            for sub in subjects:\n",
    "                label_sub_dir = os.path.join(self.root_dir.rsplit('/',1)[0], labels_dir ,'sub-%s' % sub)\n",
    "                label_file = os.path.join(label_sub_dir, 'sub-%s_var-GIN_labels.npy' % (sub))\n",
    "                self.labels.append(np.load(label_file))\n",
    "\n",
    "    def __len__(self):\n",
    "        return len(self.subjects)\n",
    "\n",
    "    def __getitem__(self, idx):\n",
    "        #print(self.subjects[idx])\n",
    "        #t0 = time.time()\n",
    "        item = self.getitem(idx)\n",
    "        #print('get item time: {}'.format(time.time()-t0))\n",
    "        return item\n",
    "\n",
    "    def getitem(self, idx):\n",
    "        sub = self.subjects[idx]\n",
    "        #t0 = time.time()\n",
    "        sub_dir = os.path.join(self.root_dir, 'sub-%s' % sub)\n",
    "        T_file = os.path.join(sub_dir, 'sub-%s_tract_MNI16.trk' % (sub))\n",
    "        T = nib.streamlines.load(T_file, lazy_load=True)\n",
    "        #print('\\tload lazy T %f' % (time.time()-t0))\n",
    "        #t0 = time.time()\n",
    "        gt = self.labels[idx] if self.with_gt else None\n",
    "        #print('\\tload gt %f' % (time.time()-t0))\n",
    "        if self.split_obj:\n",
    "            if len(self.remaining[idx]) == 0:\n",
    "                self.remaining[idx] = set(np.arange(T.header['nb_streamlines']))\n",
    "            sample = {'points': np.array(list(self.remaining[idx]))}\n",
    "            if self.with_gt:\n",
    "                sample['gt'] = gt[list(self.remaining[idx])]\n",
    "        else:\n",
    "            #sample = {'points': np.arange(T.header['nb_streamlines'])}\n",
    "            #if self.with_gt:\n",
    "            #sample['gt'] = gt\n",
    "            sample = {'points': np.arange(T.header['nb_streamlines']), 'gt': gt}\n",
    "        #print(sample['name'])\n",
    "\n",
    "        #t0 = time.time()\n",
    "        if self.transform:\n",
    "            sample = self.transform(sample)\n",
    "        #print('\\ttime sampling %f' % (time.time()-t0))\n",
    "\n",
    "        if self.split_obj:\n",
    "            self.remaining[idx] -= set(sample['points'])\n",
    "            sample['obj_idxs'] = sample['points'].copy()\n",
    "            sample['obj_full_size'] = T.header['nb_streamlines']\n",
    "            #sample['streamlines'] = T.streamlines\n",
    "\n",
    "        sample['name'] = T_file.split('/')[-1].rsplit('.', 1)[0]\n",
    "        sample['dir'] = sub_dir\n",
    "\n",
    "        n = len(sample['points'])\n",
    "        #t0 = time.time()\n",
    "        if self.same_size:\n",
    "            streams, lengths = load_selected_streamlines_uniform_size(T_file,\n",
    "                                                    sample['points'].tolist())\n",
    "            if self.centering:\n",
    "                streams_centered = streams.reshape(-1, lengths[0], 3)\n",
    "                streams_centered -= streams_centered.mean(axis=1)[:,None,:]\n",
    "                streams = streams_centered.reshape(-1,3)\n",
    "            if self.permute:\n",
    "                # import ipdb; ipdb.set_trace()\n",
    "                streams_perm = self.permute_pts(\n",
    "                    streams.reshape(-1, lengths[0], 3))\n",
    "                streams = streams_perm.reshape(-1, 3)\n",
    "        else:\n",
    "            #streams, _, lengths, _ = load_streamlines(T_file,\n",
    "            #                                        idxs=sample['points'].tolist(),\n",
    "            #                                        container='array_flat')\n",
    "            streams, lengths = load_selected_streamlines(T_file,\n",
    "                                                    sample['points'].tolist())\n",
    "            #print('\\ttime loading selected streamlines %f' % (time.time()-t0))\n",
    "            if self.centering:\n",
    "                streams_centered = self.center_sl_list(\n",
    "                    np.split(streams, np.cumsum(lengths))[:-1])\n",
    "                streams = np.vstack(streams_centered)\n",
    "\n",
    "            if self.permute:\n",
    "                streams_perm = self.permute_pts(\n",
    "                    np.split(streams, np.cumsum(lengths))[:-1])\n",
    "                streams = streams_perm.reshape(-1, 3)\n",
    "        \n",
    "        if self.standardize:\n",
    "            stats_file = glob.glob(sub_dir + '/*_stats.npy')[0]\n",
    "            mu, sigma, M, m = np.load(stats_file)\n",
    "            streams = (streams - mu) / sigma\n",
    "\n",
    "\n",
    "\n",
    "        #t0 = time.time()\n",
    "        sample['points'] = self.build_graph_sample(streams,\n",
    "                    lengths,\n",
    "                    torch.from_numpy(sample['gt']) if self.with_gt else None)\n",
    "        #sample['tract'] = streamlines\n",
    "        #print('sample:',sample['points'])\n",
    "        #print('\\ttime building graph %f' % (time.time()-t0))\n",
    "        return sample\n",
    "\n",
    "    def center_sl_list(self, sl_list):\n",
    "        centers = np.array(map(functools.partial(np.mean, axis=0), sl_list))\n",
    "        return map(np.subtract, sl_list, centers)\n",
    "\n",
    "    def permute_pts(self, sl_list):\n",
    "        perm_sl_list = []\n",
    "        for sl in sl_list:\n",
    "            perm_idx = torch.randperm(len(sl)).tolist()\n",
    "            perm_sl_list.append(sl[perm_idx])\n",
    "        return np.array(perm_sl_list)\n",
    "\n",
    "\n",
    "    def build_graph_sample(self, streams, lengths, gt=None):\n",
    "        #t0 = time.time()\n",
    "        #print('time numpy split %f' % (time.time()-t0))\n",
    "        ### create graph structure\n",
    "        #sls_lengths = torch.from_numpy(sls_lengths)\n",
    "        lengths = torch.from_numpy(lengths).long()\n",
    "        #print('sls lengths:',sls_lengths)\n",
    "        batch_vec = torch.arange(len(lengths)).repeat_interleave(lengths)\n",
    "        batch_slices = torch.cat([torch.tensor([0]), lengths.cumsum(dim=0)])\n",
    "        slices = batch_slices[1:-1]\n",
    "        streams = torch.from_numpy(streams)\n",
    "        l = streams.shape[0]\n",
    "        graph_sample = gData(x=streams,\n",
    "                             lengths=lengths,\n",
    "                             #sls_lengths=sls_lengths,\n",
    "                             bvec=batch_vec,\n",
    "                             pos=streams)\n",
    "        #                     bslices=batch_slices)\n",
    "        #edges = torch.empty((2, 2*l - 2*n), dtype=torch.long)\n",
    "        if self.return_edges:\n",
    "            e1 = set(np.arange(0,l-1)) - set(slices.numpy()-1)\n",
    "            e2 = set(np.arange(1,l)) - set(slices.numpy())\n",
    "            edges = torch.tensor([list(e1)+list(e2),list(e2)+list(e1)],\n",
    "                            dtype=torch.long)\n",
    "      \n",
    "            graph_sample['edge_index'] = edges\n",
    "            num_edges = graph_sample.num_edges\n",
    "            edge_attr = torch.ones(num_edges,1)\n",
    "            graph_sample['edge_attr'] = edge_attr\n",
    "        if self.distance:\n",
    "            graph_sample = self.distance(graph_sample)\n",
    "        #if self.self_loops:\n",
    "        #graph_sample = self.self_loops(graph_sample)\n",
    "        if gt is not None:\n",
    "            graph_sample['y'] = gt\n",
    "\n",
    "        return graph_sample\n"
   ]
  },
  {
   "cell_type": "code",
   "execution_count": 119,
   "metadata": {},
   "outputs": [
    {
     "name": "stdout",
     "output_type": "stream",
     "text": [
      "Dataset hcp20_graph loaded, found 127 samples\n"
     ]
    }
   ],
   "source": [
    "dataset = AFQDataset(sub_list,\n",
    "                          cfg['dataset_dir'],\n",
    "                          same_size=cfg['same_size'],\n",
    "                          transform=transforms.Compose([TestSampling(int(cfg['fixed_size']))]),\n",
    "                          return_edges=cfg['return_edges'],\n",
    "                          split_obj=True,\n",
    "                          train=False)\n",
    "\n",
    "dataloader = gDataLoader(dataset,\n",
    "                         batch_size=1,\n",
    "                         shuffle=False,\n",
    "                         num_workers=0,\n",
    "                         pin_memory=True)\n",
    "\n",
    "print(\"Dataset %s loaded, found %d samples\" %\n",
    "      (cfg['dataset'], len(dataset)))\n"
   ]
  },
  {
   "cell_type": "code",
   "execution_count": 120,
   "metadata": {},
   "outputs": [],
   "source": [
    "from train_dsl_cleaned import get_model\n",
    "from train_dsl_cleaned import get_gbatch_sample"
   ]
  },
  {
   "cell_type": "code",
   "execution_count": 121,
   "metadata": {},
   "outputs": [],
   "source": [
    "classifier = get_model(cfg)"
   ]
  },
  {
   "cell_type": "code",
   "execution_count": 122,
   "metadata": {},
   "outputs": [
    {
     "data": {
      "text/plain": [
       "0"
      ]
     },
     "execution_count": 122,
     "metadata": {},
     "output_type": "execute_result"
    }
   ],
   "source": [
    "device = torch.device(0)\n",
    "torch.cuda.set_device(device)\n",
    "torch.cuda.current_device()"
   ]
  },
  {
   "cell_type": "code",
   "execution_count": 123,
   "metadata": {},
   "outputs": [],
   "source": [
    "if cfg['weights_path'] == '':\n",
    "    cfg['weights_path'] = glob.glob(cfg['exp_path'] + '/models/best*')[0]\n",
    "state = torch.load(cfg['weights_path'],map_location=device)"
   ]
  },
  {
   "cell_type": "code",
   "execution_count": 124,
   "metadata": {},
   "outputs": [
    {
     "data": {
      "text/plain": [
       "DECSeq(\n",
       "  (conv1): EdgeConv(nn=Sequential(\n",
       "    (0): Sequential(\n",
       "      (0): Linear(in_features=6, out_features=64, bias=True)\n",
       "      (1): ReLU()\n",
       "      (2): BatchNorm1d(64, eps=1e-05, momentum=0.1, affine=True, track_running_stats=True)\n",
       "    )\n",
       "    (1): Sequential(\n",
       "      (0): Linear(in_features=64, out_features=64, bias=True)\n",
       "      (1): ReLU()\n",
       "      (2): BatchNorm1d(64, eps=1e-05, momentum=0.1, affine=True, track_running_stats=True)\n",
       "    )\n",
       "    (2): Sequential(\n",
       "      (0): Linear(in_features=64, out_features=64, bias=True)\n",
       "      (1): ReLU()\n",
       "      (2): BatchNorm1d(64, eps=1e-05, momentum=0.1, affine=True, track_running_stats=True)\n",
       "    )\n",
       "  ))\n",
       "  (conv2): DynamicEdgeConv(nn=Sequential(\n",
       "    (0): Sequential(\n",
       "      (0): Linear(in_features=128, out_features=128, bias=True)\n",
       "      (1): ReLU()\n",
       "      (2): BatchNorm1d(128, eps=1e-05, momentum=0.1, affine=True, track_running_stats=True)\n",
       "    )\n",
       "  ), k=5)\n",
       "  (lin1): Sequential(\n",
       "    (0): Sequential(\n",
       "      (0): Linear(in_features=192, out_features=1024, bias=True)\n",
       "      (1): ReLU()\n",
       "      (2): BatchNorm1d(1024, eps=1e-05, momentum=0.1, affine=True, track_running_stats=True)\n",
       "    )\n",
       "  )\n",
       "  (mlp): Sequential(\n",
       "    (0): Sequential(\n",
       "      (0): Sequential(\n",
       "        (0): Linear(in_features=1024, out_features=512, bias=True)\n",
       "        (1): ReLU()\n",
       "        (2): BatchNorm1d(512, eps=1e-05, momentum=0.1, affine=True, track_running_stats=True)\n",
       "      )\n",
       "    )\n",
       "    (1): Sequential(\n",
       "      (0): Sequential(\n",
       "        (0): Linear(in_features=512, out_features=256, bias=True)\n",
       "        (1): ReLU()\n",
       "        (2): BatchNorm1d(256, eps=1e-05, momentum=0.1, affine=True, track_running_stats=True)\n",
       "      )\n",
       "    )\n",
       "    (2): Linear(in_features=256, out_features=2, bias=True)\n",
       "  )\n",
       ")"
      ]
     },
     "execution_count": 124,
     "metadata": {},
     "output_type": "execute_result"
    }
   ],
   "source": [
    "#classifier = get_model(cfg)\n",
    "classifier.load_state_dict(state)\n",
    "classifier.cuda()\n",
    "classifier.eval()"
   ]
  },
  {
   "cell_type": "code",
   "execution_count": 125,
   "metadata": {},
   "outputs": [],
   "source": [
    "def get_sample(cfg, data):\n",
    "    points = gBatch().from_data_list([data['points']])\n",
    "    points = points.to('cuda')\n",
    "    #points = data['points']\n",
    "    if 'bvec' in points.keys:\n",
    "        points.batch = points.bvec.clone()\n",
    "        del points.bvec\n",
    "    if cfg['same_size']:\n",
    "        points['lengths'] = points['lengths'][0].item()\n",
    "    if cfg['with_gt']:\n",
    "        target = points['y']\n",
    "        target = target.to('cuda')\n",
    "        target = target.view(-1, 1)[:, 0]\n",
    "        return points, target\n",
    "    return points"
   ]
  },
  {
   "cell_type": "code",
   "execution_count": null,
   "metadata": {},
   "outputs": [],
   "source": []
  },
  {
   "cell_type": "code",
   "execution_count": null,
   "metadata": {},
   "outputs": [
    {
     "name": "stdout",
     "output_type": "stream",
     "text": [
      "500222\n",
      "506234\n"
     ]
    }
   ],
   "source": [
    "test_preds = []\n",
    "test_proba = []\n",
    "with torch.no_grad():\n",
    "    j = 0\n",
    "    i=0\n",
    "    t0 = time()\n",
    "    while j < len(dataset):\n",
    "        print(dataset.subjects[j])\n",
    "        consumed = False\n",
    "        data = dataset[j]\n",
    "        obj_pred = np.zeros(data['obj_full_size'])\n",
    "        obj_proba = np.zeros(data['obj_full_size'])\n",
    "        obj_cls_embedding = np.zeros((data['obj_full_size'],256))\n",
    "        while not consumed:\n",
    "            #print(i)\n",
    "            points = get_sample(cfg, data)\n",
    "            batch = points.batch\n",
    "\n",
    "            logits = classifier(points)\n",
    "\n",
    "            pred = F.log_softmax(logits, dim=-1)\n",
    "            pred_choice = pred.data.max(1)[1].int()\n",
    "\n",
    "            obj_pred[data['obj_idxs']] = pred_choice.cpu().numpy()\n",
    "            obj_proba[data['obj_idxs']] = F.softmax(logits, dim=-1)[:,0].cpu().numpy()\n",
    "            #obj_cls_embedding[data['obj_idxs']] = classifier.embedding.cpu().numpy()\n",
    "            \n",
    "            #print(len(dataset.remaining[j]))\n",
    "\n",
    "            if len(dataset.remaining[j]) == 0:\n",
    "                consumed = True\n",
    "                break\n",
    "            data = dataset[j]\n",
    "            i+=1\n",
    "\n",
    "        test_preds.append(obj_pred)\n",
    "        test_proba.append(obj_proba)\n",
    "        \n",
    "        s = dataset.subjects[j]\n",
    "        t_dir = os.path.join(dataset.root_dir, 'sub-%s' % s)\n",
    "        out_dir = t_dir.replace('MNI16', 'MNI16CLEAN')\n",
    "        if not os.path.exists(out_dir):\n",
    "            os.makedirs(out_dir)\n",
    "        \n",
    "        fn_out = os.path.join(out_dir, 'sub-%s_P-nP_pred.npy' % s)\n",
    "        np.save(fn_out, obj_pred)\n",
    "        \n",
    "        j += 1\n",
    "\n",
    "#         test_confidence.append(np.vstack(obj_conf))\n",
    "    print('time pred one subj: %f' % (time()-t0))"
   ]
  },
  {
   "cell_type": "markdown",
   "metadata": {},
   "source": [
    "# save pred"
   ]
  },
  {
   "cell_type": "code",
   "execution_count": 130,
   "metadata": {},
   "outputs": [],
   "source": [
    "from nilab import load_trk as ltrk"
   ]
  },
  {
   "cell_type": "code",
   "execution_count": 131,
   "metadata": {},
   "outputs": [
    {
     "data": {
      "text/plain": [
       "<module 'nilab.load_trk' from '/home/pastolfi/src/nilab/load_trk.py'>"
      ]
     },
     "execution_count": 131,
     "metadata": {},
     "output_type": "execute_result"
    }
   ],
   "source": [
    "from importlib import reload\n",
    "reload(nilab.load_trk)"
   ]
  },
  {
   "cell_type": "code",
   "execution_count": 129,
   "metadata": {},
   "outputs": [],
   "source": [
    "save_tract = False"
   ]
  },
  {
   "cell_type": "code",
   "execution_count": null,
   "metadata": {},
   "outputs": [],
   "source": [
    "for i,s in enumerate(dataset.subjects):\n",
    "    print(s)\n",
    "    idxs_P = np.where(test_preds[i]==1)[0]\n",
    "    idxs_nP = np.where(test_preds[i]==0)[0]\n",
    "    \n",
    "    t_dir = os.path.join(dataset.root_dir, 'sub-%s' % s)\n",
    "    t_file = os.path.join(t_dir, 'sub-%s_tract_MNI16.trk' % (s))\n",
    "    t_sl, t_hdr, _, _ = ltrk.load_streamlines(t_file)\n",
    "    \n",
    "    afq_lbls_fns = glob.glob(os.path.join(t_dir, 'sub-%s_*_ss_idxsT.npy' % (s)))\n",
    "    for fn in afq_lbls_fns:\n",
    "        \n",
    "        ss_idxs = np.load(fn)\n",
    "        afq_idxs = np.load(fn.replace('_ss_', '_gt_'))\n",
    "        \n",
    "        # create superset labels for segmentation\n",
    "        ss_lbls = np.zeros(len(ss_idxs))\n",
    "        ss_lbls[:len(afq_idxs)] = 1\n",
    "        \n",
    "        t_ss_lbls = np.zeros(len(t_sl))\n",
    "        t_ss_lbls[ss_idxs] = 1\n",
    "        cleand_t_ss_lbls = np.where(test_preds[i]*t_ss_lbls == 1)[0]\n",
    "        \n",
    "        afq_lbls = np.zeros(len(t_sl))\n",
    "        afq_lbls[afq_idxs] = 1\n",
    "        cleand_afq_lbls = np.where(test_preds[i]*afq_lbls == 1)[0] \n",
    "        \n",
    "        out_dir = t_dir.replace('MNI16', 'MNI16CLEAN')\n",
    "        if not os.path.exists(out_dir):\n",
    "            os.makedirs(out_dir)\n",
    "        \n",
    "        fn_out = fn.replace('_ss_', '_ss_clean_').split('/')[-1]\n",
    "        fn_out = os.path.join(out_dir, fn_out)\n",
    "        np.save(fn_out, cleand_t_ss_lbls)\n",
    "        \n",
    "        fn_out = fn.replace('_ss_', '_gt_clean_').split('/')[-1]\n",
    "        fn_out = os.path.join(out_dir, fn_out)\n",
    "        np.save(fn_out, cleand_afq_lbls)\n",
    "        \n",
    "        fn_out = fn.replace('_ss_idxsT', '_ss_labels').split('/')[-1]\n",
    "        fn_out = os.path.join(out_dir, fn_out)\n",
    "        np.save(fn_out, ss_lbls)\n",
    "\n",
    "        if save_tract:\n",
    "            t_out = nib.streamlines.Tractogram(np.array(t_sl)[cleand_afq_lbls].tolist(), affine_to_rasmm=np.eye(4))\n",
    "            fn_out = fn.replace('_gt_idxs.npy', '_gt_clean_idxs.trk').split('/')[-1]\n",
    "            fn_out = os.path.join(out_dir, fn_out)\n",
    "            nib.streamlines.save(t_out, fn_out, header=t_hdr)"
   ]
  },
  {
   "cell_type": "markdown",
   "metadata": {},
   "source": [
    "# read subjects and classes"
   ]
  },
  {
   "cell_type": "code",
   "execution_count": 21,
   "metadata": {},
   "outputs": [],
   "source": [
    "subjects = [s.strip() for s in open(sub_list).readlines()]"
   ]
  },
  {
   "cell_type": "code",
   "execution_count": 32,
   "metadata": {},
   "outputs": [],
   "source": [
    "class_names = open('/home/pastolfi/datasets/multilap_dataset/afq_classes.txt').readlines()\n",
    "class_names = [c.strip() for c in class_names]"
   ]
  },
  {
   "cell_type": "markdown",
   "metadata": {},
   "source": [
    "# compute GT changes in terms of streamlines"
   ]
  },
  {
   "cell_type": "code",
   "execution_count": null,
   "metadata": {},
   "outputs": [],
   "source": [
    "\n",
    "row_hdr = ['Sub'] + class_names\n",
    "\n",
    "table_num = []\n",
    "table_num.append(row_hdr)\n",
    "\n",
    "table_perc = []\n",
    "table_perc.append(row_hdr)\n",
    "\n",
    "for i,s in enumerate(subjects):\n",
    "    print(s)\n",
    "    t_dir = os.path.join('/home/pastolfi/datasets/multilap_dataset/derivatives/tract_MNI16', 'sub-%s' % s)\n",
    "    t_clean_dir = os.path.join('/home/pastolfi/datasets/multilap_dataset/derivatives/tract_MNI16CLEAN', 'sub-%s' % s)\n",
    "    \n",
    "    row1_num = [s]\n",
    "    row2_num = [s]\n",
    "    row_perc = [s]\n",
    "    for c_name in class_names:\n",
    "        fn = os.path.join(t_dir, 'sub-%s_%s_gt_idxsT.npy' % (s,c_name))\n",
    "        fn_clean = os.path.join(t_clean_dir, 'sub-%s_%s_gt_clean_idxsT.npy' % (s,c_name))\n",
    "\n",
    "        afq_idxs = np.load(fn)\n",
    "        afq_clean_idxs = np.load(fn_clean)\n",
    "        \n",
    "        # update table num streamlines\n",
    "        row1_num.append(len(afq_clean_idxs))\n",
    "        row2_num.append(len(afq_idxs))\n",
    "        row_perc.append(float(len(afq_clean_idxs))/len(afq_idxs))\n",
    "    \n",
    "    table_num.append(row1_num)\n",
    "    table_num.append(row2_num)\n",
    "    table_perc.append(row_perc)\n",
    "\n",
    "with open('/home/pastolfi/datasets/multilap_dataset/table_num.csv', 'w') as f:\n",
    "    f.writelines([','.join([str(i) for i in r]) + '\\n' for r in table_num])\n",
    "    \n",
    "with open('/home/pastolfi/datasets/multilap_dataset/table_perc.csv', 'w') as f:\n",
    "    f.writelines([','.join([str(i) for i in r]) + '\\n' for r in table_perc])"
   ]
  },
  {
   "cell_type": "markdown",
   "metadata": {},
   "source": [
    "# compute SS changes in terms of streamlines"
   ]
  },
  {
   "cell_type": "code",
   "execution_count": 79,
   "metadata": {},
   "outputs": [
    {
     "name": "stdout",
     "output_type": "stream",
     "text": [
      "500222\n",
      "506234\n",
      "510225\n",
      "510326\n",
      "512835\n",
      "513130\n",
      "513736\n",
      "516742\n",
      "517239\n",
      "518746\n",
      "519647\n",
      "519950\n",
      "520228\n",
      "521331\n",
      "524135\n",
      "525541\n",
      "529549\n",
      "530635\n",
      "531536\n",
      "559053\n",
      "569965\n",
      "570243\n",
      "571548\n",
      "572045\n",
      "573249\n",
      "573451\n",
      "576255\n",
      "578057\n",
      "578158\n",
      "579665\n",
      "579867\n",
      "580044\n",
      "580347\n",
      "580650\n",
      "581349\n",
      "581450\n",
      "583858\n",
      "599469\n",
      "720337\n",
      "724446\n",
      "725751\n",
      "727553\n",
      "727654\n",
      "800941\n",
      "803240\n",
      "809252\n",
      "810439\n",
      "810843\n",
      "812746\n",
      "814548\n",
      "814649\n",
      "815247\n",
      "816653\n",
      "818455\n",
      "818859\n",
      "825048\n",
      "825553\n",
      "825654\n",
      "826353\n",
      "826454\n",
      "833148\n",
      "833249\n",
      "835657\n",
      "837560\n",
      "837964\n",
      "841349\n",
      "843151\n",
      "844961\n",
      "845458\n",
      "849264\n",
      "849971\n",
      "852455\n",
      "856463\n",
      "856766\n",
      "857263\n",
      "865363\n",
      "867468\n",
      "869472\n",
      "870861\n",
      "871762\n",
      "871964\n",
      "872158\n",
      "872562\n",
      "872764\n",
      "877269\n",
      "878776\n",
      "882161\n",
      "889579\n",
      "894673\n",
      "896778\n",
      "896879\n",
      "898176\n",
      "899885\n",
      "901038\n",
      "901139\n",
      "901442\n",
      "904044\n",
      "905147\n",
      "907656\n",
      "910241\n",
      "910443\n",
      "911849\n",
      "917255\n",
      "917558\n",
      "919966\n",
      "922854\n",
      "929464\n",
      "932554\n",
      "951457\n",
      "952863\n",
      "957974\n",
      "965367\n",
      "971160\n",
      "972566\n",
      "973770\n",
      "978578\n",
      "979984\n",
      "983773\n",
      "987074\n",
      "989987\n",
      "990366\n",
      "991267\n",
      "992673\n",
      "993675\n",
      "994273\n",
      "995174\n",
      "996782\n"
     ]
    }
   ],
   "source": [
    "\n",
    "row_hdr = ['Sub'] + class_names\n",
    "\n",
    "table_num = []\n",
    "table_num.append(row_hdr)\n",
    "\n",
    "table_perc = []\n",
    "table_perc.append(row_hdr)\n",
    "\n",
    "for i,s in enumerate(subjects):\n",
    "    print(s)\n",
    "    t_dir = os.path.join('/home/pastolfi/datasets/multilap_dataset/derivatives/tract_MNI16', 'sub-%s' % s)\n",
    "    t_clean_dir = os.path.join('/home/pastolfi/datasets/multilap_dataset/derivatives/tract_MNI16CLEAN', 'sub-%s' % s)\n",
    "    \n",
    "    row1_num = [s]\n",
    "    row2_num = [s]\n",
    "    row_perc = [s]\n",
    "    for c_name in class_names:\n",
    "        fn = os.path.join(t_dir, 'sub-%s_%s_ss_idxsT.npy' % (s,c_name))\n",
    "        fn_clean = os.path.join(t_clean_dir, 'sub-%s_%s_ss_clean_idxsT.npy' % (s,c_name))\n",
    "\n",
    "        afq_idxs = np.load(fn)\n",
    "        afq_clean_idxs = np.load(fn_clean)\n",
    "        \n",
    "        # update table num streamlines\n",
    "        row1_num.append(len(afq_clean_idxs))\n",
    "        row2_num.append(len(afq_idxs))\n",
    "        row_perc.append(float(len(afq_clean_idxs))/len(afq_idxs))\n",
    "    \n",
    "    table_num.append(row1_num)\n",
    "    table_num.append(row2_num)\n",
    "    table_perc.append(row_perc)\n",
    "\n",
    "with open('/home/pastolfi/datasets/multilap_dataset/table_num_ss.csv', 'w') as f:\n",
    "    f.writelines([','.join([str(i) for i in r]) + '\\n' for r in table_num])\n",
    "    \n",
    "with open('/home/pastolfi/datasets/multilap_dataset/table_perc_ss.csv', 'w') as f:\n",
    "    f.writelines([','.join([str(i) for i in r]) + '\\n' for r in table_perc])"
   ]
  },
  {
   "cell_type": "markdown",
   "metadata": {},
   "source": [
    "# whole tractograms impact"
   ]
  },
  {
   "cell_type": "code",
   "execution_count": 22,
   "metadata": {},
   "outputs": [
    {
     "name": "stdout",
     "output_type": "stream",
     "text": [
      "53.28 pm 0.81\n"
     ]
    }
   ],
   "source": [
    "T_impact = []\n",
    "for i,s in enumerate(subjects):\n",
    "    t_clean_dir = os.path.join('/home/pastolfi/datasets/multilap_dataset/derivatives/tract_MNI16CLEAN', 'sub-%s' % s)\n",
    "    fn = os.path.join(t_clean_dir, 'sub-%s_P-nP_pred.npy' % (s))\n",
    "    lbls = np.load(fn)\n",
    "    T_impact.append(lbls.sum() / float(len(lbls)))\n",
    "\n",
    "T_impact = np.array(T_impact)\n",
    "print('%.2f pm %.2f' % (T_impact.mean()*100, T_impact.std()*100))"
   ]
  },
  {
   "cell_type": "markdown",
   "metadata": {},
   "source": [
    "# plot table perc GT"
   ]
  },
  {
   "cell_type": "code",
   "execution_count": 113,
   "metadata": {},
   "outputs": [],
   "source": [
    "lines = open('/home/pastolfi/datasets/multilap_dataset/table_perc.csv', 'r').readlines()\n",
    "x_ticks = lines[0].split(',')[1:]\n",
    "# remove header row and col\n",
    "mat_num = np.array([[float(x) for x in l.split(',')[1:]] for l in lines[1:]])"
   ]
  },
  {
   "cell_type": "code",
   "execution_count": 114,
   "metadata": {},
   "outputs": [],
   "source": [
    "# load ss stats\n",
    "lines = open('/home/pastolfi/datasets/multilap_dataset/table_perc_ss.csv', 'r').readlines()\n",
    "# remove header row and col\n",
    "mat_num_ss = np.array([[float(x) for x in l.split(',')[1:]] for l in lines[1:]])"
   ]
  },
  {
   "cell_type": "code",
   "execution_count": 115,
   "metadata": {},
   "outputs": [],
   "source": [
    "X = np.arange(len(class_names))\n",
    "Y = mat_num.mean(axis=0)\n",
    "Y_err = mat_num.std(axis=0)\n",
    "\n",
    "Y2 = mat_num_ss.mean(axis=0)\n",
    "Y2_err = mat_num_ss.std(axis=0)\n",
    "\n",
    "T_mu = T_impact.mean()\n",
    "T_std = T_impact.std()"
   ]
  },
  {
   "cell_type": "code",
   "execution_count": 116,
   "metadata": {},
   "outputs": [],
   "source": [
    "from matplotlib import pyplot as plt"
   ]
  },
  {
   "cell_type": "code",
   "execution_count": 118,
   "metadata": {},
   "outputs": [
    {
     "data": {
      "image/png": "[encoded data removed]",
      "text/plain": [
       "<Figure size 720x576 with 1 Axes>"
      ]
     },
     "metadata": {
      "needs_background": "light"
     },
     "output_type": "display_data"
    }
   ],
   "source": [
    "fig, ax = plt.subplots(figsize=(10,8))\n",
    "gt_bar = ax.bar(X - 0.2, Y, yerr=Y_err, capsize=3, alpha=0.5, label='bundle', width=0.4)\n",
    "ss_bar = ax.bar(X + 0.2 , Y2, yerr=Y2_err, capsize=3, alpha=0.5, color='orange', label='superset', width=0.4)\n",
    "t_plot = ax.plot([-0.5, len(X)], [T_mu]*2, '-r', label='tractogram')\n",
    "ax.fill_between([-0.5, len(X)], T_mu+T_std, T_mu-T_std, facecolor='r', alpha=0.2)\n",
    "ax.set_xticks(X)\n",
    "ax.set_xticklabels(x_ticks, rotation=90)\n",
    "ax.set_xlim(0-0.5,len(X)-0.5)\n",
    "plt.legend(bbox_to_anchor=(1.05, 1), loc='upper left', borderaxespad=0.)\n",
    "plt.show()"
   ]
  },
  {
   "cell_type": "markdown",
   "metadata": {},
   "source": [
    "###### compute dsc"
   ]
  },
  {
   "cell_type": "code",
   "execution_count": 190,
   "metadata": {},
   "outputs": [],
   "source": [
    "from dipy.tracking.vox2track import streamline_mapping\n",
    "from dipy.tracking.utils import _mapping_to_voxel, _to_voxel_coordinates, subsegment\n",
    "\n",
    "def dsc_vox(pred, gt, affine, resample=False):\n",
    "    \"\"\"Ratio of overlap between tract \"pred\" and gt tract (in voxels).\n",
    "    \"\"\"\n",
    "    voxel_size = abs(affine[0,0])\n",
    "    if resample:\n",
    "        pred_streamlines = subsegment(pred,\n",
    "                                max_segment_length=voxel_size/5)\n",
    "        gt_streamlines = subsegment(gt,\n",
    "                                max_segment_length=voxel_size/5) \n",
    "    else:\n",
    "        pred_streamlines = pred\n",
    "        gt_streamlines = gt\n",
    "    voxel_list_pred = streamline_mapping(pred_streamlines, \n",
    "                                        affine=affine).keys()\n",
    "    voxel_list_gt = streamline_mapping(gt_streamlines, \n",
    "                                        affine=affine).keys()\n",
    "    tp = len(set(voxel_list_pred).intersection(set(voxel_list_gt)))\n",
    "    vol_A = len(set(voxel_list_pred))\n",
    "    vol_B = len(set(voxel_list_gt))\n",
    "    dsc = 2.0 * float(tp) / float(vol_A + vol_B)\n",
    "\n",
    "    return dsc"
   ]
  },
  {
   "cell_type": "code",
   "execution_count": 194,
   "metadata": {},
   "outputs": [],
   "source": [
    "class_names = open('/home/pastolfi/datasets/multilap_dataset/afq_classes.txt').readlines()\n",
    "class_names = [c.strip() for c in class_names]\n",
    "row_hdr = ['Sub'] + class_names\n",
    "\n",
    "table_dsc = []\n",
    "table_dsc.append(row_hdr)\n",
    "\n",
    "for i,s in enumerate(dataset.subjects):\n",
    "    t0 = time()\n",
    "    t_dir = os.path.join('/home/pastolfi/datasets/multilap_dataset/derivatives/tract_MNI16', 'sub-%s' % s)\n",
    "    t_clean_dir = os.path.join('/home/pastolfi/datasets/multilap_dataset/derivatives/tract_MNI16CLEAN', 'sub-%s' % s)\n",
    "    \n",
    "    t_file = os.path.join(t_dir, 'sub-%s_tract_MNI16.trk' % (s))\n",
    "    t, t_hdr, _, _ = ltrk.load_streamlines(t_file)\n",
    "    \n",
    "    row_dsc = [s]\n",
    "    for c_name in class_names:\n",
    "        fn = os.path.join(t_dir, 'sub-%s_%s_gt_idxsT.npy' % (s,c_name))\n",
    "        fn_clean = os.path.join(t_clean_dir, 'sub-%s_%s_gt_clean_idxsT.npy' % (s,c_name))\n",
    "        \n",
    "        afq_idxs = np.load(fn)\n",
    "        afq_clean_idxs = np.load(fn_clean)\n",
    "        \n",
    "        b = np.array(t)[afq_idxs]\n",
    "        b_clean = np.array(t)[afq_clean_idxs]\n",
    "        # compute dsc\n",
    "        dsc = dsc_vox(b_clean, b, t_hdr['voxel_to_rasmm'], resample=True)\n",
    "        \n",
    "        # update table num streamlines\n",
    "        row_dsc.append(round(dsc,4))\n",
    "\n",
    "    table_dsc.append(row_dsc)\n",
    "    with open('/home/pastolfi/datasets/multilap_dataset/table_dsc.csv', 'w') as f:\n",
    "        f.writelines([','.join([str(i) for i in r]) + '\\n' for r in table_dsc])"
   ]
  },
  {
   "cell_type": "markdown",
   "metadata": {},
   "source": [
    "# plot DSC"
   ]
  },
  {
   "cell_type": "code",
   "execution_count": 74,
   "metadata": {},
   "outputs": [],
   "source": [
    "lines = open('/home/pastolfi/datasets/multilap_dataset/table_dsc.csv', 'r').readlines()\n",
    "x_ticks = lines[0].split(',')[1:]\n",
    "# remove header row and col\n",
    "mat_num = np.array([[float(x) for x in l.split(',')[1:]] for l in lines[1:]])"
   ]
  },
  {
   "cell_type": "code",
   "execution_count": 75,
   "metadata": {},
   "outputs": [],
   "source": [
    "X = range(len(class_names))\n",
    "Y = mat_num.mean(axis=0)\n",
    "Y_err = mat_num.std(axis=0)"
   ]
  },
  {
   "cell_type": "code",
   "execution_count": 76,
   "metadata": {},
   "outputs": [],
   "source": [
    "from matplotlib import pyplot as plt"
   ]
  },
  {
   "cell_type": "code",
   "execution_count": 78,
   "metadata": {},
   "outputs": [
    {
     "data": {
      "image/png": "[encoded data removed]",
      "text/plain": [
       "<Figure size 720x576 with 1 Axes>"
      ]
     },
     "metadata": {
      "needs_background": "light"
     },
     "output_type": "display_data"
    }
   ],
   "source": [
    "fig, ax = plt.subplots(figsize=(10,8))\n",
    "ax.bar(X,Y, yerr=Y_err, capsize=3, alpha=0.5)\n",
    "ax.set_xticks(X)\n",
    "ax.set_xticklabels(x_ticks, rotation=90)\n",
    "ax.set_xlim(0-0.5,len(X)-0.5)\n",
    "ax.set_ylim(0.5,1)\n",
    "plt.show()"
   ]
  },
  {
   "cell_type": "code",
   "execution_count": 189,
   "metadata": {},
   "outputs": [
    {
     "data": {
      "text/plain": [
       "['500222',\n",
       " 0.9530683683900747,\n",
       " 0.9334054969879518,\n",
       " 0.98438708328979,\n",
       " 0.9799454267142889,\n",
       " 0.9295081551378637,\n",
       " 0.9191260638033146,\n",
       " 0.822805168875825,\n",
       " 0.7983870967741935,\n",
       " 0.9409944515578318,\n",
       " 0.8524287863347406,\n",
       " 0.9819651218748329,\n",
       " 0.9675706993204096]"
      ]
     },
     "execution_count": 189,
     "metadata": {},
     "output_type": "execute_result"
    }
   ],
   "source": [
    "row_dsc"
   ]
  },
  {
   "cell_type": "code",
   "execution_count": 186,
   "metadata": {},
   "outputs": [
    {
     "data": {
      "text/plain": [
       "['500222',\n",
       " 0.953314564640593,\n",
       " 0.9346592220017534,\n",
       " 0.9844633351215285,\n",
       " 0.9802865028256013,\n",
       " 0.9305387147063918,\n",
       " 0.9201964693867626,\n",
       " 0.8263246197975862,\n",
       " 0.8008703360464179,\n",
       " 0.9419696105377794,\n",
       " 0.8546368291295278,\n",
       " 0.9818361584036792,\n",
       " 0.9676429053846626]"
      ]
     },
     "execution_count": 186,
     "metadata": {},
     "output_type": "execute_result"
    }
   ],
   "source": [
    "row_dsc"
   ]
  },
  {
   "cell_type": "code",
   "execution_count": 83,
   "metadata": {},
   "outputs": [],
   "source": [
    "fn = glob.glob(os.path.join(t_dir, 'sub-%s_LeftArcuate*_gt_idxs.npy' % (s)))[0]\n",
    "afq_idxs = np.load(fn)"
   ]
  },
  {
   "cell_type": "code",
   "execution_count": 84,
   "metadata": {},
   "outputs": [],
   "source": [
    "t_out = nib.streamlines.Tractogram(np.array(t_sl)[afq_idxs].tolist(), affine_to_rasmm=np.eye(4))\n",
    "nib.streamlines.save(t_out, '/home/pastolfi/datasets/multilap_dataset/sub-510225_LeftArcuateMNI16.trk', header=t_hdr)"
   ]
  },
  {
   "cell_type": "code",
   "execution_count": 81,
   "metadata": {},
   "outputs": [
    {
     "data": {
      "text/plain": [
       "tensor(0.7953, dtype=torch.float64)"
      ]
     },
     "execution_count": 81,
     "metadata": {},
     "output_type": "execute_result"
    }
   ],
   "source": [
    "torch.tensor(test_proba).squeeze()[idxs_nP].topk(250)[0][-1]"
   ]
  },
  {
   "cell_type": "code",
   "execution_count": 82,
   "metadata": {},
   "outputs": [],
   "source": [
    "idxs_tmp = torch.tensor(test_proba).squeeze()[idxs_nP].topk(250)[1]\n",
    "idxs_np_topk = idxs_nP[idxs_tmp]"
   ]
  },
  {
   "cell_type": "code",
   "execution_count": 43,
   "metadata": {},
   "outputs": [
    {
     "data": {
      "text/plain": [
       "tensor(-0.3396, dtype=torch.float64)"
      ]
     },
     "execution_count": 43,
     "metadata": {},
     "output_type": "execute_result"
    }
   ],
   "source": [
    "torch.tensor(test_proba).squeeze()[idxs_nP].mean()"
   ]
  },
  {
   "cell_type": "code",
   "execution_count": 101,
   "metadata": {},
   "outputs": [],
   "source": [
    "idxs_P = np.where(test_preds[0]==1)[0]\n",
    "idxs_nP = np.where(test_preds[0]==0)[0]"
   ]
  },
  {
   "cell_type": "code",
   "execution_count": 102,
   "metadata": {},
   "outputs": [
    {
     "data": {
      "text/plain": [
       "178131"
      ]
     },
     "execution_count": 102,
     "metadata": {},
     "output_type": "execute_result"
    }
   ],
   "source": [
    "len(idxs_nP)"
   ]
  },
  {
   "cell_type": "code",
   "execution_count": null,
   "metadata": {},
   "outputs": [],
   "source": []
  },
  {
   "cell_type": "code",
   "execution_count": null,
   "metadata": {},
   "outputs": [],
   "source": []
  },
  {
   "cell_type": "code",
   "execution_count": 83,
   "metadata": {},
   "outputs": [],
   "source": [
    "t_old = nib.streamlines.load(fn)\n",
    "t_clean = t_old.streamlines[idxs_P]\n",
    "t_nP = t_old.streamlines[idxs_nP]\n",
    "t_nP_topk = t_old.streamlines[idxs_np_topk]\n",
    "# nib.streamlines.save(nib.streamlines.Tractogram(t_clean, affine_to_rasmm=np.eye(4)), '/home/pietro/599469_CC_cleaned.trk', header=t_old.header)\n",
    "nib.streamlines.save(nib.streamlines.Tractogram(t_nP_topk, affine_to_rasmm=np.eye(4)), '/home/pietro/599469_AF_left_nP_MNI.trk', header=t_old.header)"
   ]
  },
  {
   "cell_type": "code",
   "execution_count": 84,
   "metadata": {},
   "outputs": [],
   "source": [
    "t_old = nib.streamlines.load('/home/pietro/datasets/TractSeg_new/ground_truth_trk/sub-599469/sub-599469_var-GT_AF_left.trk')\n",
    "t_clean = t_old.streamlines[idxs_P]\n",
    "t_nP = t_old.streamlines[idxs_nP]\n",
    "t_nP_topk = t_old.streamlines[idxs_np_topk]\n",
    "# nib.streamlines.save(nib.streamlines.Tractogram(t_clean, affine_to_rasmm=np.eye(4)), '/home/pietro/599469_CC_cleaned.trk', header=t_old.header)\n",
    "nib.streamlines.save(nib.streamlines.Tractogram(t_nP_topk, affine_to_rasmm=np.eye(4)), '/home/pietro/599469_AF_left_nP.trk', header=t_old.header)"
   ]
  }
 ],
 "metadata": {
  "kernelspec": {
   "display_name": "Python 3",
   "language": "python",
   "name": "python3"
  },
  "language_info": {
   "codemirror_mode": {
    "name": "ipython",
    "version": 3
   },
   "file_extension": ".py",
   "mimetype": "text/x-python",
   "name": "python",
   "nbconvert_exporter": "python",
   "pygments_lexer": "ipython3",
   "version": "3.8.2"
  }
 },
 "nbformat": 4,
 "nbformat_minor": 4
}
