{
 "cells": [
  {
   "cell_type": "code",
   "execution_count": 1,
   "metadata": {},
   "outputs": [],
   "source": [
    "from dipy.tracking.streamline import set_number_of_points\n",
    "import numpy as np\n",
    "import nibabel as nib\n",
    "import glob\n",
    "import os\n",
    "import random\n",
    "import pickle\n",
    "import torch\n",
    "from sklearn.linear_model import LogisticRegression\n",
    "from sklearn.model_selection import cross_validate\n",
    "from nilab.load_trk import load_streamlines\n",
    "from sklearn.model_selection import LeaveOneGroupOut\n",
    "from sklearn.neighbors import KNeighborsClassifier\n",
    "from dipy.tracking.streamline import length\n",
    "from __future__ import print_function, division"
   ]
  },
  {
   "cell_type": "code",
   "execution_count": 2,
   "metadata": {},
   "outputs": [],
   "source": [
    "def save_trk(streamlines, out_file, affine, vox_sizes, dim, vox_order='LAS'):\n",
    "    \"\"\"\n",
    "    This function saves tracts in Trackvis '.trk' format.\n",
    "    \"\"\"\n",
    "    # Create a new header with the correct affine \n",
    "    hdr = nib.streamlines.trk.TrkFile.create_empty_header()\n",
    "    hdr['voxel_sizes'] = vox_sizes\n",
    "    hdr['voxel_order'] = vox_order\n",
    "    hdr['dimensions'] = dim\n",
    "    hdr['voxel_to_rasmm'] = affine\n",
    "    hdr['nb_streamlines'] = len(streamlines)\n",
    "\n",
    "    t = nib.streamlines.tractogram.Tractogram(streamlines=streamlines, affine_to_rasmm=np.eye(4))\n",
    "    nib.streamlines.save(t, out_file, header=hdr)"
   ]
  },
  {
   "cell_type": "markdown",
   "metadata": {},
   "source": [
    "# Loading data"
   ]
  },
  {
   "cell_type": "code",
   "execution_count": null,
   "metadata": {},
   "outputs": [],
   "source": []
  },
  {
   "cell_type": "code",
   "execution_count": 89,
   "metadata": {},
   "outputs": [],
   "source": [
    "t_file_ref = '/home/ruben/Downloads/Subjects/Subject_20_FeMa/TRK/Tractography/Subject_20_FeMa_dti_det.trk'\n",
    "trct_ref = nib.streamlines.load(t_file_ref)\n",
    "#X_test_gin = list(trct_gin.streamlines)"
   ]
  },
  {
   "cell_type": "code",
   "execution_count": 3,
   "metadata": {},
   "outputs": [],
   "source": [
    "t_file_s014 = '/home/ruben/Thesis/data/sub-105014/sub-105014_var-HCP_full_tract.trk'\n",
    "trct_s014 = nib.streamlines.load(t_file_s014)\n",
    "X_test_s014 = list(trct_s014.streamlines)"
   ]
  },
  {
   "cell_type": "code",
   "execution_count": 4,
   "metadata": {},
   "outputs": [],
   "source": [
    "t_file_s115 = '/home/ruben/Thesis/data/sub-105115/sub-105115_var-HCP_full_tract.trk'\n",
    "trct_s115 = nib.streamlines.load(t_file_s115)\n",
    "X_test_s115 = list(trct_s115.streamlines)"
   ]
  },
  {
   "cell_type": "code",
   "execution_count": 5,
   "metadata": {},
   "outputs": [],
   "source": [
    "t_file_s216 = '/home/ruben/Thesis/data/sub-105216/sub-105216_var-HCP_full_tract.trk'\n",
    "trct_s216 = nib.streamlines.load(t_file_s216)\n",
    "X_test_s216 = trct_s216.streamlines"
   ]
  },
  {
   "cell_type": "code",
   "execution_count": 3,
   "metadata": {},
   "outputs": [],
   "source": [
    "t_file_s620 = '/home/ruben/Thesis/data/sub-105620/sub-105620_var-HCP_full_tract.trk'\n",
    "trct_s620 = nib.streamlines.load(t_file_s620)\n",
    "X_test_s620 = list(trct_s620.streamlines)"
   ]
  },
  {
   "cell_type": "code",
   "execution_count": 11,
   "metadata": {},
   "outputs": [],
   "source": [
    "lengths_s620 = list(length(sls_pl_620))"
   ]
  },
  {
   "cell_type": "code",
   "execution_count": 12,
   "metadata": {},
   "outputs": [
    {
     "data": {
      "text/plain": [
       "19.106583467484338"
      ]
     },
     "execution_count": 12,
     "metadata": {},
     "output_type": "execute_result"
    }
   ],
   "source": [
    "min(lengths_s620)"
   ]
  },
  {
   "cell_type": "code",
   "execution_count": 7,
   "metadata": {},
   "outputs": [],
   "source": [
    "idxs_pl = []\n",
    "for i,l in enumerate(y_test_s620_sdeq):\n",
    "    if l==1:\n",
    "        idxs_pl.append(i)"
   ]
  },
  {
   "cell_type": "code",
   "execution_count": 9,
   "metadata": {},
   "outputs": [],
   "source": [
    "sls_pl_620 = []\n",
    "for i in idxs_pl:\n",
    "    sls_pl_620.append(X_test_s620[i])"
   ]
  },
  {
   "cell_type": "code",
   "execution_count": 10,
   "metadata": {},
   "outputs": [
    {
     "data": {
      "text/plain": [
       "457355"
      ]
     },
     "execution_count": 10,
     "metadata": {},
     "output_type": "execute_result"
    }
   ],
   "source": [
    "len(sls_pl_620)"
   ]
  },
  {
   "cell_type": "code",
   "execution_count": 16,
   "metadata": {},
   "outputs": [],
   "source": [
    "t_file_s620_orig = '/home/ruben/labdata/ExTractor_PRIVATE/derivatives/merge_shuffle_trk/sub-105620/sub-105620_var-HCP_full_tract.trk'\n",
    "trct_s620_orig = nib.streamlines.load(t_file_s620_orig)\n",
    "X_test_s620_orig = list(trct_s620_orig.streamlines)"
   ]
  },
  {
   "cell_type": "code",
   "execution_count": 17,
   "metadata": {},
   "outputs": [],
   "source": [
    "sls_pl_620_orig = []\n",
    "for i in idxs_pl:\n",
    "    sls_pl_620_orig.append(X_test_s620_orig[i])"
   ]
  },
  {
   "cell_type": "code",
   "execution_count": 18,
   "metadata": {},
   "outputs": [],
   "source": [
    "lengths_s620_orig = list(length(sls_pl_620_orig))"
   ]
  },
  {
   "cell_type": "code",
   "execution_count": 19,
   "metadata": {},
   "outputs": [
    {
     "data": {
      "text/plain": [
       "20.00019569602895"
      ]
     },
     "execution_count": 19,
     "metadata": {},
     "output_type": "execute_result"
    }
   ],
   "source": [
    "min(lengths_s620_orig)"
   ]
  },
  {
   "cell_type": "code",
   "execution_count": 6,
   "metadata": {},
   "outputs": [],
   "source": [
    "y_pred_s014_sdeq = np.load('/home/ruben/Thesis/data/sub-105014/y_pred_sDEC_k5_16pts_fs8000.npy',allow_pickle=True)\n",
    "y_test_s014_sdeq = np.load('/home/ruben/Thesis/data/sub-105014/y_test_dec.npy',allow_pickle=True)\n",
    "\n",
    "y_pred_s115_sdeq = np.load('/home/ruben/Thesis/data/sub-105115/y_pred_sDEC_k5_16pts_fs8000.npy',allow_pickle=True)\n",
    "y_test_s115_sdeq = np.load('/home/ruben/Thesis/data/sub-105115/y_test_dec.npy',allow_pickle=True)\n",
    "\n",
    "y_pred_s216_sdeq = np.load('/home/ruben/Thesis/data/sub-105216/y_pred_sDEC_k5_16pts_fs8000.npy',allow_pickle=True)\n",
    "y_test_s216_sdeq = np.load('/home/ruben/Thesis/data/sub-105216/y_test_dec.npy',allow_pickle=True)\n",
    "\n",
    "y_pred_s620_sdeq = np.load('/home/ruben/Thesis/data/sub-105620/y_pred_sDEC_k5_16pts_fs8000.npy',allow_pickle=True)\n",
    "y_test_s620_sdeq = np.load('/home/ruben/Thesis/data/sub-105620/y_test_dec.npy',allow_pickle=True)"
   ]
  },
  {
   "cell_type": "code",
   "execution_count": 8,
   "metadata": {},
   "outputs": [],
   "source": [
    "y_pred_s014_gcn = np.load('/home/ruben/Thesis/data/sub-105014/y_pred_gcn_resampled16.npy',allow_pickle=True)\n",
    "y_test_s014_gcn = np.load('/home/ruben/Thesis/data/sub-105014/y_test_gcn_resampled16.npy',allow_pickle=True)\n",
    "\n",
    "y_pred_s115_gcn = np.load('/home/ruben/Thesis/data/sub-105115/y_pred_gcn_resampled16.npy',allow_pickle=True)\n",
    "y_test_s115_gcn = np.load('/home/ruben/Thesis/data/sub-105115/y_test_gcn_resampled16.npy',allow_pickle=True)\n",
    "\n",
    "y_pred_s216_gcn = np.load('/home/ruben/Thesis/data/sub-105216/y_pred_gcn_resampled16.npy',allow_pickle=True)\n",
    "y_test_s216_gcn = np.load('/home/ruben/Thesis/data/sub-105216/y_test_gcn_resampled16.npy',allow_pickle=True)\n",
    "\n",
    "y_pred_s620_gcn = np.load('/home/ruben/Thesis/data/sub-105620/y_pred_gcn_resampled16.npy',allow_pickle=True)\n",
    "y_test_s620_gcn = np.load('/home/ruben/Thesis/data/sub-105620/y_test_gcn_resampled16.npy',allow_pickle=True)"
   ]
  },
  {
   "cell_type": "code",
   "execution_count": 9,
   "metadata": {},
   "outputs": [],
   "source": [
    "y_pred_s014_blstm = np.load('/home/ruben/Thesis/data/sub-105014/y_pred_blstm_more_pars.npy',allow_pickle=True)\n",
    "y_test_s014_blstm = np.load('/home/ruben/Thesis/data/sub-105014/y_test_blstm_more_pars.npy',allow_pickle=True)\n",
    "\n",
    "y_pred_s115_blstm = np.load('/home/ruben/Thesis/data/sub-105115/y_pred_blstm_more_pars.npy',allow_pickle=True)\n",
    "y_test_s115_blstm = np.load('/home/ruben/Thesis/data/sub-105115/y_test_blstm_more_pars.npy',allow_pickle=True)\n",
    "\n",
    "y_pred_s216_blstm = np.load('/home/ruben/Thesis/data/sub-105216/y_pred_blstm_more_pars.npy',allow_pickle=True)\n",
    "y_test_s216_blstm = np.load('/home/ruben/Thesis/data/sub-105216/y_test_blstm_more_pars.npy',allow_pickle=True)\n",
    "\n",
    "y_pred_s620_blstm = np.load('/home/ruben/Thesis/data/sub-105620/y_pred_blstm_more_pars.npy',allow_pickle=True)\n",
    "y_test_s620_blstm = np.load('/home/ruben/Thesis/data/sub-105620/y_test_blstm_more_pars.npy',allow_pickle=True)"
   ]
  },
  {
   "cell_type": "code",
   "execution_count": 28,
   "metadata": {},
   "outputs": [],
   "source": [
    "y_pred_s014_dec = np.load('/home/ruben/Thesis/data/sub-105014/y_pred_dec_16pnts.npy',allow_pickle=True)\n",
    "y_test_s014_dec = np.load('/home/ruben/Thesis/data/sub-105014/y_test_dec_16pnts.npy',allow_pickle=True)\n",
    "\n",
    "y_pred_s115_dec = np.load('/home/ruben/Thesis/data/sub-105115/y_pred_dec_16pnts.npy',allow_pickle=True)\n",
    "y_test_s115_dec = np.load('/home/ruben/Thesis/data/sub-105115/y_test_dec_16pnts.npy',allow_pickle=True)\n",
    "\n",
    "y_pred_s216_dec = np.load('/home/ruben/Thesis/data/sub-105216/y_pred_dec_16pnts.npy',allow_pickle=True)\n",
    "y_test_s216_dec = np.load('/home/ruben/Thesis/data/sub-105216/y_test_dec_16pnts.npy',allow_pickle=True)\n",
    "\n",
    "y_pred_s620_dec = np.load('/home/ruben/Thesis/data/sub-105620/y_pred_dec_16pnts.npy',allow_pickle=True)\n",
    "y_test_s620_dec = np.load('/home/ruben/Thesis/data/sub-105620/y_test_dec_16pnts.npy',allow_pickle=True)"
   ]
  },
  {
   "cell_type": "code",
   "execution_count": 7,
   "metadata": {},
   "outputs": [],
   "source": [
    "y_pred_s014_pn = np.load('/home/ruben/Thesis/data/sub-105014/y_pred_PNwithBN_16pts.npy',allow_pickle=True)\n",
    "y_test_s014_pn = np.load('/home/ruben/Thesis/data/sub-105014/y_test_PNwithBN_16pts.npy',allow_pickle=True)\n",
    "\n",
    "y_pred_s115_pn = np.load('/home/ruben/Thesis/data/sub-105115/y_pred_PNwithBN_16pts.npy',allow_pickle=True)\n",
    "y_test_s115_pn = np.load('/home/ruben/Thesis/data/sub-105115/y_test_PNwithBN_16pts.npy',allow_pickle=True)\n",
    "\n",
    "y_pred_s216_pn = np.load('/home/ruben/Thesis/data/sub-105216/y_pred_PNwithBN_16pts.npy',allow_pickle=True)\n",
    "y_test_s216_pn = np.load('/home/ruben/Thesis/data/sub-105216/y_test_PNwithBN_16pts.npy',allow_pickle=True)\n",
    "\n",
    "y_pred_s620_pn = np.load('/home/ruben/Thesis/data/sub-105620/y_pred_PNwithBN_16pts.npy',allow_pickle=True)\n",
    "y_test_s620_pn = np.load('/home/ruben/Thesis/data/sub-105620/y_test_PNwithBN_16pts.npy',allow_pickle=True)"
   ]
  },
  {
   "cell_type": "markdown",
   "metadata": {},
   "source": [
    "# Preprocessing data"
   ]
  },
  {
   "cell_type": "code",
   "execution_count": 13,
   "metadata": {},
   "outputs": [],
   "source": [
    "from dipy.tracking import metrics as tm\n",
    "curve_014 = []\n",
    "for s in range(len(X_test_s014)):\n",
    "    curve_014.append(tm.mean_curvature(X_test_s014[s]))\n",
    "\n",
    "curve_115 = []\n",
    "for s in range(len(X_test_s115)):\n",
    "    curve_115.append(tm.mean_curvature(X_test_s115[s]))\n",
    "    \n",
    "curve_216 = []\n",
    "for s in range(len(X_test_s216)):\n",
    "    curve_216.append(tm.mean_curvature(X_test_s216[s]))\n",
    "    \n",
    "curve_620 = []\n",
    "for s in range(len(X_test_s620)):\n",
    "    curve_620.append(tm.mean_curvature(X_test_s620[s]))"
   ]
  },
  {
   "cell_type": "code",
   "execution_count": 223,
   "metadata": {},
   "outputs": [],
   "source": [
    "for i in curve_014:\n",
    "    if i < 0:\n",
    "        frequencies_tot_s014[0]+=1\n",
    "    if i > .3:\n",
    "        frequencies_tot_s014[2]+=1\n",
    "for i in curve_115:\n",
    "    if i < 0:\n",
    "        frequencies_tot_s115[0]+=1\n",
    "    if i > .3:\n",
    "        frequencies_tot_s115[2]+=1\n",
    "        \n",
    "for i in curve_216:\n",
    "    if i < 0:\n",
    "        frequencies_tot_s216[0]+=1\n",
    "    if i > .3:\n",
    "        frequencies_tot_s216[2]+=1\n",
    "        \n",
    "for i in curve_620:\n",
    "    if i < 0:\n",
    "        frequencies_tot_s620[0]+=1\n",
    "    if i > .3:\n",
    "        frequencies_tot_s620[2]+=1"
   ]
  },
  {
   "cell_type": "code",
   "execution_count": 19,
   "metadata": {},
   "outputs": [],
   "source": [
    "lengths_s014 = list(length(X_test_s014))\n",
    "lengths_s115 = list(length(X_test_s115))\n",
    "lengths_s216 = list(length(X_test_s216))\n",
    "lengths_s620 = list(length(X_test_s620))"
   ]
  },
  {
   "cell_type": "code",
   "execution_count": 14,
   "metadata": {},
   "outputs": [],
   "source": [
    "def create_bins(lower_bound, width, quantity):\n",
    "    \"\"\" create_bins returns an equal-width (distance) partitioning. \n",
    "        It returns an ascending list of tuples, representing the intervals.\n",
    "        A tuple bins[i], i.e. (bins[i][0], bins[i][1])  with i > 0 \n",
    "        and i < quantity, satisfies the following conditions:\n",
    "            (1) bins[i][0] + width == bins[i][1]\n",
    "            (2) bins[i-1][0] + width == bins[i][0] and\n",
    "                bins[i-1][1] + width == bins[i][1]\n",
    "    \"\"\"\n",
    "    \n",
    "    bins = []\n",
    "    for low in range(lower_bound, \n",
    "                     lower_bound + quantity*width + 1, width):\n",
    "        bins.append((low, low+width))\n",
    "    return bins"
   ]
  },
  {
   "cell_type": "code",
   "execution_count": 190,
   "metadata": {},
   "outputs": [],
   "source": [
    "bins = create_bins(lower_bound=0,\n",
    "                  width=100,\n",
    "                  quantity=2)"
   ]
  },
  {
   "cell_type": "code",
   "execution_count": 220,
   "metadata": {},
   "outputs": [],
   "source": [
    "bins = [(0,.1),(.1,.2),(.2,.3)]"
   ]
  },
  {
   "cell_type": "code",
   "execution_count": 221,
   "metadata": {},
   "outputs": [],
   "source": [
    "def find_bin(value, bins):\n",
    "    \"\"\" bins is a list of tuples, like [(0,20), (20, 40), (40, 60)],\n",
    "        binning returns the smallest index i of bins so that\n",
    "        bin[i][0] <= value < bin[i][1]\n",
    "    \"\"\"\n",
    "    \n",
    "    for i in range(0, len(bins)):\n",
    "        if bins[i][0] <= value < bins[i][1]:\n",
    "            return i\n",
    "    return -1"
   ]
  },
  {
   "cell_type": "code",
   "execution_count": 222,
   "metadata": {},
   "outputs": [],
   "source": [
    "from collections import Counter\n",
    "binned_curve_tot_s014 = []\n",
    "for value in curve_014:\n",
    "    bin_index = find_bin(value, bins)\n",
    "    #print(value, bin_index, bins[bin_index])\n",
    "    binned_curve_tot_s014.append(bin_index)\n",
    "    \n",
    "frequencies_tot_s014 = Counter(binned_curve_tot_s014)\n",
    "\n",
    "binned_curve_tot_s115 = []\n",
    "for value in curve_115:\n",
    "    bin_index = find_bin(value, bins)\n",
    "    #print(value, bin_index, bins[bin_index])\n",
    "    binned_curve_tot_s115.append(bin_index)\n",
    "    \n",
    "frequencies_tot_s115 = Counter(binned_curve_tot_s115)\n",
    "\n",
    "binned_curve_tot_s216 = []\n",
    "for value in curve_216:\n",
    "    bin_index = find_bin(value, bins)\n",
    "    #print(value, bin_index, bins[bin_index])\n",
    "    binned_curve_tot_s216.append(bin_index)\n",
    "    \n",
    "frequencies_tot_s216 = Counter(binned_curve_tot_s216)\n",
    "\n",
    "binned_curve_tot_s620 = []\n",
    "for value in curve_620:\n",
    "    bin_index = find_bin(value, bins)\n",
    "    #print(value, bin_index, bins[bin_index])\n",
    "    binned_curve_tot_s620.append(bin_index)\n",
    "    \n",
    "frequencies_tot_s620 = Counter(binned_curve_tot_s620)"
   ]
  },
  {
   "cell_type": "code",
   "execution_count": 225,
   "metadata": {},
   "outputs": [],
   "source": [
    "del frequencies_tot_s620[-1]\n",
    "del frequencies_tot_s014[-1]\n",
    "del frequencies_tot_s115[-1]\n",
    "del frequencies_tot_s216[-1]"
   ]
  },
  {
   "cell_type": "code",
   "execution_count": 226,
   "metadata": {},
   "outputs": [
    {
     "data": {
      "text/plain": [
       "Counter({0: 672480, 1: 244436, 2: 16815})"
      ]
     },
     "execution_count": 226,
     "metadata": {},
     "output_type": "execute_result"
    }
   ],
   "source": [
    "frequencies_tot_s620"
   ]
  },
  {
   "cell_type": "code",
   "execution_count": 60,
   "metadata": {},
   "outputs": [],
   "source": [
    "from collections import Counter\n",
    "binned_lengths_tot_s014 = []\n",
    "for value in lengths_s014:\n",
    "    bin_index = find_bin(value, bins)\n",
    "    #print(value, bin_index, bins[bin_index])\n",
    "    binned_lengths_tot_s014.append(bin_index)\n",
    "    \n",
    "frequencies_tot_s014 = Counter(binned_lengths_tot_s014)\n",
    "\n",
    "binned_lengths_tot_s115 = []\n",
    "for value in lengths_s115:\n",
    "    bin_index = find_bin(value, bins)\n",
    "    #print(value, bin_index, bins[bin_index])\n",
    "    binned_lengths_tot_s115.append(bin_index)\n",
    "    \n",
    "frequencies_tot_s115 = Counter(binned_lengths_tot_s115)\n",
    "\n",
    "binned_lengths_tot_s216 = []\n",
    "for value in lengths_s216:\n",
    "    bin_index = find_bin(value, bins)\n",
    "    #print(value, bin_index, bins[bin_index])\n",
    "    binned_lengths_tot_s216.append(bin_index)\n",
    "    \n",
    "frequencies_tot_s216 = Counter(binned_lengths_tot_s216)\n",
    "\n",
    "binned_lengths_tot_s620 = []\n",
    "for value in lengths_s620:\n",
    "    bin_index = find_bin(value, bins)\n",
    "    #print(value, bin_index, bins[bin_index])\n",
    "    binned_lengths_tot_s620.append(bin_index)\n",
    "    \n",
    "frequencies_tot_s620 = Counter(binned_lengths_tot_s620)"
   ]
  },
  {
   "cell_type": "code",
   "execution_count": 21,
   "metadata": {},
   "outputs": [
    {
     "ename": "NameError",
     "evalue": "name 'y_test_s014' is not defined",
     "output_type": "error",
     "traceback": [
      "\u001b[0;31m---------------------------------------------------------------------------\u001b[0m",
      "\u001b[0;31mNameError\u001b[0m                                 Traceback (most recent call last)",
      "\u001b[0;32m<ipython-input-21-0c4e590474ea>\u001b[0m in \u001b[0;36m<module>\u001b[0;34m()\u001b[0m\n\u001b[1;32m      1\u001b[0m \u001b[0midxs_s014\u001b[0m \u001b[0;34m=\u001b[0m \u001b[0;34m[\u001b[0m\u001b[0;34m]\u001b[0m\u001b[0;34m\u001b[0m\u001b[0m\n\u001b[0;32m----> 2\u001b[0;31m \u001b[0;32mfor\u001b[0m \u001b[0mi\u001b[0m\u001b[0;34m,\u001b[0m\u001b[0mitem\u001b[0m \u001b[0;32min\u001b[0m \u001b[0menumerate\u001b[0m\u001b[0;34m(\u001b[0m\u001b[0my_test_s014\u001b[0m\u001b[0;34m)\u001b[0m\u001b[0;34m:\u001b[0m\u001b[0;34m\u001b[0m\u001b[0m\n\u001b[0m\u001b[1;32m      3\u001b[0m     \u001b[0;32mif\u001b[0m \u001b[0my_test_s014\u001b[0m\u001b[0;34m[\u001b[0m\u001b[0mi\u001b[0m\u001b[0;34m]\u001b[0m\u001b[0;34m==\u001b[0m\u001b[0my_pred_s014\u001b[0m\u001b[0;34m[\u001b[0m\u001b[0mi\u001b[0m\u001b[0;34m]\u001b[0m\u001b[0;34m:\u001b[0m\u001b[0;34m\u001b[0m\u001b[0m\n\u001b[1;32m      4\u001b[0m         \u001b[0midxs_s014\u001b[0m\u001b[0;34m.\u001b[0m\u001b[0mappend\u001b[0m\u001b[0;34m(\u001b[0m\u001b[0mi\u001b[0m\u001b[0;34m)\u001b[0m\u001b[0;34m\u001b[0m\u001b[0m\n\u001b[1;32m      5\u001b[0m \u001b[0;34m\u001b[0m\u001b[0m\n",
      "\u001b[0;31mNameError\u001b[0m: name 'y_test_s014' is not defined"
     ]
    }
   ],
   "source": [
    "idxs_s014 = []\n",
    "for i,item in enumerate(y_test_s014):\n",
    "    if y_test_s014[i]==y_pred_s014[i]:\n",
    "        idxs_s014.append(i)\n",
    "\n",
    "idxs_s115 = []\n",
    "for i,item in enumerate(y_test_s115):\n",
    "    if y_test_s115[i]==y_pred_s115[i]:\n",
    "        idxs_s115.append(i)\n",
    "        \n",
    "idxs_s216 = []\n",
    "for i,item in enumerate(y_test_s216):\n",
    "    if y_test_s216[i]==y_pred_s216[i]:\n",
    "        idxs_s216.append(i)\n",
    "        \n",
    "idxs_s620 = []\n",
    "for i,item in enumerate(y_test_s620):\n",
    "    if y_test_s620[i]==y_pred_s620[i]:\n",
    "        idxs_s620.append(i)"
   ]
  },
  {
   "cell_type": "code",
   "execution_count": 61,
   "metadata": {},
   "outputs": [],
   "source": [
    "idxs_s014_wrong_sdeq = []\n",
    "for i,item in enumerate(y_test_s014_sdeq):\n",
    "    if y_test_s014_sdeq[i]!=y_pred_s014_sdeq[i]:\n",
    "        idxs_s014_wrong_sdeq.append(i)\n",
    "\n",
    "idxs_s115_wrong_sdeq = []\n",
    "for i,item in enumerate(y_test_s115_sdeq):\n",
    "    if y_test_s115_sdeq[i]!=y_pred_s115_sdeq[i]:\n",
    "        idxs_s115_wrong_sdeq.append(i)\n",
    "        \n",
    "idxs_s216_wrong_sdeq = []\n",
    "for i,item in enumerate(y_test_s216_sdeq):\n",
    "    if y_test_s216_sdeq[i]!=y_pred_s216_sdeq[i]:\n",
    "        idxs_s216_wrong_sdeq.append(i)\n",
    "        \n",
    "idxs_s620_wrong_sdeq = []\n",
    "for i,item in enumerate(y_test_s620_sdeq):\n",
    "    if y_test_s620_sdeq[i]!=y_pred_s620_sdeq[i]:\n",
    "        idxs_s620_wrong_sdeq.append(i)"
   ]
  },
  {
   "cell_type": "code",
   "execution_count": 62,
   "metadata": {},
   "outputs": [],
   "source": [
    "idxs_s014_wrong_pn = []\n",
    "for i,item in enumerate(y_test_s014_pn):\n",
    "    if y_test_s014_pn[i]!=y_pred_s014_pn[i]:\n",
    "        idxs_s014_wrong_pn.append(i)\n",
    "\n",
    "idxs_s115_wrong_pn = []\n",
    "for i,item in enumerate(y_test_s115_pn):\n",
    "    if y_test_s115_pn[i]!=y_pred_s115_pn[i]:\n",
    "        idxs_s115_wrong_pn.append(i)\n",
    "        \n",
    "idxs_s216_wrong_pn = []\n",
    "for i,item in enumerate(y_test_s216_pn):\n",
    "    if y_test_s216_pn[i]!=y_pred_s216_pn[i]:\n",
    "        idxs_s216_wrong_pn.append(i)\n",
    "        \n",
    "idxs_s620_wrong_pn = []\n",
    "for i,item in enumerate(y_test_s620_pn):\n",
    "    if y_test_s620_pn[i]!=y_pred_s620_pn[i]:\n",
    "        idxs_s620_wrong_pn.append(i)"
   ]
  },
  {
   "cell_type": "code",
   "execution_count": 29,
   "metadata": {},
   "outputs": [],
   "source": [
    "idxs_s014_wrong_dec = []\n",
    "for i,item in enumerate(y_test_s014_dec):\n",
    "    if y_test_s014_dec[i]!=y_pred_s014_dec[i]:\n",
    "        idxs_s014_wrong_dec.append(i)\n",
    "\n",
    "idxs_s115_wrong_dec = []\n",
    "for i,item in enumerate(y_test_s115_dec):\n",
    "    if y_test_s115_dec[i]!=y_pred_s115_dec[i]:\n",
    "        idxs_s115_wrong_dec.append(i)\n",
    "        \n",
    "idxs_s216_wrong_dec = []\n",
    "for i,item in enumerate(y_test_s216_dec):\n",
    "    if y_test_s216_dec[i]!=y_pred_s216_dec[i]:\n",
    "        idxs_s216_wrong_dec.append(i)\n",
    "        \n",
    "idxs_s620_wrong_dec = []\n",
    "for i,item in enumerate(y_test_s620_dec):\n",
    "    if y_test_s620_dec[i]!=y_pred_s620_dec[i]:\n",
    "        idxs_s620_wrong_dec.append(i)"
   ]
  },
  {
   "cell_type": "code",
   "execution_count": 44,
   "metadata": {},
   "outputs": [],
   "source": [
    "avg_mistake_models = (len(idxs_s014_wrong_pn)+len(idxs_s014_wrong_sdeq)+len(idxs_s115_wrong_pn)+len(idxs_s115_wrong_sdeq)+\n",
    "                     len(idxs_s216_wrong_pn)+len(idxs_s216_wrong_sdeq)+len(idxs_s620_wrong_pn)+len(idxs_s620_wrong_sdeq))/8"
   ]
  },
  {
   "cell_type": "code",
   "execution_count": 253,
   "metadata": {},
   "outputs": [],
   "source": [
    "same_mistake_014 = len(list(set(idxs_s014_wrong_pn).intersection(idxs_s014_wrong_sdeq)))\n",
    "same_mistake_115 = len(list(set(idxs_s115_wrong_pn).intersection(idxs_s115_wrong_sdeq)))\n",
    "same_mistake_216 = len(list(set(idxs_s216_wrong_pn).intersection(idxs_s216_wrong_sdeq)))\n",
    "same_mistake_620 = len(list(set(idxs_s620_wrong_pn).intersection(idxs_s620_wrong_sdeq)))"
   ]
  },
  {
   "cell_type": "code",
   "execution_count": 266,
   "metadata": {},
   "outputs": [
    {
     "data": {
      "text/plain": [
       "28726"
      ]
     },
     "execution_count": 266,
     "metadata": {},
     "output_type": "execute_result"
    }
   ],
   "source": [
    "same_mistake_014"
   ]
  },
  {
   "cell_type": "code",
   "execution_count": 255,
   "metadata": {},
   "outputs": [],
   "source": [
    "avg_same_mistakes = (same_mistake_014+same_mistake_115+same_mistake_216+same_mistake_620)/4"
   ]
  },
  {
   "cell_type": "code",
   "execution_count": 256,
   "metadata": {},
   "outputs": [
    {
     "data": {
      "text/plain": [
       "55.56052159819258"
      ]
     },
     "execution_count": 256,
     "metadata": {},
     "output_type": "execute_result"
    }
   ],
   "source": [
    "avg_same_mistakes/avg_mistake_models*100"
   ]
  },
  {
   "cell_type": "code",
   "execution_count": 261,
   "metadata": {},
   "outputs": [],
   "source": [
    "common_mistakes_014 = list(set(idxs_s014_wrong_pn).intersection(idxs_s014_wrong_sdeq))"
   ]
  },
  {
   "cell_type": "code",
   "execution_count": 267,
   "metadata": {},
   "outputs": [],
   "source": [
    "common_error_sls_014 = []\n",
    "for i in common_mistakes_014:\n",
    "    common_error_sls_014.append(X_test_s014[i])"
   ]
  },
  {
   "cell_type": "code",
   "execution_count": 268,
   "metadata": {},
   "outputs": [],
   "source": [
    "common_error_lengths = list(length(common_error_sls_014))"
   ]
  },
  {
   "cell_type": "code",
   "execution_count": 269,
   "metadata": {},
   "outputs": [
    {
     "data": {
      "text/plain": [
       "28726"
      ]
     },
     "execution_count": 269,
     "metadata": {},
     "output_type": "execute_result"
    }
   ],
   "source": [
    "len(common_error_lengths)"
   ]
  },
  {
   "cell_type": "code",
   "execution_count": 270,
   "metadata": {},
   "outputs": [],
   "source": [
    "bin3_common_err_length = []\n",
    "for i in common_error_lengths:\n",
    "    if i > 200:\n",
    "        bin3_common_err_length.append(i)"
   ]
  },
  {
   "cell_type": "code",
   "execution_count": 272,
   "metadata": {},
   "outputs": [
    {
     "data": {
      "text/plain": [
       "177"
      ]
     },
     "execution_count": 272,
     "metadata": {},
     "output_type": "execute_result"
    }
   ],
   "source": [
    "len(bin3_common_err_length)"
   ]
  },
  {
   "cell_type": "code",
   "execution_count": 274,
   "metadata": {},
   "outputs": [],
   "source": [
    "common_error_curve = []\n",
    "for s in range(len(common_error_sls_014)):\n",
    "    common_error_curve.append(tm.mean_curvature(common_error_sls_014[s]))"
   ]
  },
  {
   "cell_type": "code",
   "execution_count": 275,
   "metadata": {},
   "outputs": [],
   "source": [
    "bin3_common_err_curve = []\n",
    "for i in common_error_curve:\n",
    "    if i >.2:\n",
    "        bin3_common_err_curve.append(i)"
   ]
  },
  {
   "cell_type": "code",
   "execution_count": 276,
   "metadata": {},
   "outputs": [
    {
     "data": {
      "text/plain": [
       "444"
      ]
     },
     "execution_count": 276,
     "metadata": {},
     "output_type": "execute_result"
    }
   ],
   "source": [
    "len(bin3_common_err_curve)"
   ]
  },
  {
   "cell_type": "code",
   "execution_count": null,
   "metadata": {},
   "outputs": [],
   "source": []
  },
  {
   "cell_type": "code",
   "execution_count": null,
   "metadata": {},
   "outputs": [],
   "source": []
  },
  {
   "cell_type": "code",
   "execution_count": null,
   "metadata": {},
   "outputs": [],
   "source": []
  },
  {
   "cell_type": "code",
   "execution_count": null,
   "metadata": {},
   "outputs": [],
   "source": []
  },
  {
   "cell_type": "code",
   "execution_count": 35,
   "metadata": {},
   "outputs": [],
   "source": [
    "idxs_s014_correct_gcn = []\n",
    "for i,item in enumerate(y_test_s014_gcn):\n",
    "    if y_test_s014_gcn[i]==y_pred_s014_gcn[i]:\n",
    "        idxs_s014_correct_gcn.append(i)\n",
    "\n",
    "idxs_s115_correct_gcn = []\n",
    "for i,item in enumerate(y_test_s115_gcn):\n",
    "    if y_test_s115_gcn[i]==y_pred_s115_gcn[i]:\n",
    "        idxs_s115_correct_gcn.append(i)\n",
    "        \n",
    "idxs_s216_correct_gcn = []\n",
    "for i,item in enumerate(y_test_s216_gcn):\n",
    "    if y_test_s216_gcn[i]==y_pred_s216_gcn[i]:\n",
    "        idxs_s216_correct_gcn.append(i)\n",
    "        \n",
    "idxs_s620_correct_gcn = []\n",
    "for i,item in enumerate(y_test_s620_gcn):\n",
    "    if y_test_s620_gcn[i]==y_pred_s620_gcn[i]:\n",
    "        idxs_s620_correct_gcn.append(i)"
   ]
  },
  {
   "cell_type": "code",
   "execution_count": 64,
   "metadata": {},
   "outputs": [],
   "source": [
    "idxs_s014_correct_sdeq = []\n",
    "for i,item in enumerate(y_test_s014_sdeq):\n",
    "    if y_test_s014_sdeq[i]==y_pred_s014_sdeq[i]:\n",
    "        idxs_s014_correct_sdeq.append(i)\n",
    "\n",
    "idxs_s115_correct_sdeq = []\n",
    "for i,item in enumerate(y_test_s115_sdeq):\n",
    "    if y_test_s115_sdeq[i]==y_pred_s115_sdeq[i]:\n",
    "        idxs_s115_correct_sdeq.append(i)\n",
    "        \n",
    "idxs_s216_correct_sdeq = []\n",
    "for i,item in enumerate(y_test_s216_sdeq):\n",
    "    if y_test_s216_sdeq[i]==y_pred_s216_sdeq[i]:\n",
    "        idxs_s216_correct_sdeq.append(i)\n",
    "        \n",
    "idxs_s620_correct_sdeq = []\n",
    "for i,item in enumerate(y_test_s620_sdeq):\n",
    "    if y_test_s620_sdeq[i]==y_pred_s620_sdeq[i]:\n",
    "        idxs_s620_correct_sdeq.append(i)"
   ]
  },
  {
   "cell_type": "code",
   "execution_count": 37,
   "metadata": {},
   "outputs": [],
   "source": [
    "idxs_s014_correct_blstm = []\n",
    "for i,item in enumerate(y_test_s014_blstm):\n",
    "    if y_test_s014_blstm[i]==y_pred_s014_blstm[i]:\n",
    "        idxs_s014_correct_blstm.append(i)\n",
    "\n",
    "idxs_s115_correct_blstm = []\n",
    "for i,item in enumerate(y_test_s115_blstm):\n",
    "    if y_test_s115_blstm[i]==y_pred_s115_blstm[i]:\n",
    "        idxs_s115_correct_blstm.append(i)\n",
    "        \n",
    "idxs_s216_correct_blstm = []\n",
    "for i,item in enumerate(y_test_s216_blstm):\n",
    "    if y_test_s216_blstm[i]==y_pred_s216_blstm[i]:\n",
    "        idxs_s216_correct_blstm.append(i)\n",
    "        \n",
    "idxs_s620_correct_blstm = []\n",
    "for i,item in enumerate(y_test_s620_blstm):\n",
    "    if y_test_s620_blstm[i]==y_pred_s620_blstm[i]:\n",
    "        idxs_s620_correct_blstm.append(i)"
   ]
  },
  {
   "cell_type": "code",
   "execution_count": 38,
   "metadata": {},
   "outputs": [],
   "source": [
    "idxs_s014_correct_dec = []\n",
    "for i,item in enumerate(y_test_s014_dec):\n",
    "    if y_test_s014_dec[i]==y_pred_s014_dec[i]:\n",
    "        idxs_s014_correct_dec.append(i)\n",
    "\n",
    "idxs_s115_correct_dec = []\n",
    "for i,item in enumerate(y_test_s115_dec):\n",
    "    if y_test_s115_dec[i]==y_pred_s115_dec[i]:\n",
    "        idxs_s115_correct_dec.append(i)\n",
    "        \n",
    "idxs_s216_correct_dec = []\n",
    "for i,item in enumerate(y_test_s216_dec):\n",
    "    if y_test_s216_dec[i]==y_pred_s216_dec[i]:\n",
    "        idxs_s216_correct_dec.append(i)\n",
    "        \n",
    "idxs_s620_correct_dec = []\n",
    "for i,item in enumerate(y_test_s620_dec):\n",
    "    if y_test_s620_dec[i]==y_pred_s620_dec[i]:\n",
    "        idxs_s620_correct_dec.append(i)"
   ]
  },
  {
   "cell_type": "code",
   "execution_count": 65,
   "metadata": {},
   "outputs": [],
   "source": [
    "idxs_s014_correct_pn = []\n",
    "for i,item in enumerate(y_test_s014_pn):\n",
    "    if y_test_s014_pn[i]==y_pred_s014_pn[i]:\n",
    "        idxs_s014_correct_pn.append(i)\n",
    "\n",
    "idxs_s115_correct_pn = []\n",
    "for i,item in enumerate(y_test_s115_pn):\n",
    "    if y_test_s115_pn[i]==y_pred_s115_pn[i]:\n",
    "        idxs_s115_correct_pn.append(i)\n",
    "        \n",
    "idxs_s216_correct_pn = []\n",
    "for i,item in enumerate(y_test_s216_pn):\n",
    "    if y_test_s216_pn[i]==y_pred_s216_pn[i]:\n",
    "        idxs_s216_correct_pn.append(i)\n",
    "        \n",
    "idxs_s620_correct_pn = []\n",
    "for i,item in enumerate(y_test_s620_pn):\n",
    "    if y_test_s620_pn[i]==y_pred_s620_pn[i]:\n",
    "        idxs_s620_correct_pn.append(i)"
   ]
  },
  {
   "cell_type": "code",
   "execution_count": 67,
   "metadata": {},
   "outputs": [
    {
     "data": {
      "text/plain": [
       "94.54039991708396"
      ]
     },
     "execution_count": 67,
     "metadata": {},
     "output_type": "execute_result"
    }
   ],
   "source": [
    "((len(idxs_s014_correct_pn)/len(X_test_s014)*100)+(len(idxs_s115_correct_pn)/len(X_test_s115)*100)+(len(idxs_s216_correct_pn)/len(X_test_s216)*100)+(len(idxs_s620_correct_pn)/len(X_test_s620)*100))/4"
   ]
  },
  {
   "cell_type": "code",
   "execution_count": 52,
   "metadata": {},
   "outputs": [
    {
     "ename": "NameError",
     "evalue": "name 'idxs_s014_correct' is not defined",
     "output_type": "error",
     "traceback": [
      "\u001b[0;31m---------------------------------------------------------------------------\u001b[0m",
      "\u001b[0;31mNameError\u001b[0m                                 Traceback (most recent call last)",
      "\u001b[0;32m<ipython-input-52-534b1e82e837>\u001b[0m in \u001b[0;36m<module>\u001b[0;34m()\u001b[0m\n\u001b[1;32m      1\u001b[0m \u001b[0msls_correct_s014\u001b[0m \u001b[0;34m=\u001b[0m \u001b[0;34m[\u001b[0m\u001b[0;34m]\u001b[0m\u001b[0;34m\u001b[0m\u001b[0m\n\u001b[0;32m----> 2\u001b[0;31m \u001b[0;32mfor\u001b[0m \u001b[0mi\u001b[0m \u001b[0;32min\u001b[0m \u001b[0midxs_s014_correct\u001b[0m\u001b[0;34m:\u001b[0m\u001b[0;34m\u001b[0m\u001b[0m\n\u001b[0m\u001b[1;32m      3\u001b[0m     \u001b[0msls_correct_s014\u001b[0m\u001b[0;34m.\u001b[0m\u001b[0mappend\u001b[0m\u001b[0;34m(\u001b[0m\u001b[0mX_test_s014\u001b[0m\u001b[0;34m[\u001b[0m\u001b[0mi\u001b[0m\u001b[0;34m]\u001b[0m\u001b[0;34m)\u001b[0m\u001b[0;34m\u001b[0m\u001b[0m\n\u001b[1;32m      4\u001b[0m \u001b[0msls_correct_s115\u001b[0m \u001b[0;34m=\u001b[0m \u001b[0;34m[\u001b[0m\u001b[0;34m]\u001b[0m\u001b[0;34m\u001b[0m\u001b[0m\n\u001b[1;32m      5\u001b[0m \u001b[0;32mfor\u001b[0m \u001b[0mi\u001b[0m \u001b[0;32min\u001b[0m \u001b[0midxs_s115_correct\u001b[0m\u001b[0;34m:\u001b[0m\u001b[0;34m\u001b[0m\u001b[0m\n",
      "\u001b[0;31mNameError\u001b[0m: name 'idxs_s014_correct' is not defined"
     ]
    }
   ],
   "source": [
    "sls_correct_s014 = []\n",
    "for i in idxs_s014_correct:\n",
    "    sls_correct_s014.append(X_test_s014[i])\n",
    "sls_correct_s115 = []\n",
    "for i in idxs_s115_correct:\n",
    "    sls_correct_s115.append(X_test_s115[i])\n",
    "sls_correct_s216 = []\n",
    "for i in idxs_s216_correct:\n",
    "    sls_correct_s216.append(X_test_s216[i])\n",
    "sls_correct_s620 = []\n",
    "for i in idxs_s620_correct:\n",
    "    sls_correct_s620.append(X_test_s620[i])"
   ]
  },
  {
   "cell_type": "code",
   "execution_count": 324,
   "metadata": {},
   "outputs": [],
   "source": [
    "sls_wrong_s014 = []\n",
    "for i in idxs_s014_wrong:\n",
    "    sls_wrong_s014.append(X_test_s014[i])\n",
    "sls_wrong_s115 = []\n",
    "for i in idxs_s115_wrong:\n",
    "    sls_wrong_s115.append(X_test_s115[i])\n",
    "sls_wrong_s216 = []\n",
    "for i in idxs_s216_wrong:\n",
    "    sls_wrong_s216.append(X_test_s216[i])\n",
    "sls_wrong_s620 = []\n",
    "for i in idxs_s620_wrong:\n",
    "    sls_wrong_s620.append(X_test_s620[i])"
   ]
  },
  {
   "cell_type": "code",
   "execution_count": 108,
   "metadata": {},
   "outputs": [],
   "source": [
    "t_file_s014 = '/home/ruben/Thesis/data/sub-105014/sub-105014_var-HCP_full_tract.trk'\n",
    "trct_s014 = nib.streamlines.load(t_file_s014)\n",
    "sls_s014 = list(trct_s014.streamlines)"
   ]
  },
  {
   "cell_type": "code",
   "execution_count": null,
   "metadata": {},
   "outputs": [],
   "source": []
  },
  {
   "cell_type": "code",
   "execution_count": 21,
   "metadata": {},
   "outputs": [],
   "source": [
    "out_fname = '/home/ruben/Thesis/data/sub-105620/plausible_resampled16_trct.trk'\n",
    "vox_sizes = trct_s620.header['voxel_sizes']\n",
    "dim = trct_s620.header['dimensions']\n",
    "save_trk(sls_pl_620, out_fname, trct_s620.affine, vox_sizes, dim, vox_order='LAS')"
   ]
  },
  {
   "cell_type": "code",
   "execution_count": 53,
   "metadata": {},
   "outputs": [],
   "source": [
    "curve_correct_s014_sdeq = []\n",
    "for i in idxs_s014_correct_sdeq:\n",
    "    curve_correct_s014_sdeq.append((i,curve_014[i]))\n",
    "    \n",
    "curve_correct_s115_sdeq = []\n",
    "for i in idxs_s115_correct_sdeq:\n",
    "    curve_correct_s115_sdeq.append((i,curve_115[i]))\n",
    "    \n",
    "curve_correct_s216_sdeq = []\n",
    "for i in idxs_s216_correct_sdeq:\n",
    "    curve_correct_s216_sdeq.append((i,curve_216[i]))\n",
    "    \n",
    "curve_correct_s620_sdeq = []\n",
    "for i in idxs_s620_correct_sdeq:\n",
    "    curve_correct_s620_sdeq.append((i,curve_620[i]))"
   ]
  },
  {
   "cell_type": "code",
   "execution_count": 54,
   "metadata": {},
   "outputs": [],
   "source": [
    "curve_correct_s014_pn = []\n",
    "for i in idxs_s014_correct_pn:\n",
    "    curve_correct_s014_pn.append((i,curve_014[i]))\n",
    "    \n",
    "curve_correct_s115_pn = []\n",
    "for i in idxs_s115_correct_pn:\n",
    "    curve_correct_s115_pn.append((i,curve_115[i]))\n",
    "    \n",
    "curve_correct_s216_pn = []\n",
    "for i in idxs_s216_correct_pn:\n",
    "    curve_correct_s216_pn.append((i,curve_216[i]))\n",
    "    \n",
    "curve_correct_s620_pn = []\n",
    "for i in idxs_s620_correct_pn:\n",
    "    curve_correct_s620_pn.append((i,curve_620[i]))"
   ]
  },
  {
   "cell_type": "code",
   "execution_count": 55,
   "metadata": {},
   "outputs": [],
   "source": [
    "curve_wrong_s014_sdeq = []\n",
    "for i in idxs_s014_wrong_sdeq:\n",
    "    curve_wrong_s014_sdeq.append((i,curve_014[i]))\n",
    "    \n",
    "curve_wrong_s115_sdeq = []\n",
    "for i in idxs_s115_wrong_sdeq:\n",
    "    curve_wrong_s115_sdeq.append((i,curve_115[i]))\n",
    "    \n",
    "curve_wrong_s216_sdeq = []\n",
    "for i in idxs_s216_wrong_sdeq:\n",
    "    curve_wrong_s216_sdeq.append((i,curve_216[i]))\n",
    "    \n",
    "curve_wrong_s620_sdeq = []\n",
    "for i in idxs_s620_wrong_sdeq:\n",
    "    curve_wrong_s620_sdeq.append((i,curve_620[i]))"
   ]
  },
  {
   "cell_type": "code",
   "execution_count": 56,
   "metadata": {},
   "outputs": [],
   "source": [
    "curve_wrong_s014_pn = []\n",
    "for i in idxs_s014_wrong_pn:\n",
    "    curve_wrong_s014_pn.append((i,curve_014[i]))\n",
    "    \n",
    "curve_wrong_s115_pn = []\n",
    "for i in idxs_s115_wrong_pn:\n",
    "    curve_wrong_s115_pn.append((i,curve_115[i]))\n",
    "    \n",
    "curve_wrong_s216_pn = []\n",
    "for i in idxs_s216_wrong_pn:\n",
    "    curve_wrong_s216_pn.append((i,curve_216[i]))\n",
    "    \n",
    "curve_wrong_s620_pn = []\n",
    "for i in idxs_s620_wrong_pn:\n",
    "    curve_wrong_s620_pn.append((i,curve_620[i]))"
   ]
  },
  {
   "cell_type": "code",
   "execution_count": 57,
   "metadata": {},
   "outputs": [
    {
     "ename": "NameError",
     "evalue": "name 'lengths_correct_s014' is not defined",
     "output_type": "error",
     "traceback": [
      "\u001b[0;31m---------------------------------------------------------------------------\u001b[0m",
      "\u001b[0;31mNameError\u001b[0m                                 Traceback (most recent call last)",
      "\u001b[0;32m<ipython-input-57-66ec563d2e05>\u001b[0m in \u001b[0;36m<module>\u001b[0;34m()\u001b[0m\n\u001b[1;32m      1\u001b[0m \u001b[0;32mfrom\u001b[0m \u001b[0mcollections\u001b[0m \u001b[0;32mimport\u001b[0m \u001b[0mCounter\u001b[0m\u001b[0;34m\u001b[0m\u001b[0m\n\u001b[1;32m      2\u001b[0m \u001b[0mbinned_lengths_correct_s014\u001b[0m \u001b[0;34m=\u001b[0m \u001b[0;34m[\u001b[0m\u001b[0;34m]\u001b[0m\u001b[0;34m\u001b[0m\u001b[0m\n\u001b[0;32m----> 3\u001b[0;31m \u001b[0;32mfor\u001b[0m \u001b[0mi\u001b[0m \u001b[0;32min\u001b[0m \u001b[0mrange\u001b[0m\u001b[0;34m(\u001b[0m\u001b[0mlen\u001b[0m\u001b[0;34m(\u001b[0m\u001b[0mlengths_correct_s014\u001b[0m\u001b[0;34m)\u001b[0m\u001b[0;34m)\u001b[0m\u001b[0;34m:\u001b[0m\u001b[0;34m\u001b[0m\u001b[0m\n\u001b[0m\u001b[1;32m      4\u001b[0m     \u001b[0;31m#for value in lengths_wrong_s014[i][1]:\u001b[0m\u001b[0;34m\u001b[0m\u001b[0;34m\u001b[0m\u001b[0m\n\u001b[1;32m      5\u001b[0m     \u001b[0mbin_index\u001b[0m \u001b[0;34m=\u001b[0m \u001b[0mfind_bin\u001b[0m\u001b[0;34m(\u001b[0m\u001b[0mlengths_correct_s014\u001b[0m\u001b[0;34m[\u001b[0m\u001b[0mi\u001b[0m\u001b[0;34m]\u001b[0m\u001b[0;34m[\u001b[0m\u001b[0;36m1\u001b[0m\u001b[0;34m]\u001b[0m\u001b[0;34m,\u001b[0m\u001b[0mbins\u001b[0m\u001b[0;34m)\u001b[0m\u001b[0;34m\u001b[0m\u001b[0m\n",
      "\u001b[0;31mNameError\u001b[0m: name 'lengths_correct_s014' is not defined"
     ]
    }
   ],
   "source": [
    "from collections import Counter\n",
    "binned_lengths_correct_s014 = []\n",
    "for i in range(len(lengths_correct_s014)):\n",
    "    #for value in lengths_wrong_s014[i][1]:\n",
    "    bin_index = find_bin(lengths_correct_s014[i][1],bins)\n",
    "    #if bin_index==5:\n",
    "        #print(lengths_wrong_s014[i][1], bin_index, bins[bin_index])\n",
    "    binned_lengths_correct_s014.append((bin_index,lengths_correct_s014[i][0]))\n",
    "    \n",
    "#frequencies_wrong_s014 = Counter(binned_lengths_wrong_s014)\n",
    "\n",
    "from collections import Counter\n",
    "binned_lengths_correct_s115 = []\n",
    "for i in range(len(lengths_correct_s115)):\n",
    "    #for value in lengths_wrong_s014[i][1]:\n",
    "    bin_index = find_bin(lengths_correct_s115[i][1],bins)\n",
    "    #if bin_index==5:\n",
    "     #   print(lengths_wrong_s115[i][1], bin_index, bins[bin_index])\n",
    "    binned_lengths_correct_s115.append((bin_index,lengths_correct_s115[i][0]))\n",
    "    \n",
    "#frequencies_wrong_s014 = Counter(binned_lengths_wrong_s014)\n",
    "\n",
    "from collections import Counter\n",
    "binned_lengths_correct_s216 = []\n",
    "for i in range(len(lengths_correct_s216)):\n",
    "    #for value in lengths_wrong_s014[i][1]:\n",
    "    bin_index = find_bin(lengths_correct_s216[i][1],bins)\n",
    "    #if bin_index==5:\n",
    "        #print(lengths_wrong_s216[i][1], bin_index, bins[bin_index])\n",
    "    binned_lengths_correct_s216.append((bin_index,lengths_correct_s216[i][0]))\n",
    "    \n",
    "#frequencies_wrong_s014 = Counter(binned_lengths_wrong_s014)\n",
    "\n",
    "from collections import Counter\n",
    "binned_lengths_correct_s620 = []\n",
    "for i in range(len(lengths_correct_s620)):\n",
    "    #for value in lengths_wrong_s014[i][1]:\n",
    "    bin_index = find_bin(lengths_correct_s620[i][1],bins)\n",
    "    #if bin_index==5:\n",
    "        #print(lengths_wrong_s620[i][1], bin_index, bins[bin_index])\n",
    "    binned_lengths_correct_s620.append((bin_index,lengths_correct_s620[i][0]))\n",
    "    \n",
    "#frequencies_wrong_s014 = Counter(binned_lengths_wrong_s014)"
   ]
  },
  {
   "cell_type": "code",
   "execution_count": 127,
   "metadata": {},
   "outputs": [],
   "source": [
    "from collections import Counter\n",
    "binned_lengths_wrong_s014 = []\n",
    "for i in range(len(lengths_wrong_s014)):\n",
    "    #for value in lengths_wrong_s014[i][1]:\n",
    "    bin_index = find_bin(lengths_wrong_s014[i][1],bins)\n",
    "    if bin_index==5:\n",
    "        print(lengths_wrong_s014[i][1], bin_index, bins[bin_index])\n",
    "    binned_lengths_wrong_s014.append((bin_index,lengths_wrong_s014[i][0]))\n",
    "    \n",
    "#frequencies_wrong_s014 = Counter(binned_lengths_wrong_s014)\n",
    "\n",
    "from collections import Counter\n",
    "binned_lengths_wrong_s115 = []\n",
    "for i in range(len(lengths_wrong_s115)):\n",
    "    #for value in lengths_wrong_s014[i][1]:\n",
    "    bin_index = find_bin(lengths_wrong_s115[i][1],bins)\n",
    "    if bin_index==5:\n",
    "        print(lengths_wrong_s115[i][1], bin_index, bins[bin_index])\n",
    "    binned_lengths_wrong_s115.append((bin_index,lengths_wrong_s115[i][0]))\n",
    "    \n",
    "#frequencies_wrong_s014 = Counter(binned_lengths_wrong_s014)\n",
    "\n",
    "from collections import Counter\n",
    "binned_lengths_wrong_s216 = []\n",
    "for i in range(len(lengths_wrong_s216)):\n",
    "    #for value in lengths_wrong_s014[i][1]:\n",
    "    bin_index = find_bin(lengths_wrong_s216[i][1],bins)\n",
    "    if bin_index==5:\n",
    "        print(lengths_wrong_s216[i][1], bin_index, bins[bin_index])\n",
    "    binned_lengths_wrong_s216.append((bin_index,lengths_wrong_s216[i][0]))\n",
    "    \n",
    "#frequencies_wrong_s014 = Counter(binned_lengths_wrong_s014)\n",
    "\n",
    "from collections import Counter\n",
    "binned_lengths_wrong_s620 = []\n",
    "for i in range(len(lengths_wrong_s620)):\n",
    "    #for value in lengths_wrong_s014[i][1]:\n",
    "    bin_index = find_bin(lengths_wrong_s620[i][1],bins)\n",
    "    if bin_index==5:\n",
    "        print(lengths_wrong_s620[i][1], bin_index, bins[bin_index])\n",
    "    binned_lengths_wrong_s620.append((bin_index,lengths_wrong_s620[i][0]))\n",
    "    \n",
    "#frequencies_wrong_s014 = Counter(binned_lengths_wrong_s014)"
   ]
  },
  {
   "cell_type": "code",
   "execution_count": 26,
   "metadata": {},
   "outputs": [],
   "source": [
    "out_fname = '/home/ruben/Thesis/data/sub-t0337/100_random_FP_streamlines.trk'\n",
    "vox_sizes = trct_gin.header['voxel_sizes']\n",
    "dim = trct_gin.header['dimensions']\n",
    "save_trk(fp_trct_gin, out_fname, trct_gin.affine, vox_sizes, dim, vox_order='LAS')"
   ]
  },
  {
   "cell_type": "code",
   "execution_count": 68,
   "metadata": {},
   "outputs": [],
   "source": [
    "pl_014_pn = []\n",
    "np_014_pn = []\n",
    "for i in idxs_s014_correct_pn:\n",
    "    if y_test_s014_pn[i]==0:\n",
    "        np_014_pn.append(X_test_s014[i])\n",
    "    if y_test_s014_pn[i]==1:\n",
    "        pl_014_pn.append(X_test_s014[i])\n",
    "        \n",
    "pl_115_pn = []\n",
    "np_115_pn = []\n",
    "for i in idxs_s115_correct_pn:\n",
    "    if y_test_s115_pn[i]==0:\n",
    "        np_115_pn.append(X_test_s115[i])\n",
    "    if y_test_s115_pn[i]==1:\n",
    "        pl_115_pn.append(X_test_s115[i])\n",
    "        \n",
    "pl_216_pn = []\n",
    "np_216_pn = []\n",
    "for i in idxs_s216_correct_pn:\n",
    "    if y_test_s216_pn[i]==0:\n",
    "        np_216_pn.append(X_test_s216[i])\n",
    "    if y_test_s216_pn[i]==1:\n",
    "        pl_216_pn.append(X_test_s216[i])\n",
    "        \n",
    "pl_620_pn = []\n",
    "np_620_pn = []\n",
    "for i in idxs_s620_correct_pn:\n",
    "    if y_test_s620_pn[i]==0:\n",
    "        np_620_pn.append(X_test_s620[i])\n",
    "    if y_test_s620_pn[i]==1:\n",
    "        pl_620_pn.append(X_test_s620[i])"
   ]
  },
  {
   "cell_type": "code",
   "execution_count": 69,
   "metadata": {},
   "outputs": [],
   "source": [
    "pl_014_sdeq = []\n",
    "np_014_sdeq = []\n",
    "for i in idxs_s014_correct_sdeq:\n",
    "    if y_test_s014_sdeq[i]==0:\n",
    "        np_014_sdeq.append(X_test_s014[i])\n",
    "    if y_test_s014_sdeq[i]==1:\n",
    "        pl_014_sdeq.append(X_test_s014[i])\n",
    "        \n",
    "pl_115_sdeq = []\n",
    "np_115_sdeq = []\n",
    "for i in idxs_s115_correct_sdeq:\n",
    "    if y_test_s115_sdeq[i]==0:\n",
    "        np_115_sdeq.append(X_test_s115[i])\n",
    "    if y_test_s115_sdeq[i]==1:\n",
    "        pl_115_sdeq.append(X_test_s115[i])\n",
    "        \n",
    "pl_216_sdeq = []\n",
    "np_216_sdeq = []\n",
    "for i in idxs_s216_correct_sdeq:\n",
    "    if y_test_s216_sdeq[i]==0:\n",
    "        np_216_sdeq.append(X_test_s216[i])\n",
    "    if y_test_s216_sdeq[i]==1:\n",
    "        pl_216_sdeq.append(X_test_s216[i])\n",
    "        \n",
    "pl_620_sdeq = []\n",
    "np_620_sdeq = []\n",
    "for i in idxs_s620_correct_sdeq:\n",
    "    if y_test_s620_sdeq[i]==0:\n",
    "        np_620_sdeq.append(X_test_s620[i])\n",
    "    if y_test_s620_sdeq[i]==1:\n",
    "        pl_620_sdeq.append(X_test_s620[i])"
   ]
  },
  {
   "cell_type": "code",
   "execution_count": 70,
   "metadata": {},
   "outputs": [],
   "source": [
    "fp_014_pn = []\n",
    "fn_014_pn = []\n",
    "for i in idxs_s014_wrong_pn:\n",
    "    if y_test_s014_pn[i]==0 and y_pred_s014_pn[i]==1:\n",
    "        fp_014_pn.append(X_test_s014[i])\n",
    "    if y_test_s014_pn[i]==1 and y_pred_s014_pn[i]==0:\n",
    "        fn_014_pn.append(X_test_s014[i])\n",
    "        \n",
    "fp_115_pn = []\n",
    "fn_115_pn = []\n",
    "for i in idxs_s115_wrong_pn:\n",
    "    if y_test_s115_pn[i]==0 and y_pred_s115_pn[i]==1:\n",
    "        fp_115_pn.append(X_test_s115[i])\n",
    "    if y_test_s115_pn[i]==1 and y_pred_s115_pn[i]==0:\n",
    "        fn_115_pn.append(X_test_s115[i])\n",
    "        \n",
    "fp_216_pn = []\n",
    "fn_216_pn = []\n",
    "for i in idxs_s216_wrong_pn:\n",
    "    if y_test_s216_pn[i]==0 and y_pred_s216_pn[i]==1:\n",
    "        fp_216_pn.append(X_test_s216[i])\n",
    "    if y_test_s216_pn[i]==1 and y_pred_s216_pn[i]==0:\n",
    "        fn_216_pn.append(X_test_s216[i])\n",
    "        \n",
    "fp_620_pn = []\n",
    "fn_620_pn = []\n",
    "for i in idxs_s620_wrong_pn:\n",
    "    if y_test_s620_pn[i]==0 and y_pred_s620_pn[i]==1:\n",
    "        fp_620_pn.append(X_test_s620[i])\n",
    "    if y_test_s620_pn[i]==1 and y_pred_s620_pn[i]==0:\n",
    "        fn_620_pn.append(X_test_s620[i])"
   ]
  },
  {
   "cell_type": "code",
   "execution_count": 71,
   "metadata": {},
   "outputs": [],
   "source": [
    "fp_014_sdeq = []\n",
    "fn_014_sdeq = []\n",
    "for i in idxs_s014_wrong_sdeq:\n",
    "    if y_test_s014_sdeq[i]==0 and y_pred_s014_sdeq[i]==1:\n",
    "        fp_014_sdeq.append(X_test_s014[i])\n",
    "    if y_test_s014_sdeq[i]==1 and y_pred_s014_sdeq[i]==0:\n",
    "        fn_014_sdeq.append(X_test_s014[i])\n",
    "        \n",
    "fp_115_sdeq = []\n",
    "fn_115_sdeq = []\n",
    "for i in idxs_s115_wrong_sdeq:\n",
    "    if y_test_s115_sdeq[i]==0 and y_pred_s115_sdeq[i]==1:\n",
    "        fp_115_sdeq.append(X_test_s115[i])\n",
    "    if y_test_s115_sdeq[i]==1 and y_pred_s115_sdeq[i]==0:\n",
    "        fn_115_sdeq.append(X_test_s115[i])\n",
    "        \n",
    "fp_216_sdeq = []\n",
    "fn_216_sdeq = []\n",
    "for i in idxs_s216_wrong_sdeq:\n",
    "    if y_test_s216_sdeq[i]==0 and y_pred_s216_sdeq[i]==1:\n",
    "        fp_216_sdeq.append(X_test_s216[i])\n",
    "    if y_test_s216_sdeq[i]==1 and y_pred_s216_sdeq[i]==0:\n",
    "        fn_216_sdeq.append(X_test_s216[i])\n",
    "        \n",
    "fp_620_sdeq = []\n",
    "fn_620_sdeq = []\n",
    "for i in idxs_s620_wrong_sdeq:\n",
    "    if y_test_s620_sdeq[i]==0 and y_pred_s620_sdeq[i]==1:\n",
    "        fp_620_sdeq.append(X_test_s620[i])\n",
    "    if y_test_s620_sdeq[i]==1 and y_pred_s620_sdeq[i]==0:\n",
    "        fn_620_sdeq.append(X_test_s620[i])"
   ]
  },
  {
   "cell_type": "code",
   "execution_count": 187,
   "metadata": {},
   "outputs": [],
   "source": [
    "fn_idxs_014 = []\n",
    "for i in idxs_s014_wrong_pn:\n",
    "    if y_test_s014_pn[i]==1 and y_pred_s014_pn[i]==0:\n",
    "        fn_idxs_014.append(i)\n",
    "        \n",
    "fn_idxs_115 = []\n",
    "for i in idxs_s115_wrong_pn:\n",
    "    if y_test_s115_pn[i]==1 and y_pred_s115_pn[i]==0:\n",
    "        fn_idxs_115.append(i)\n",
    "        \n",
    "fn_idxs_216 = []\n",
    "for i in idxs_s216_wrong_pn:\n",
    "    if y_test_s216_pn[i]==1 and y_pred_s216_pn[i]==0:\n",
    "        fn_idxs_216.append(i)\n",
    "        \n",
    "fn_idxs_620 = []\n",
    "for i in idxs_s620_wrong_pn:\n",
    "    if y_test_s620_pn[i]==1 and y_pred_s620_pn[i]==0:\n",
    "        fn_idxs_620.append(i)"
   ]
  },
  {
   "cell_type": "code",
   "execution_count": 286,
   "metadata": {},
   "outputs": [],
   "source": [
    "out_fname = '/home/ruben/Thesis/data/sub-105620/FN_streamlines_decseq5_bin250-300.trk'\n",
    "vox_sizes = trct_s620.header['voxel_sizes']\n",
    "dim = trct_s620.header['dimensions']\n",
    "save_trk(fn_620_bin5, out_fname, trct_s620.affine, vox_sizes, dim, vox_order='LAS')"
   ]
  },
  {
   "cell_type": "code",
   "execution_count": 72,
   "metadata": {},
   "outputs": [],
   "source": [
    "pl_014_length_pn = length(pl_014_pn)\n",
    "np_014_length_pn = length(np_014_pn)\n",
    "\n",
    "pl_115_length_pn = length(pl_115_pn)\n",
    "np_115_length_pn = length(np_115_pn)\n",
    "\n",
    "pl_216_length_pn = length(pl_216_pn)\n",
    "np_216_length_pn = length(np_216_pn)\n",
    "\n",
    "pl_620_length_pn = length(pl_620_pn)\n",
    "np_620_length_pn = length(np_620_pn)"
   ]
  },
  {
   "cell_type": "code",
   "execution_count": 73,
   "metadata": {},
   "outputs": [],
   "source": [
    "pl_014_length_sdeq = length(pl_014_sdeq)\n",
    "np_014_length_sdeq = length(np_014_sdeq)\n",
    "\n",
    "pl_115_length_sdeq = length(pl_115_sdeq)\n",
    "np_115_length_sdeq = length(np_115_sdeq)\n",
    "\n",
    "pl_216_length_sdeq = length(pl_216_sdeq)\n",
    "np_216_length_sdeq = length(np_216_sdeq)\n",
    "\n",
    "pl_620_length_sdeq = length(pl_620_sdeq)\n",
    "np_620_length_sdeq = length(np_620_sdeq)"
   ]
  },
  {
   "cell_type": "code",
   "execution_count": 74,
   "metadata": {},
   "outputs": [],
   "source": [
    "fp_014_length_pn = length(fp_014_pn)\n",
    "fn_014_length_pn = length(fn_014_pn)\n",
    "\n",
    "fp_115_length_pn = length(fp_115_pn)\n",
    "fn_115_length_pn = length(fn_115_pn)\n",
    "\n",
    "fp_216_length_pn = length(fp_216_pn)\n",
    "fn_216_length_pn = length(fn_216_pn)\n",
    "\n",
    "fp_620_length_pn = length(fp_620_pn)\n",
    "fn_620_length_pn = length(fn_620_pn)"
   ]
  },
  {
   "cell_type": "code",
   "execution_count": 75,
   "metadata": {},
   "outputs": [],
   "source": [
    "fp_014_length_sdeq = length(fp_014_sdeq)\n",
    "fn_014_length_sdeq = length(fn_014_sdeq)\n",
    "\n",
    "fp_115_length_sdeq = length(fp_115_sdeq)\n",
    "fn_115_length_sdeq = length(fn_115_sdeq)\n",
    "\n",
    "fp_216_length_sdeq = length(fp_216_sdeq)\n",
    "fn_216_length_sdeq = length(fn_216_sdeq)\n",
    "\n",
    "fp_620_length_sdeq = length(fp_620_sdeq)\n",
    "fn_620_length_sdeq = length(fn_620_sdeq)"
   ]
  },
  {
   "cell_type": "code",
   "execution_count": 99,
   "metadata": {},
   "outputs": [],
   "source": [
    "from dipy.tracking import metrics as tm\n",
    "pl_014_curve_pn = []\n",
    "for s in range(len(pl_014_pn)):\n",
    "    pl_014_curve_pn.append(tm.mean_curvature(pl_014_pn[s]))\n",
    "np_014_curve_pn = []\n",
    "for s in range(len(np_014_pn)):\n",
    "    np_014_curve_pn.append(tm.mean_curvature(np_014_pn[s]))\n",
    "    \n",
    "from dipy.tracking import metrics as tm\n",
    "pl_115_curve_pn = []\n",
    "for s in range(len(pl_115_pn)):\n",
    "    pl_115_curve_pn.append(tm.mean_curvature(pl_115_pn[s]))\n",
    "np_115_curve_pn = []\n",
    "for s in range(len(np_115_pn)):\n",
    "    np_115_curve_pn.append(tm.mean_curvature(np_115_pn[s]))\n",
    "    \n",
    "from dipy.tracking import metrics as tm\n",
    "pl_216_curve_pn = []\n",
    "for s in range(len(pl_216_pn)):\n",
    "    pl_216_curve_pn.append(tm.mean_curvature(pl_216_pn[s]))\n",
    "np_216_curve_pn = []\n",
    "for s in range(len(np_216_pn)):\n",
    "    np_216_curve_pn.append(tm.mean_curvature(np_216_pn[s]))\n",
    "    \n",
    "from dipy.tracking import metrics as tm\n",
    "pl_620_curve_pn = []\n",
    "for s in range(len(pl_620_pn)):\n",
    "    pl_620_curve_pn.append(tm.mean_curvature(pl_620_pn[s]))\n",
    "np_620_curve_pn = []\n",
    "for s in range(len(np_620_pn)):\n",
    "    np_620_curve_pn.append(tm.mean_curvature(np_620_pn[s]))"
   ]
  },
  {
   "cell_type": "code",
   "execution_count": 100,
   "metadata": {},
   "outputs": [],
   "source": [
    "from dipy.tracking import metrics as tm\n",
    "pl_014_curve_sdeq = []\n",
    "for s in range(len(pl_014_sdeq)):\n",
    "    pl_014_curve_sdeq.append(tm.mean_curvature(pl_014_sdeq[s]))\n",
    "np_014_curve_sdeq = []\n",
    "for s in range(len(np_014_sdeq)):\n",
    "    np_014_curve_sdeq.append(tm.mean_curvature(np_014_sdeq[s]))\n",
    "    \n",
    "from dipy.tracking import metrics as tm\n",
    "pl_115_curve_sdeq = []\n",
    "for s in range(len(pl_115_sdeq)):\n",
    "    pl_115_curve_sdeq.append(tm.mean_curvature(pl_115_sdeq[s]))\n",
    "np_115_curve_sdeq = []\n",
    "for s in range(len(np_115_sdeq)):\n",
    "    np_115_curve_sdeq.append(tm.mean_curvature(np_115_sdeq[s]))\n",
    "    \n",
    "from dipy.tracking import metrics as tm\n",
    "pl_216_curve_sdeq = []\n",
    "for s in range(len(pl_216_sdeq)):\n",
    "    pl_216_curve_sdeq.append(tm.mean_curvature(pl_216_sdeq[s]))\n",
    "np_216_curve_sdeq = []\n",
    "for s in range(len(np_216_sdeq)):\n",
    "    np_216_curve_sdeq.append(tm.mean_curvature(np_216_sdeq[s]))\n",
    "    \n",
    "from dipy.tracking import metrics as tm\n",
    "pl_620_curve_sdeq = []\n",
    "for s in range(len(pl_620_sdeq)):\n",
    "    pl_620_curve_sdeq.append(tm.mean_curvature(pl_620_sdeq[s]))\n",
    "np_620_curve_sdeq = []\n",
    "for s in range(len(np_620_sdeq)):\n",
    "    np_620_curve_sdeq.append(tm.mean_curvature(np_620_sdeq[s]))"
   ]
  },
  {
   "cell_type": "code",
   "execution_count": 101,
   "metadata": {},
   "outputs": [],
   "source": [
    "from dipy.tracking import metrics as tm\n",
    "fn_014_curve_pn = []\n",
    "for s in range(len(fn_014_pn)):\n",
    "    fn_014_curve_pn.append(tm.mean_curvature(fn_014_pn[s]))\n",
    "fp_014_curve_pn = []\n",
    "for s in range(len(fp_014_pn)):\n",
    "    fp_014_curve_pn.append(tm.mean_curvature(fp_014_pn[s]))\n",
    "    \n",
    "from dipy.tracking import metrics as tm\n",
    "fn_115_curve_pn = []\n",
    "for s in range(len(fn_115_pn)):\n",
    "    fn_115_curve_pn.append(tm.mean_curvature(fn_115_pn[s]))\n",
    "fp_115_curve_pn = []\n",
    "for s in range(len(fp_115_pn)):\n",
    "    fp_115_curve_pn.append(tm.mean_curvature(fp_115_pn[s]))\n",
    "    \n",
    "from dipy.tracking import metrics as tm\n",
    "fn_216_curve_pn = []\n",
    "for s in range(len(fn_216_pn)):\n",
    "    fn_216_curve_pn.append(tm.mean_curvature(fn_216_pn[s]))\n",
    "fp_216_curve_pn = []\n",
    "for s in range(len(fp_216_pn)):\n",
    "    fp_216_curve_pn.append(tm.mean_curvature(fp_216_pn[s]))\n",
    "    \n",
    "from dipy.tracking import metrics as tm\n",
    "fn_620_curve_pn = []\n",
    "for s in range(len(fn_620_pn)):\n",
    "    fn_620_curve_pn.append(tm.mean_curvature(fn_620_pn[s]))\n",
    "fp_620_curve_pn = []\n",
    "for s in range(len(fp_620_pn)):\n",
    "    fp_620_curve_pn.append(tm.mean_curvature(fp_620_pn[s]))"
   ]
  },
  {
   "cell_type": "code",
   "execution_count": 102,
   "metadata": {},
   "outputs": [],
   "source": [
    "from dipy.tracking import metrics as tm\n",
    "fn_014_curve_sdeq = []\n",
    "for s in range(len(fn_014_sdeq)):\n",
    "    fn_014_curve_sdeq.append(tm.mean_curvature(fn_014_sdeq[s]))\n",
    "fp_014_curve_sdeq = []\n",
    "for s in range(len(fp_014_sdeq)):\n",
    "    fp_014_curve_sdeq.append(tm.mean_curvature(fp_014_sdeq[s]))\n",
    "    \n",
    "from dipy.tracking import metrics as tm\n",
    "fn_115_curve_sdeq = []\n",
    "for s in range(len(fn_115_sdeq)):\n",
    "    fn_115_curve_sdeq.append(tm.mean_curvature(fn_115_sdeq[s]))\n",
    "fp_115_curve_sdeq = []\n",
    "for s in range(len(fp_115_sdeq)):\n",
    "    fp_115_curve_sdeq.append(tm.mean_curvature(fp_115_sdeq[s]))\n",
    "    \n",
    "from dipy.tracking import metrics as tm\n",
    "fn_216_curve_sdeq = []\n",
    "for s in range(len(fn_216_sdeq)):\n",
    "    fn_216_curve_sdeq.append(tm.mean_curvature(fn_216_sdeq[s]))\n",
    "fp_216_curve_sdeq = []\n",
    "for s in range(len(fp_216_sdeq)):\n",
    "    fp_216_curve_sdeq.append(tm.mean_curvature(fp_216_sdeq[s]))\n",
    "    \n",
    "from dipy.tracking import metrics as tm\n",
    "fn_620_curve_sdeq = []\n",
    "for s in range(len(fn_620_sdeq)):\n",
    "    fn_620_curve_sdeq.append(tm.mean_curvature(fn_620_sdeq[s]))\n",
    "fp_620_curve_sdeq = []\n",
    "for s in range(len(fp_620_sdeq)):\n",
    "    fp_620_curve_sdeq.append(tm.mean_curvature(fp_620_sdeq[s]))"
   ]
  },
  {
   "cell_type": "code",
   "execution_count": null,
   "metadata": {},
   "outputs": [],
   "source": []
  },
  {
   "cell_type": "code",
   "execution_count": 86,
   "metadata": {},
   "outputs": [],
   "source": [
    "high_curve_014=[]\n",
    "for i,c in enumerate(fn_014_curve):\n",
    "    if c>0.4:\n",
    "        high_curve_014.append((i,c))\n",
    "        \n",
    "high_curve_115=[]\n",
    "for i,c in enumerate(fn_115_curve):\n",
    "    if c>0.4:\n",
    "        high_curve_115.append((i,c))\n",
    "        \n",
    "high_curve_216=[]\n",
    "for i,c in enumerate(fn_216_curve):\n",
    "    if c>0.4:\n",
    "        high_curve_216.append((i,c))\n",
    "        \n",
    "high_curve_620=[]\n",
    "for i,c in enumerate(fn_620_curve):\n",
    "    if c>0.4:\n",
    "        high_curve_620.append((i,c))"
   ]
  },
  {
   "cell_type": "code",
   "execution_count": 88,
   "metadata": {},
   "outputs": [],
   "source": [
    "high_curve_tract = [fn_014[10359],fn_014[12209],fn_014[25795],\n",
    "                       fn_115[5145],fn_115[17904],\n",
    "                       fn_216[5238],fn_216[12759],fn_216[20752],\n",
    "                       fn_620[1601],fn_620[2417],fn_620[4836],fn_620[14547]]"
   ]
  },
  {
   "cell_type": "code",
   "execution_count": 94,
   "metadata": {},
   "outputs": [],
   "source": [
    "out_fname = '/home/ruben/Thesis/data/FN_streamlines_high_curve2.trk'\n",
    "vox_sizes = trct_s014.header['voxel_sizes']\n",
    "dim = trct_ref.header['dimensions']\n",
    "save_trk(high_curve_tract, out_fname, trct_ref.affine, vox_sizes, dim, vox_order='LAS')"
   ]
  },
  {
   "cell_type": "markdown",
   "metadata": {},
   "source": [
    "# Model decision vs. curve and length"
   ]
  },
  {
   "cell_type": "code",
   "execution_count": 197,
   "metadata": {},
   "outputs": [
    {
     "data": {
      "text/plain": [
       "<Figure size 432x288 with 0 Axes>"
      ]
     },
     "metadata": {},
     "output_type": "display_data"
    },
    {
     "data": {
      "image/png": "[encoded data removed]",
      "text/plain": [
       "<Figure size 2880x1440 with 1 Axes>"
      ]
     },
     "metadata": {
      "needs_background": "light"
     },
     "output_type": "display_data"
    }
   ],
   "source": [
    "fp_curve = fp_014_curve+fp_115_curve+fp_216_curve+fp_620_curve\n",
    "fn_curve = fn_014_curve+fn_115_curve+fn_216_curve+fn_620_curve\n",
    "pl_curve = pl_014_curve+pl_115_curve+pl_216_curve+pl_620_curve\n",
    "np_curve = np_014_curve+np_115_curve+np_216_curve+np_620_curve\n",
    "\n",
    "import matplotlib\n",
    "import matplotlib.pyplot as plt\n",
    "from pylab import plot, show, savefig, xlim, figure, \\\n",
    "                hold, ylim, legend, boxplot, setp, axes\n",
    "import matplotlib.lines as mlines\n",
    "\n",
    "ticks = ['plausible correct','plausible incorrect','implausible correct','implausible incorrect']\n",
    "plt.figure()\n",
    "\n",
    "fig,ax = plt.subplots(figsize=(40,20))\n",
    "\n",
    "bp1 = plt.boxplot(pl_curve,positions=[1],widths=.4, patch_artist=True,showfliers=False)\n",
    "bp2 = plt.boxplot(fn_curve,positions=[2],widths=.4,patch_artist=True,showfliers=False)\n",
    "bp3 = plt.boxplot(np_curve,positions=[3],widths=.4,patch_artist=True,showfliers=False)\n",
    "bp4 = plt.boxplot(fp_curve,positions=[4],widths=.4,patch_artist=True,showfliers=False)\n",
    "bp=[bp1,bp2,bp3,bp4]\n",
    "colors=['#58508d','#bc5090','#ff6361','#ffa600']\n",
    "for j in range(0,len(bp)):\n",
    "    for i in range(0,len(bp1['boxes'])):\n",
    "        bp[j]['boxes'][i].set_color(colors[j])\n",
    "        bp[j]['whiskers'][i*2].set_color(colors[j])\n",
    "        bp[j]['whiskers'][i*2 + 1].set_color(colors[j])\n",
    "        bp[j]['whiskers'][i*2].set_linewidth(2)\n",
    "        bp[j]['whiskers'][i*2 + 1].set_linewidth(2)\n",
    "        #bp[j]['fliers'][i ].set(markerfacecolor=colors[i],\n",
    "         #               marker='o', alpha=0.75, markersize=6,\n",
    "          #              markeredgecolor='none')\n",
    "        #bp[j]['fliers'][i ].set(markerfacecolor=colors[i],\n",
    "         #               marker='o', alpha=0.75, markersize=6,\n",
    "          #              markeredgecolor='none')\n",
    "        bp[j]['medians'][i].set_color('black')\n",
    "        bp[j]['medians'][i].set_linewidth(3)\n",
    "        \n",
    "ax.annotate(\"\",xy=(1,.29),xycoords='data',\n",
    "           xytext=(3,.29),textcoords='data',\n",
    "           arrowprops=dict(arrowstyle=\"-\", ec='#aaaaaa',\n",
    "                           connectionstyle=\"bar,fraction=0.05\"))\n",
    "ax.text(2,.308,stars(p_value1),fontsize=40,\n",
    "       horizontalalignment='center',\n",
    "       verticalalignment='center')\n",
    "\n",
    "ax.annotate(\"\",xy=(2,.25),xycoords='data',\n",
    "           xytext=(3,.25),textcoords='data',\n",
    "           arrowprops=dict(arrowstyle=\"-\", ec='#aaaaaa',\n",
    "                           connectionstyle=\"bar,fraction=0.05\"))\n",
    "ax.text(2.5,.26,stars(p_value2),fontsize=40,\n",
    "       horizontalalignment='center',\n",
    "       verticalalignment='center')\n",
    "\n",
    "ax.annotate(\"\",xy=(1,.314),xycoords='data',\n",
    "           xytext=(4,.314),textcoords='data',\n",
    "           arrowprops=dict(arrowstyle=\"-\", ec='#aaaaaa',\n",
    "                           connectionstyle=\"bar,fraction=0.05\"))\n",
    "ax.text(2.5,.34,stars(p_value3),fontsize=40,\n",
    "       horizontalalignment='center',\n",
    "       verticalalignment='center')\n",
    "\n",
    "ax.annotate(\"\",xy=(3,.27),xycoords='data',\n",
    "           xytext=(4,.27),textcoords='data',\n",
    "           arrowprops=dict(arrowstyle=\"-\", ec='#aaaaaa',\n",
    "                           connectionstyle=\"bar,fraction=0.05\"))\n",
    "ax.text(3.5,.28,stars(p_value4),fontsize=40,\n",
    "       horizontalalignment='center',\n",
    "       verticalalignment='center')\n",
    "\n",
    "ax.annotate(\"\",xy=(1,.27),xycoords='data',\n",
    "           xytext=(2,.27),textcoords='data',\n",
    "           arrowprops=dict(arrowstyle=\"-\", ec='#aaaaaa',\n",
    "                           connectionstyle=\"bar,fraction=0.05\"))\n",
    "ax.text(1.5,.28,stars(p_value5),fontsize=40,\n",
    "       horizontalalignment='center',\n",
    "       verticalalignment='center')\n",
    "\n",
    "\n",
    "\n",
    "plt.xlim(0,5)\n",
    "plt.ylim(-.05,.35)\n",
    "ax.set_ylabel('Streamline curvature',labelpad=30,fontsize=40)\n",
    "ax.set_xlabel('Streamline type combined with model decision',labelpad=50,fontsize=40)\n",
    "ax.set_xticks([1,2,3,4])\n",
    "plt.tick_params(labelsize=30)\n",
    "ax.set_xticklabels(['plausible correct','plausible wrong', 'implausible correct','implausible wrong'],fontsize=30)\n",
    "four_stars = mlines.Line2D([],[],color='black',marker=\"$****$\",linestyle='None',markersize=70,label='p < .0001')\n",
    "three_stars = mlines.Line2D([],[],color='black',marker=\"$***$\",linestyle='None',markersize=50,label='p < .001')\n",
    "two_stars = mlines.Line2D([],[],color='black',marker=\"$**$\",linestyle='None',markersize=30,label='p < .01')\n",
    "one_star = mlines.Line2D([],[],color='black',marker=\"$*$\",linestyle='None',markersize=20,label='p < .05')\n",
    "no_stars = mlines.Line2D([],[],color='black',marker=\"$-$\",linestyle='None',markersize=20,label='p >= .05')\n",
    "ax.legend(handles=[four_stars,three_stars,two_stars,one_star,no_stars],fontsize=40,loc='upper center',bbox_to_anchor=(0.5, -0.15),fancybox=False, shadow=False, ncol=5)\n",
    "#plt.savefig('edgeconv_error_analysis_meanplussign.png')\n",
    "plt.show()"
   ]
  },
  {
   "cell_type": "code",
   "execution_count": 143,
   "metadata": {},
   "outputs": [
    {
     "data": {
      "text/plain": [
       "<Figure size 432x288 with 0 Axes>"
      ]
     },
     "metadata": {},
     "output_type": "display_data"
    },
    {
     "data": {
      "image/png": "[encoded data removed]",
      "text/plain": [
       "<Figure size 2160x1080 with 1 Axes>"
      ]
     },
     "metadata": {
      "needs_background": "light"
     },
     "output_type": "display_data"
    }
   ],
   "source": [
    "fp_curve = fp_014_curve+fp_115_curve+fp_216_curve+fp_620_curve\n",
    "fn_curve = fn_014_curve+fn_115_curve+fn_216_curve+fn_620_curve\n",
    "pl_curve = pl_014_curve+pl_115_curve+pl_216_curve+pl_620_curve\n",
    "np_curve = np_014_curve+np_115_curve+np_216_curve+np_620_curve\n",
    "\n",
    "import matplotlib\n",
    "import matplotlib.pyplot as plt\n",
    "from pylab import plot, show, savefig, xlim, figure, \\\n",
    "                hold, ylim, legend, boxplot, setp, axes\n",
    "import matplotlib.lines as mlines\n",
    "\n",
    "ticks = ['true positive','false negative','true negative']\n",
    "plt.figure()\n",
    "\n",
    "fig,ax = plt.subplots(figsize=(30,15))\n",
    "\n",
    "bp1 = plt.boxplot(pl_curve,positions=[1],widths=.4, patch_artist=True,showfliers=False)\n",
    "bp2 = plt.boxplot(fn_curve,positions=[2],widths=.4,patch_artist=True,showfliers=False)\n",
    "bp3 = plt.boxplot(np_curve,positions=[3],widths=.4,patch_artist=True,showfliers=False)\n",
    "#bp4 = plt.boxplot(fp_curve,positions=[4],widths=.4,patch_artist=True,showfliers=False)\n",
    "bp=[bp1,bp2,bp3]#,bp4]\n",
    "#colors=['#58508d','#bc5090','#ff6361','#ffa600']\n",
    "colors=['#bc5090','#ff6361','#ffa600']\n",
    "for j in range(0,len(bp)):\n",
    "    for i in range(0,len(bp1['boxes'])):\n",
    "        bp[j]['boxes'][i].set_color(colors[j])\n",
    "        bp[j]['whiskers'][i*2].set_color(colors[j])\n",
    "        bp[j]['whiskers'][i*2 + 1].set_color(colors[j])\n",
    "        bp[j]['whiskers'][i*2].set_linewidth(2)\n",
    "        bp[j]['whiskers'][i*2 + 1].set_linewidth(2)\n",
    "        #bp[j]['fliers'][i ].set(markerfacecolor=colors[i],\n",
    "         #               marker='o', alpha=0.75, markersize=6,\n",
    "          #              markeredgecolor='none')\n",
    "        #bp[j]['fliers'][i ].set(markerfacecolor=colors[i],\n",
    "         #               marker='o', alpha=0.75, markersize=6,\n",
    "          #              markeredgecolor='none')\n",
    "        bp[j]['medians'][i].set_color('black')\n",
    "        bp[j]['medians'][i].set_linewidth(3)\n",
    "\n",
    "plt.xlim(0,4)\n",
    "plt.ylim(-.01,.25)\n",
    "ax.set_ylabel('Streamline curvature',labelpad=30,fontsize=40)\n",
    "ax.set_xlabel('Streamline type combined with model decision',labelpad=50,fontsize=40)\n",
    "ax.set_xticks([1,2,3])\n",
    "plt.tick_params(labelsize=30)\n",
    "ax.set_xticklabels(['True positive','False negative', 'True negative'],fontsize=30)\n",
    "four_stars = mlines.Line2D([],[],color='black',marker=\"$****$\",linestyle='None',markersize=70,label='p < .0001')\n",
    "three_stars = mlines.Line2D([],[],color='black',marker=\"$***$\",linestyle='None',markersize=50,label='p < .001')\n",
    "two_stars = mlines.Line2D([],[],color='black',marker=\"$**$\",linestyle='None',markersize=30,label='p < .01')\n",
    "one_star = mlines.Line2D([],[],color='black',marker=\"$*$\",linestyle='None',markersize=20,label='p < .05')\n",
    "no_stars = mlines.Line2D([],[],color='black',marker=\"$-$\",linestyle='None',markersize=20,label='p >= .05')\n",
    "#ax.legend(handles=[four_stars,three_stars,two_stars,one_star,no_stars],fontsize=40,loc='upper center',bbox_to_anchor=(0.5, -0.15),fancybox=False, shadow=False, ncol=5)\n",
    "#plt.savefig('edgeconv_error_analysis_meanplussign.png')\n",
    "fig.tight_layout()\n",
    "plt.show()"
   ]
  },
  {
   "cell_type": "code",
   "execution_count": 78,
   "metadata": {},
   "outputs": [],
   "source": [
    "pl_length_pn = list(pl_014_length_pn)+list(pl_115_length_pn)+list(pl_216_length_pn)+list(pl_620_length_pn)\n",
    "np_length_pn = list(np_014_length_pn)+list(np_115_length_pn)+list(np_216_length_pn)+list(np_620_length_pn)\n",
    "fp_length_pn = list(fp_014_length_pn)+list(fp_115_length_pn)+list(fp_216_length_pn)+list(fp_620_length_pn)\n",
    "fn_length_pn = list(fn_014_length_pn)+list(fn_115_length_pn)+list(fn_216_length_pn)+list(fn_620_length_pn)"
   ]
  },
  {
   "cell_type": "code",
   "execution_count": 79,
   "metadata": {},
   "outputs": [],
   "source": [
    "pl_length_sdeq = list(pl_014_length_sdeq)+list(pl_115_length_sdeq)+list(pl_216_length_sdeq)+list(pl_620_length_sdeq)\n",
    "np_length_sdeq = list(np_014_length_sdeq)+list(np_115_length_sdeq)+list(np_216_length_sdeq)+list(np_620_length_sdeq)\n",
    "fp_length_sdeq = list(fp_014_length_sdeq)+list(fp_115_length_sdeq)+list(fp_216_length_sdeq)+list(fp_620_length_sdeq)\n",
    "fn_length_sdeq = list(fn_014_length_sdeq)+list(fn_115_length_sdeq)+list(fn_216_length_sdeq)+list(fn_620_length_sdeq)"
   ]
  },
  {
   "cell_type": "code",
   "execution_count": 105,
   "metadata": {},
   "outputs": [],
   "source": [
    "pl_curve_pn = pl_014_curve_pn+pl_115_curve_pn+pl_216_curve_pn+pl_620_curve_pn\n",
    "np_curve_pn = np_014_curve_pn+np_115_curve_pn+np_216_curve_pn+np_620_curve_pn\n",
    "fp_curve_pn = fp_014_curve_pn+fp_115_curve_pn+fp_216_curve_pn+fp_620_curve_pn\n",
    "fn_curve_pn = fn_014_curve_pn+fn_115_curve_pn+fn_216_curve_pn+fn_620_curve_pn"
   ]
  },
  {
   "cell_type": "code",
   "execution_count": 106,
   "metadata": {},
   "outputs": [],
   "source": [
    "pl_curve_sdeq = pl_014_curve_sdeq+pl_115_curve_sdeq+pl_216_curve_sdeq+pl_620_curve_sdeq\n",
    "np_curve_sdeq = np_014_curve_sdeq+np_115_curve_sdeq+np_216_curve_sdeq+np_620_curve_sdeq\n",
    "fp_curve_sdeq = fp_014_curve_sdeq+fp_115_curve_sdeq+fp_216_curve_sdeq+fp_620_curve_sdeq\n",
    "fn_curve_sdeq = fn_014_curve_sdeq+fn_115_curve_sdeq+fn_216_curve_sdeq+fn_620_curve_sdeq"
   ]
  },
  {
   "cell_type": "code",
   "execution_count": 86,
   "metadata": {},
   "outputs": [],
   "source": [
    "pointnet = [np.mean(pl_length_pn),np.mean(fn_length_pn),np.mean(np_length_pn),np.mean(fp_length_pn)]\n",
    "pn_sd = [np.std(pl_length_pn),np.std(fn_length_pn),np.std(np_length_pn),np.std(fp_length_pn)]"
   ]
  },
  {
   "cell_type": "code",
   "execution_count": 107,
   "metadata": {},
   "outputs": [],
   "source": [
    "pointnet = [np.mean(pl_curve_pn),np.mean(fn_curve_pn),np.mean(np_curve_pn),np.mean(fp_curve_pn)]\n",
    "pn_sd = [np.std(pl_curve_pn),np.std(fn_curve_pn),np.std(np_curve_pn),np.std(fp_curve_pn)]"
   ]
  },
  {
   "cell_type": "code",
   "execution_count": 87,
   "metadata": {},
   "outputs": [],
   "source": [
    "edgeconv = [np.mean(pl_length_sdeq),np.mean(fn_length_sdeq),np.mean(np_length_sdeq),np.mean(fp_length_sdeq)]\n",
    "sdec_sd = [np.std(pl_length_sdeq),np.std(fn_length_sdeq),np.std(np_length_sdeq),np.std(fp_length_sdeq)]"
   ]
  },
  {
   "cell_type": "code",
   "execution_count": 108,
   "metadata": {},
   "outputs": [],
   "source": [
    "edgeconv = [np.mean(pl_curve_sdeq),np.mean(fn_curve_sdeq),np.mean(np_curve_sdeq),np.mean(fp_curve_sdeq)]\n",
    "sdec_sd = [np.std(pl_curve_sdeq),np.std(fn_curve_sdeq),np.std(np_curve_sdeq),np.std(fp_curve_sdeq)]"
   ]
  },
  {
   "cell_type": "code",
   "execution_count": 115,
   "metadata": {},
   "outputs": [
    {
     "data": {
      "image/png": "[encoded data removed]",
      "text/plain": [
       "<Figure size 1440x720 with 1 Axes>"
      ]
     },
     "metadata": {
      "needs_background": "light"
     },
     "output_type": "display_data"
    }
   ],
   "source": [
    "import matplotlib\n",
    "import matplotlib.pyplot as plt\n",
    "from pylab import plot, show, savefig, xlim, figure, \\\n",
    "                hold, ylim, legend, boxplot, setp, axes\n",
    "import matplotlib.lines as mlines\n",
    "\n",
    "rnd_pn = []\n",
    "rnd_sdec = []\n",
    "for i in pointnet:\n",
    "    i=round(i,3)\n",
    "    rnd_pn.append(i)\n",
    "for i in edgeconv:\n",
    "    i=round(i,3)\n",
    "    rnd_sdec.append(i)\n",
    "    \n",
    "labels = ['true positive','false negative','true negative','true negative','false positive']\n",
    "x = np.arange(len(labels))\n",
    "width = .2\n",
    "fig, ax = plt.subplots(figsize=(20,10))\n",
    "\n",
    "rects1 = ax.bar([.1,.7,1.3,1.9],rnd_pn,width,label='PointNet',color='#58508d')\n",
    "rects2 = ax.bar([.3,.9,1.5,2.1],rnd_sdec,width,label='sDEC',color='#ff6361')\n",
    "\n",
    "ax.set_xlabel('Streamline type combined with model decision',fontsize=30,labelpad=30)\n",
    "ax.set_ylabel('Streamline curvature',fontsize=30)\n",
    "ax.set_xticks([.2,.8,1.4,2])\n",
    "ax.set_xticklabels(labels,fontsize=30)\n",
    "plt.legend(loc='upper right', prop={'size': 25})\n",
    "\n",
    "def autolabel(rects):\n",
    "    \"\"\"Attach a text label above each bar in *rects*, displaying its height.\"\"\"\n",
    "    for rect in rects:\n",
    "        height = rect.get_height()\n",
    "        ax.annotate('{}'.format(height),\n",
    "                    xy=(rect.get_x() + rect.get_width() / 2, height),\n",
    "                    xytext=(0, 3),  # 3 points vertical offset\n",
    "                    textcoords=\"offset points\",\n",
    "                    ha='center', va='bottom',\n",
    "                    fontsize=20)\n",
    "        \n",
    "autolabel(rects1)\n",
    "autolabel(rects2)\n",
    "\n",
    "fig.tight_layout()\n",
    "plt.setp(ax.get_xticklabels(), rotation=45)\n",
    "plt.xticks(fontsize=20)\n",
    "plt.yticks(fontsize=20)\n",
    "plt.ylim(0,.11)\n",
    "#plt.savefig('dec_acc.png')\n",
    "plt.show()"
   ]
  },
  {
   "cell_type": "code",
   "execution_count": 152,
   "metadata": {},
   "outputs": [
    {
     "data": {
      "text/plain": [
       "<Figure size 432x288 with 0 Axes>"
      ]
     },
     "metadata": {},
     "output_type": "display_data"
    },
    {
     "data": {
      "image/png": "[encoded data removed]",
      "text/plain": [
       "<Figure size 2160x1080 with 1 Axes>"
      ]
     },
     "metadata": {
      "needs_background": "light"
     },
     "output_type": "display_data"
    }
   ],
   "source": [
    "fp_curve = fp_014_curve+fp_115_curve+fp_216_curve+fp_620_curve\n",
    "fn_curve = fn_014_curve+fn_115_curve+fn_216_curve+fn_620_curve\n",
    "pl_curve = pl_014_curve+pl_115_curve+pl_216_curve+pl_620_curve\n",
    "np_curve = np_014_curve+np_115_curve+np_216_curve+np_620_curve\n",
    "\n",
    "import matplotlib\n",
    "import matplotlib.pyplot as plt\n",
    "from pylab import plot, show, savefig, xlim, figure, \\\n",
    "                hold, ylim, legend, boxplot, setp, axes\n",
    "import matplotlib.lines as mlines\n",
    "\n",
    "ticks = ['true positive','false negative','true negative']\n",
    "plt.figure()\n",
    "\n",
    "fig,ax = plt.subplots(figsize=(30,15))\n",
    "\n",
    "rects1 = ax.bar(1,round(np.mean(pl_curve),3),yerr=np.std(fp_curve),ecolor='black',capsize=15,color='#bc5090')\n",
    "rects2 = ax.bar(2,round(np.mean(fn_curve),3),yerr=np.std(fp_curve),ecolor='black',capsize=15,color='#ff6361')\n",
    "rects3 = ax.bar(3,round(np.mean(np_curve),3),yerr=np.std(fp_curve),ecolor='black',capsize=15,color='#ffa600')\n",
    "#bp4 = plt.boxplot(fp_curve,positions=[4],widths=.4,patch_artist=True,showfliers=False)\n",
    "bp=[bp1,bp2,bp3]#,bp4]\n",
    "#colors=['#58508d','#bc5090','#ff6361','#ffa600']\n",
    "colors=['#bc5090','#ff6361','#ffa600']\n",
    "        \n",
    "def autolabel(rects):\n",
    "    \"\"\"Attach a text label above each bar in *rects*, displaying its height.\"\"\"\n",
    "    for rect in rects:\n",
    "        height = rect.get_height()\n",
    "        ax.annotate('{}'.format(height),\n",
    "                    xy=(rect.get_x() + rect.get_width() / 2, height),\n",
    "                    xytext=(50, 15),  # 3 points vertical offset\n",
    "                    textcoords=\"offset points\",\n",
    "                    ha='center', va='bottom',\n",
    "                    fontsize=30)\n",
    "        \n",
    "autolabel(rects1)\n",
    "autolabel(rects2)\n",
    "autolabel(rects3)\n",
    "\n",
    "plt.xlim(0,4)\n",
    "plt.ylim(0,.15)\n",
    "ax.set_ylabel('Streamline curvature',labelpad=30,fontsize=40)\n",
    "ax.set_xlabel('Streamline type combined with model decision',labelpad=50,fontsize=40)\n",
    "ax.set_xticks([1,2,3])\n",
    "plt.tick_params(labelsize=30)\n",
    "ax.set_xticklabels(['True positive','False negative', 'True negative'],fontsize=30)#,rotation=45)\n",
    "four_stars = mlines.Line2D([],[],color='black',marker=\"$****$\",linestyle='None',markersize=70,label='p < .0001')\n",
    "three_stars = mlines.Line2D([],[],color='black',marker=\"$***$\",linestyle='None',markersize=50,label='p < .001')\n",
    "two_stars = mlines.Line2D([],[],color='black',marker=\"$**$\",linestyle='None',markersize=30,label='p < .01')\n",
    "one_star = mlines.Line2D([],[],color='black',marker=\"$*$\",linestyle='None',markersize=20,label='p < .05')\n",
    "no_stars = mlines.Line2D([],[],color='black',marker=\"$-$\",linestyle='None',markersize=20,label='p >= .05')\n",
    "#ax.legend(handles=[four_stars,three_stars,two_stars,one_star,no_stars],fontsize=40,loc='upper center',bbox_to_anchor=(0.5, -0.15),fancybox=False, shadow=False, ncol=5)\n",
    "#plt.savefig('edgeconv_error_analysis_meanplussign.png')\n",
    "fig.tight_layout()\n",
    "plt.show()"
   ]
  },
  {
   "cell_type": "code",
   "execution_count": 76,
   "metadata": {},
   "outputs": [
    {
     "data": {
      "text/plain": [
       "array([21.15082428, 50.80940922, 61.84675211, ..., 22.77109726,\n",
       "       21.42890583, 43.55325782])"
      ]
     },
     "execution_count": 76,
     "metadata": {},
     "output_type": "execute_result"
    }
   ],
   "source": [
    "pl_014_length_pn"
   ]
  },
  {
   "cell_type": "code",
   "execution_count": 226,
   "metadata": {},
   "outputs": [
    {
     "data": {
      "text/plain": [
       "<Figure size 432x288 with 0 Axes>"
      ]
     },
     "metadata": {},
     "output_type": "display_data"
    },
    {
     "data": {
      "image/png": "[encoded data removed]",
      "text/plain": [
       "<Figure size 2880x1440 with 1 Axes>"
      ]
     },
     "metadata": {
      "needs_background": "light"
     },
     "output_type": "display_data"
    }
   ],
   "source": [
    "fp_curve = list(fp_014_length)+list(fp_115_length)+list(fp_216_length)+list(fp_620_length)\n",
    "fn_curve = list(fn_014_length)+list(fn_115_length)+list(fn_216_length)+list(fn_620_length)\n",
    "pl_curve = list(pl_014_length)+list(pl_115_length)+list(pl_216_length)+list(pl_620_length)\n",
    "np_curve = list(np_014_length)+list(np_115_length)+list(np_216_length)+list(np_620_length)\n",
    "\n",
    "import matplotlib\n",
    "import matplotlib.pyplot as plt\n",
    "from pylab import plot, show, savefig, xlim, figure, \\\n",
    "                hold, ylim, legend, boxplot, setp, axes\n",
    "import matplotlib.lines as mlines\n",
    "\n",
    "ticks = ['plausible correct','plausible incorrect','implausible correct','implausible incorrect']\n",
    "plt.figure()\n",
    "\n",
    "fig,ax = plt.subplots(figsize=(40,20))\n",
    "\n",
    "bp1 = plt.boxplot(pl_curve,positions=[1],widths=.4, patch_artist=True,showfliers=False)\n",
    "bp2 = plt.boxplot(fn_curve,positions=[2],widths=.4,patch_artist=True,showfliers=False)\n",
    "bp3 = plt.boxplot(np_curve,positions=[3],widths=.4,patch_artist=True,showfliers=False)\n",
    "bp4 = plt.boxplot(fp_curve,positions=[4],widths=.4,patch_artist=True,showfliers=False)\n",
    "bp=[bp1,bp2,bp3,bp4]\n",
    "colors=['#58508d','#bc5090','#ff6361','#ffa600']\n",
    "for j in range(0,len(bp)):\n",
    "    for i in range(0,len(bp1['boxes'])):\n",
    "        bp[j]['boxes'][i].set_color(colors[j])\n",
    "        bp[j]['whiskers'][i*2].set_color(colors[j])\n",
    "        bp[j]['whiskers'][i*2 + 1].set_color(colors[j])\n",
    "        bp[j]['whiskers'][i*2].set_linewidth(2)\n",
    "        bp[j]['whiskers'][i*2 + 1].set_linewidth(2)\n",
    "        #bp[j]['fliers'][i ].set(markerfacecolor=colors[i],\n",
    "         #               marker='o', alpha=0.75, markersize=6,\n",
    "          #              markeredgecolor='none')\n",
    "        #bp[j]['fliers'][i ].set(markerfacecolor=colors[i],\n",
    "         #               marker='o', alpha=0.75, markersize=6,\n",
    "          #              markeredgecolor='none')\n",
    "        bp[j]['medians'][i].set_color('black')\n",
    "        bp[j]['medians'][i].set_linewidth(3)\n",
    "        \n",
    "ax.annotate(\"\",xy=(1,180),xycoords='data',\n",
    "           xytext=(3,180),textcoords='data',\n",
    "           arrowprops=dict(arrowstyle=\"-\", ec='#aaaaaa',\n",
    "                           connectionstyle=\"bar,fraction=0.05\"))\n",
    "ax.text(2,190,stars(p_value1),fontsize=40,\n",
    "       horizontalalignment='center',\n",
    "       verticalalignment='center')\n",
    "\n",
    "ax.annotate(\"\",xy=(2,163),xycoords='data',\n",
    "           xytext=(3,163),textcoords='data',\n",
    "           arrowprops=dict(arrowstyle=\"-\", ec='#aaaaaa',\n",
    "                           connectionstyle=\"bar,fraction=0.05\"))\n",
    "ax.text(2.5,168,stars(p_value2),fontsize=40,\n",
    "       horizontalalignment='center',\n",
    "       verticalalignment='center')\n",
    "\n",
    "ax.annotate(\"\",xy=(1,190),xycoords='data',\n",
    "           xytext=(4,190),textcoords='data',\n",
    "           arrowprops=dict(arrowstyle=\"-\", ec='#aaaaaa',\n",
    "                           connectionstyle=\"bar,fraction=0.05\"))\n",
    "ax.text(2.5,204,stars(p_value3),fontsize=40,\n",
    "       horizontalalignment='center',\n",
    "       verticalalignment='center')\n",
    "\n",
    "ax.annotate(\"\",xy=(3,174),xycoords='data',\n",
    "           xytext=(4,174),textcoords='data',\n",
    "           arrowprops=dict(arrowstyle=\"-\", ec='#aaaaaa',\n",
    "                           connectionstyle=\"bar,fraction=0.05\"))\n",
    "ax.text(3.5,179,stars(p_value4),fontsize=40,\n",
    "       horizontalalignment='center',\n",
    "       verticalalignment='center')\n",
    "\n",
    "ax.annotate(\"\",xy=(1,174),xycoords='data',\n",
    "           xytext=(2,174),textcoords='data',\n",
    "           arrowprops=dict(arrowstyle=\"-\", ec='#aaaaaa',\n",
    "                           connectionstyle=\"bar,fraction=0.05\"))\n",
    "ax.text(1.5,179,stars(p_value5),fontsize=40,\n",
    "       horizontalalignment='center',\n",
    "       verticalalignment='center')\n",
    "\n",
    "\n",
    "\n",
    "plt.xlim(0,5)\n",
    "plt.ylim(0,210)\n",
    "ax.set_ylabel('Streamline length',labelpad=30,fontsize=40)\n",
    "ax.set_xlabel('Streamline type combined with model decision',labelpad=50,fontsize=40)\n",
    "ax.set_xticks([1,2,3,4])\n",
    "plt.tick_params(labelsize=30)\n",
    "ax.set_xticklabels(['plausible correct','plausible wrong', 'implausible correct','implausible wrong'],fontsize=30)\n",
    "four_stars = mlines.Line2D([],[],color='black',marker=\"$****$\",linestyle='None',markersize=70,label='p < .0001')\n",
    "three_stars = mlines.Line2D([],[],color='black',marker=\"$***$\",linestyle='None',markersize=50,label='p < .001')\n",
    "two_stars = mlines.Line2D([],[],color='black',marker=\"$**$\",linestyle='None',markersize=30,label='p < .01')\n",
    "one_star = mlines.Line2D([],[],color='black',marker=\"$*$\",linestyle='None',markersize=20,label='p < .05')\n",
    "no_stars = mlines.Line2D([],[],color='black',marker=\"$-$\",linestyle='None',markersize=20,label='p >= .05')\n",
    "ax.legend(handles=[four_stars,three_stars,two_stars,one_star,no_stars],fontsize=40,loc='upper center',bbox_to_anchor=(0.5, -0.15),fancybox=False, shadow=False, ncol=5)\n",
    "#plt.savefig('edgeconv_error_analysis_meanplussign_length.png')\n",
    "plt.show()"
   ]
  },
  {
   "cell_type": "code",
   "execution_count": 222,
   "metadata": {},
   "outputs": [],
   "source": [
    "import scipy.stats\n",
    "#data1 = pl_mean_lengths_dict.values()\n",
    "#data2 = np_mean_lengths_dict.values()\n",
    "def stars(p):\n",
    "    if p < 0.0001:\n",
    "        return \"****\"\n",
    "    elif (p < 0.001):\n",
    "        return \"***\"\n",
    "    elif (p < 0.01):\n",
    "        return \"**\"\n",
    "    elif (p < 0.05):\n",
    "        return \"*\"\n",
    "    else:\n",
    "        return \"-\"\n",
    "#z,p = scipy.stats.mannwhitneyu(data1, data2)\n",
    "#p_value = p*2\n",
    "#s = stars(p)"
   ]
  },
  {
   "cell_type": "code",
   "execution_count": 223,
   "metadata": {},
   "outputs": [],
   "source": [
    "z1,p1 = scipy.stats.mannwhitneyu(pl_curve,np_curve)\n",
    "z2,p2 = scipy.stats.mannwhitneyu(fn_curve,np_curve)\n",
    "z3,p3 = scipy.stats.mannwhitneyu(pl_curve,fp_curve)\n",
    "z4,p4 = scipy.stats.mannwhitneyu(np_curve,fp_curve)\n",
    "z5,p5 = scipy.stats.mannwhitneyu(pl_curve,fn_curve)"
   ]
  },
  {
   "cell_type": "code",
   "execution_count": 224,
   "metadata": {},
   "outputs": [],
   "source": [
    "p_value1 = p1*2\n",
    "p_value2 = p2*2\n",
    "p_value3 = p3*2\n",
    "p_value4 = p4*2\n",
    "p_value5 = p5*2"
   ]
  },
  {
   "cell_type": "code",
   "execution_count": 225,
   "metadata": {},
   "outputs": [
    {
     "data": {
      "text/plain": [
       "('****', '****', '****', '****', '****')"
      ]
     },
     "execution_count": 225,
     "metadata": {},
     "output_type": "execute_result"
    }
   ],
   "source": [
    "stars(p_value1),stars(p_value2),stars(p_value3),stars(p_value4),stars(p_value5)"
   ]
  },
  {
   "cell_type": "markdown",
   "metadata": {},
   "source": [
    "# Accuracy distribution"
   ]
  },
  {
   "cell_type": "code",
   "execution_count": 148,
   "metadata": {},
   "outputs": [],
   "source": [
    "lengths_correct_s014_gcn = []\n",
    "for i in idxs_s014_correct_gcn:\n",
    "    lengths_correct_s014_gcn.append(lengths_s014[i])\n",
    "    \n",
    "lengths_correct_s115_gcn = []\n",
    "for i in idxs_s115_correct_gcn:\n",
    "    lengths_correct_s115_gcn.append(lengths_s115[i])\n",
    "    \n",
    "lengths_correct_s216_gcn = []\n",
    "for i in idxs_s216_correct_gcn:\n",
    "    lengths_correct_s216_gcn.append(lengths_s216[i])\n",
    "    \n",
    "lengths_correct_s620_gcn = []\n",
    "for i in idxs_s620_correct_gcn:\n",
    "    lengths_correct_s620_gcn.append(lengths_s620[i])"
   ]
  },
  {
   "cell_type": "code",
   "execution_count": 116,
   "metadata": {},
   "outputs": [],
   "source": [
    "lengths_correct_s014_sdeq = []\n",
    "for i in idxs_s014_correct_sdeq:\n",
    "    lengths_correct_s014_sdeq.append(lengths_s014[i])\n",
    "    \n",
    "lengths_correct_s115_sdeq = []\n",
    "for i in idxs_s115_correct_sdeq:\n",
    "    lengths_correct_s115_sdeq.append(lengths_s115[i])\n",
    "    \n",
    "lengths_correct_s216_sdeq = []\n",
    "for i in idxs_s216_correct_sdeq:\n",
    "    lengths_correct_s216_sdeq.append(lengths_s216[i])\n",
    "    \n",
    "lengths_correct_s620_sdeq = []\n",
    "for i in idxs_s620_correct_sdeq:\n",
    "    lengths_correct_s620_sdeq.append(lengths_s620[i])"
   ]
  },
  {
   "cell_type": "code",
   "execution_count": 150,
   "metadata": {},
   "outputs": [],
   "source": [
    "lengths_correct_s014_blstm = []\n",
    "for i in idxs_s014_correct_blstm:\n",
    "    lengths_correct_s014_blstm.append(lengths_s014[i])\n",
    "    \n",
    "lengths_correct_s115_blstm = []\n",
    "for i in idxs_s115_correct_blstm:\n",
    "    lengths_correct_s115_blstm.append(lengths_s115[i])\n",
    "    \n",
    "lengths_correct_s216_blstm = []\n",
    "for i in idxs_s216_correct_blstm:\n",
    "    lengths_correct_s216_blstm.append(lengths_s216[i])\n",
    "    \n",
    "lengths_correct_s620_blstm = []\n",
    "for i in idxs_s620_correct_blstm:\n",
    "    lengths_correct_s620_blstm.append(lengths_s620[i])"
   ]
  },
  {
   "cell_type": "code",
   "execution_count": 151,
   "metadata": {},
   "outputs": [],
   "source": [
    "lengths_correct_s014_dec = []\n",
    "for i in idxs_s014_correct_dec:\n",
    "    lengths_correct_s014_dec.append(lengths_s014[i])\n",
    "    \n",
    "lengths_correct_s115_dec = []\n",
    "for i in idxs_s115_correct_dec:\n",
    "    lengths_correct_s115_dec.append(lengths_s115[i])\n",
    "    \n",
    "lengths_correct_s216_dec = []\n",
    "for i in idxs_s216_correct_dec:\n",
    "    lengths_correct_s216_dec.append(lengths_s216[i])\n",
    "    \n",
    "lengths_correct_s620_dec = []\n",
    "for i in idxs_s620_correct_dec:\n",
    "    lengths_correct_s620_dec.append(lengths_s620[i])"
   ]
  },
  {
   "cell_type": "code",
   "execution_count": 117,
   "metadata": {},
   "outputs": [],
   "source": [
    "lengths_correct_s014_pn = []\n",
    "for i in idxs_s014_correct_pn:\n",
    "    lengths_correct_s014_pn.append(lengths_s014[i])\n",
    "    \n",
    "lengths_correct_s115_pn = []\n",
    "for i in idxs_s115_correct_pn:\n",
    "    lengths_correct_s115_pn.append(lengths_s115[i])\n",
    "    \n",
    "lengths_correct_s216_pn = []\n",
    "for i in idxs_s216_correct_pn:\n",
    "    lengths_correct_s216_pn.append(lengths_s216[i])\n",
    "    \n",
    "lengths_correct_s620_pn = []\n",
    "for i in idxs_s620_correct_pn:\n",
    "    lengths_correct_s620_pn.append(lengths_s620[i])"
   ]
  },
  {
   "cell_type": "code",
   "execution_count": 42,
   "metadata": {},
   "outputs": [],
   "source": [
    "curve_correct_s014_gcn = []\n",
    "for i in idxs_s014_correct_gcn:\n",
    "    curve_correct_s014_gcn.append(curve_014[i])\n",
    "    \n",
    "curve_correct_s115_gcn = []\n",
    "for i in idxs_s115_correct_gcn:\n",
    "    curve_correct_s115_gcn.append(curve_115[i])\n",
    "    \n",
    "curve_correct_s216_gcn = []\n",
    "for i in idxs_s216_correct_gcn:\n",
    "    curve_correct_s216_gcn.append(curve_216[i])\n",
    "    \n",
    "curve_correct_s620_gcn = []\n",
    "for i in idxs_s620_correct_gcn:\n",
    "    curve_correct_s620_gcn.append(curve_620[i])"
   ]
  },
  {
   "cell_type": "code",
   "execution_count": 143,
   "metadata": {},
   "outputs": [],
   "source": [
    "curve_correct_s014_sdeq = []\n",
    "for i in idxs_s014_correct_sdeq:\n",
    "    curve_correct_s014_sdeq.append(curve_014[i])\n",
    "    \n",
    "curve_correct_s115_sdeq = []\n",
    "for i in idxs_s115_correct_sdeq:\n",
    "    curve_correct_s115_sdeq.append(curve_115[i])\n",
    "    \n",
    "curve_correct_s216_sdeq = []\n",
    "for i in idxs_s216_correct_sdeq:\n",
    "    curve_correct_s216_sdeq.append(curve_216[i])\n",
    "    \n",
    "curve_correct_s620_sdeq = []\n",
    "for i in idxs_s620_correct_sdeq:\n",
    "    curve_correct_s620_sdeq.append(curve_620[i])"
   ]
  },
  {
   "cell_type": "code",
   "execution_count": 44,
   "metadata": {},
   "outputs": [],
   "source": [
    "curve_correct_s014_blstm = []\n",
    "for i in idxs_s014_correct_blstm:\n",
    "    curve_correct_s014_blstm.append(curve_014[i])\n",
    "    \n",
    "curve_correct_s115_blstm = []\n",
    "for i in idxs_s115_correct_blstm:\n",
    "    curve_correct_s115_blstm.append(curve_115[i])\n",
    "    \n",
    "curve_correct_s216_blstm = []\n",
    "for i in idxs_s216_correct_blstm:\n",
    "    curve_correct_s216_blstm.append(curve_216[i])\n",
    "    \n",
    "curve_correct_s620_blstm = []\n",
    "for i in idxs_s620_correct_blstm:\n",
    "    curve_correct_s620_blstm.append(curve_620[i])"
   ]
  },
  {
   "cell_type": "code",
   "execution_count": 45,
   "metadata": {},
   "outputs": [],
   "source": [
    "curve_correct_s014_dec = []\n",
    "for i in idxs_s014_correct_dec:\n",
    "    curve_correct_s014_dec.append(curve_014[i])\n",
    "    \n",
    "curve_correct_s115_dec = []\n",
    "for i in idxs_s115_correct_dec:\n",
    "    curve_correct_s115_dec.append(curve_115[i])\n",
    "    \n",
    "curve_correct_s216_dec = []\n",
    "for i in idxs_s216_correct_dec:\n",
    "    curve_correct_s216_dec.append(curve_216[i])\n",
    "    \n",
    "curve_correct_s620_dec = []\n",
    "for i in idxs_s620_correct_dec:\n",
    "    curve_correct_s620_dec.append(curve_620[i])"
   ]
  },
  {
   "cell_type": "code",
   "execution_count": 144,
   "metadata": {},
   "outputs": [],
   "source": [
    "curve_correct_s014_pn = []\n",
    "for i in idxs_s014_correct_pn:\n",
    "    curve_correct_s014_pn.append(curve_014[i])\n",
    "    \n",
    "curve_correct_s115_pn = []\n",
    "for i in idxs_s115_correct_pn:\n",
    "    curve_correct_s115_pn.append(curve_115[i])\n",
    "    \n",
    "curve_correct_s216_pn = []\n",
    "for i in idxs_s216_correct_pn:\n",
    "    curve_correct_s216_pn.append(curve_216[i])\n",
    "    \n",
    "curve_correct_s620_pn = []\n",
    "for i in idxs_s620_correct_pn:\n",
    "    curve_correct_s620_pn.append(curve_620[i])"
   ]
  },
  {
   "cell_type": "code",
   "execution_count": 153,
   "metadata": {},
   "outputs": [],
   "source": [
    "from collections import Counter\n",
    "binned_lengths_correct_s014_gcn = []\n",
    "for value in lengths_correct_s014_gcn:\n",
    "    bin_index = find_bin(value, bins)\n",
    "    #print(value, bin_index, bins[bin_index])\n",
    "    binned_lengths_correct_s014_gcn.append(bin_index)\n",
    "    \n",
    "frequencies_correct_s014_gcn = Counter(binned_lengths_correct_s014_gcn)\n",
    "\n",
    "binned_lengths_correct_s115_gcn = []\n",
    "for value in lengths_correct_s115_gcn:\n",
    "    bin_index = find_bin(value, bins)\n",
    "    #print(value, bin_index, bins[bin_index])\n",
    "    binned_lengths_correct_s115_gcn.append(bin_index)\n",
    "    \n",
    "frequencies_correct_s115_gcn = Counter(binned_lengths_correct_s115_gcn)\n",
    "\n",
    "binned_lengths_correct_s216_gcn = []\n",
    "for value in lengths_correct_s216_gcn:\n",
    "    bin_index = find_bin(value, bins)\n",
    "    #print(value, bin_index, bins[bin_index])\n",
    "    binned_lengths_correct_s216_gcn.append(bin_index)\n",
    "    \n",
    "frequencies_correct_s216_gcn = Counter(binned_lengths_correct_s216_gcn)\n",
    "\n",
    "binned_lengths_correct_s620_gcn = []\n",
    "for value in lengths_correct_s620_gcn:\n",
    "    bin_index = find_bin(value, bins)\n",
    "    #print(value, bin_index, bins[bin_index])\n",
    "    binned_lengths_correct_s620_gcn.append(bin_index)\n",
    "    \n",
    "frequencies_correct_s620_gcn = Counter(binned_lengths_correct_s620_gcn)"
   ]
  },
  {
   "cell_type": "code",
   "execution_count": 47,
   "metadata": {},
   "outputs": [],
   "source": [
    "from collections import Counter\n",
    "binned_curve_correct_s014_gcn = []\n",
    "for value in curve_correct_s014_gcn:\n",
    "    bin_index = find_bin(value, bins)\n",
    "    #print(value, bin_index, bins[bin_index])\n",
    "    binned_curve_correct_s014_gcn.append(bin_index)\n",
    "    \n",
    "frequencies_correct_s014_gcn = Counter(binned_curve_correct_s014_gcn)\n",
    "\n",
    "binned_curve_correct_s115_gcn = []\n",
    "for value in curve_correct_s115_gcn:\n",
    "    bin_index = find_bin(value, bins)\n",
    "    #print(value, bin_index, bins[bin_index])\n",
    "    binned_curve_correct_s115_gcn.append(bin_index)\n",
    "    \n",
    "frequencies_correct_s115_gcn = Counter(binned_curve_correct_s115_gcn)\n",
    "\n",
    "binned_curve_correct_s216_gcn = []\n",
    "for value in curve_correct_s216_gcn:\n",
    "    bin_index = find_bin(value, bins)\n",
    "    #print(value, bin_index, bins[bin_index])\n",
    "    binned_curve_correct_s216_gcn.append(bin_index)\n",
    "    \n",
    "frequencies_correct_s216_gcn = Counter(binned_curve_correct_s216_gcn)\n",
    "\n",
    "binned_curve_correct_s620_gcn = []\n",
    "for value in curve_correct_s620_gcn:\n",
    "    bin_index = find_bin(value, bins)\n",
    "    #print(value, bin_index, bins[bin_index])\n",
    "    binned_curve_correct_s620_gcn.append(bin_index)\n",
    "    \n",
    "frequencies_correct_s620_gcn = Counter(binned_curve_correct_s620_gcn)"
   ]
  },
  {
   "cell_type": "code",
   "execution_count": 120,
   "metadata": {},
   "outputs": [],
   "source": [
    "from collections import Counter\n",
    "binned_lengths_correct_s014_sdeq = []\n",
    "for value in lengths_correct_s014_sdeq:\n",
    "    bin_index = find_bin(value, bins)\n",
    "    #print(value, bin_index, bins[bin_index])\n",
    "    binned_lengths_correct_s014_sdeq.append(bin_index)\n",
    "    \n",
    "frequencies_correct_s014_sdeq = Counter(binned_lengths_correct_s014_sdeq)\n",
    "\n",
    "binned_lengths_correct_s115_sdeq = []\n",
    "for value in lengths_correct_s115_sdeq:\n",
    "    bin_index = find_bin(value, bins)\n",
    "    #print(value, bin_index, bins[bin_index])\n",
    "    binned_lengths_correct_s115_sdeq.append(bin_index)\n",
    "    \n",
    "frequencies_correct_s115_sdeq = Counter(binned_lengths_correct_s115_sdeq)\n",
    "\n",
    "binned_lengths_correct_s216_sdeq = []\n",
    "for value in lengths_correct_s216_sdeq:\n",
    "    bin_index = find_bin(value, bins)\n",
    "    #print(value, bin_index, bins[bin_index])\n",
    "    binned_lengths_correct_s216_sdeq.append(bin_index)\n",
    "    \n",
    "frequencies_correct_s216_sdeq = Counter(binned_lengths_correct_s216_sdeq)\n",
    "\n",
    "binned_lengths_correct_s620_sdeq = []\n",
    "for value in lengths_correct_s620_sdeq:\n",
    "    bin_index = find_bin(value, bins)\n",
    "    #print(value, bin_index, bins[bin_index])\n",
    "    binned_lengths_correct_s620_sdeq.append(bin_index)\n",
    "    \n",
    "frequencies_correct_s620_sdeq = Counter(binned_lengths_correct_s620_sdeq)"
   ]
  },
  {
   "cell_type": "code",
   "execution_count": 145,
   "metadata": {},
   "outputs": [],
   "source": [
    "from collections import Counter\n",
    "binned_curve_correct_s014_sdeq = []\n",
    "for value in curve_correct_s014_sdeq:\n",
    "    bin_index = find_bin(value, bins)\n",
    "    #print(value, bin_index, bins[bin_index])\n",
    "    binned_curve_correct_s014_sdeq.append(bin_index)\n",
    "    \n",
    "frequencies_correct_s014_sdeq = Counter(binned_curve_correct_s014_sdeq)\n",
    "\n",
    "binned_curve_correct_s115_sdeq = []\n",
    "for value in curve_correct_s115_sdeq:\n",
    "    bin_index = find_bin(value, bins)\n",
    "    #print(value, bin_index, bins[bin_index])\n",
    "    binned_curve_correct_s115_sdeq.append(bin_index)\n",
    "    \n",
    "frequencies_correct_s115_sdeq = Counter(binned_curve_correct_s115_sdeq)\n",
    "\n",
    "binned_curve_correct_s216_sdeq = []\n",
    "for value in curve_correct_s216_sdeq:\n",
    "    bin_index = find_bin(value, bins)\n",
    "    #print(value, bin_index, bins[bin_index])\n",
    "    binned_curve_correct_s216_sdeq.append(bin_index)\n",
    "    \n",
    "frequencies_correct_s216_sdeq = Counter(binned_curve_correct_s216_sdeq)\n",
    "\n",
    "binned_curve_correct_s620_sdeq = []\n",
    "for value in curve_correct_s620_sdeq:\n",
    "    bin_index = find_bin(value, bins)\n",
    "    #print(value, bin_index, bins[bin_index])\n",
    "    binned_curve_correct_s620_sdeq.append(bin_index)\n",
    "    \n",
    "frequencies_correct_s620_sdeq = Counter(binned_curve_correct_s620_sdeq)"
   ]
  },
  {
   "cell_type": "code",
   "execution_count": 155,
   "metadata": {},
   "outputs": [],
   "source": [
    "from collections import Counter\n",
    "binned_lengths_correct_s014_blstm = []\n",
    "for value in lengths_correct_s014_blstm:\n",
    "    bin_index = find_bin(value, bins)\n",
    "    #print(value, bin_index, bins[bin_index])\n",
    "    binned_lengths_correct_s014_blstm.append(bin_index)\n",
    "    \n",
    "frequencies_correct_s014_blstm = Counter(binned_lengths_correct_s014_blstm)\n",
    "\n",
    "binned_lengths_correct_s115_blstm = []\n",
    "for value in lengths_correct_s115_blstm:\n",
    "    bin_index = find_bin(value, bins)\n",
    "    #print(value, bin_index, bins[bin_index])\n",
    "    binned_lengths_correct_s115_blstm.append(bin_index)\n",
    "    \n",
    "frequencies_correct_s115_blstm = Counter(binned_lengths_correct_s115_blstm)\n",
    "\n",
    "binned_lengths_correct_s216_blstm = []\n",
    "for value in lengths_correct_s216_blstm:\n",
    "    bin_index = find_bin(value, bins)\n",
    "    #print(value, bin_index, bins[bin_index])\n",
    "    binned_lengths_correct_s216_blstm.append(bin_index)\n",
    "    \n",
    "frequencies_correct_s216_blstm = Counter(binned_lengths_correct_s216_blstm)\n",
    "\n",
    "binned_lengths_correct_s620_blstm = []\n",
    "for value in lengths_correct_s620_blstm:\n",
    "    bin_index = find_bin(value, bins)\n",
    "    #print(value, bin_index, bins[bin_index])\n",
    "    binned_lengths_correct_s620_blstm.append(bin_index)\n",
    "    \n",
    "frequencies_correct_s620_blstm = Counter(binned_lengths_correct_s620_blstm)"
   ]
  },
  {
   "cell_type": "code",
   "execution_count": 50,
   "metadata": {},
   "outputs": [],
   "source": [
    "from collections import Counter\n",
    "binned_curve_correct_s014_blstm = []\n",
    "for value in curve_correct_s014_blstm:\n",
    "    bin_index = find_bin(value, bins)\n",
    "    #print(value, bin_index, bins[bin_index])\n",
    "    binned_curve_correct_s014_blstm.append(bin_index)\n",
    "    \n",
    "frequencies_correct_s014_blstm = Counter(binned_curve_correct_s014_blstm)\n",
    "\n",
    "binned_curve_correct_s115_blstm = []\n",
    "for value in curve_correct_s115_blstm:\n",
    "    bin_index = find_bin(value, bins)\n",
    "    #print(value, bin_index, bins[bin_index])\n",
    "    binned_curve_correct_s115_blstm.append(bin_index)\n",
    "    \n",
    "frequencies_correct_s115_blstm = Counter(binned_curve_correct_s115_blstm)\n",
    "\n",
    "binned_curve_correct_s216_blstm = []\n",
    "for value in curve_correct_s216_blstm:\n",
    "    bin_index = find_bin(value, bins)\n",
    "    #print(value, bin_index, bins[bin_index])\n",
    "    binned_curve_correct_s216_blstm.append(bin_index)\n",
    "    \n",
    "frequencies_correct_s216_blstm = Counter(binned_curve_correct_s216_blstm)\n",
    "\n",
    "binned_curve_correct_s620_blstm = []\n",
    "for value in curve_correct_s620_blstm:\n",
    "    bin_index = find_bin(value, bins)\n",
    "    #print(value, bin_index, bins[bin_index])\n",
    "    binned_curve_correct_s620_blstm.append(bin_index)\n",
    "    \n",
    "frequencies_correct_s620_blstm = Counter(binned_curve_correct_s620_blstm)"
   ]
  },
  {
   "cell_type": "code",
   "execution_count": 156,
   "metadata": {},
   "outputs": [],
   "source": [
    "from collections import Counter\n",
    "binned_lengths_correct_s014_dec = []\n",
    "for value in lengths_correct_s014_dec:\n",
    "    bin_index = find_bin(value, bins)\n",
    "    #print(value, bin_index, bins[bin_index])\n",
    "    binned_lengths_correct_s014_dec.append(bin_index)\n",
    "    \n",
    "frequencies_correct_s014_dec = Counter(binned_lengths_correct_s014_dec)\n",
    "\n",
    "binned_lengths_correct_s115_dec = []\n",
    "for value in lengths_correct_s115_dec:\n",
    "    bin_index = find_bin(value, bins)\n",
    "    #print(value, bin_index, bins[bin_index])\n",
    "    binned_lengths_correct_s115_dec.append(bin_index)\n",
    "    \n",
    "frequencies_correct_s115_dec = Counter(binned_lengths_correct_s115_dec)\n",
    "\n",
    "binned_lengths_correct_s216_dec = []\n",
    "for value in lengths_correct_s216_dec:\n",
    "    bin_index = find_bin(value, bins)\n",
    "    #print(value, bin_index, bins[bin_index])\n",
    "    binned_lengths_correct_s216_dec.append(bin_index)\n",
    "    \n",
    "frequencies_correct_s216_dec = Counter(binned_lengths_correct_s216_dec)\n",
    "\n",
    "binned_lengths_correct_s620_dec = []\n",
    "for value in lengths_correct_s620_dec:\n",
    "    bin_index = find_bin(value, bins)\n",
    "    #print(value, bin_index, bins[bin_index])\n",
    "    binned_lengths_correct_s620_dec.append(bin_index)\n",
    "    \n",
    "frequencies_correct_s620_dec = Counter(binned_lengths_correct_s620_dec)"
   ]
  },
  {
   "cell_type": "code",
   "execution_count": 51,
   "metadata": {},
   "outputs": [],
   "source": [
    "from collections import Counter\n",
    "binned_curve_correct_s014_dec = []\n",
    "for value in curve_correct_s014_dec:\n",
    "    bin_index = find_bin(value, bins)\n",
    "    #print(value, bin_index, bins[bin_index])\n",
    "    binned_curve_correct_s014_dec.append(bin_index)\n",
    "    \n",
    "frequencies_correct_s014_dec = Counter(binned_curve_correct_s014_dec)\n",
    "\n",
    "binned_curve_correct_s115_dec = []\n",
    "for value in curve_correct_s115_dec:\n",
    "    bin_index = find_bin(value, bins)\n",
    "    #print(value, bin_index, bins[bin_index])\n",
    "    binned_curve_correct_s115_dec.append(bin_index)\n",
    "    \n",
    "frequencies_correct_s115_dec = Counter(binned_curve_correct_s115_dec)\n",
    "\n",
    "binned_curve_correct_s216_dec = []\n",
    "for value in curve_correct_s216_dec:\n",
    "    bin_index = find_bin(value, bins)\n",
    "    #print(value, bin_index, bins[bin_index])\n",
    "    binned_curve_correct_s216_dec.append(bin_index)\n",
    "    \n",
    "frequencies_correct_s216_dec = Counter(binned_curve_correct_s216_dec)\n",
    "\n",
    "binned_curve_correct_s620_dec = []\n",
    "for value in curve_correct_s620_dec:\n",
    "    bin_index = find_bin(value, bins)\n",
    "    #print(value, bin_index, bins[bin_index])\n",
    "    binned_curve_correct_s620_dec.append(bin_index)\n",
    "    \n",
    "frequencies_correct_s620_dec = Counter(binned_curve_correct_s620_dec)"
   ]
  },
  {
   "cell_type": "code",
   "execution_count": 122,
   "metadata": {},
   "outputs": [],
   "source": [
    "from collections import Counter\n",
    "binned_lengths_correct_s014_pn = []\n",
    "for value in lengths_correct_s014_pn:\n",
    "    bin_index = find_bin(value, bins)\n",
    "    #print(value, bin_index, bins[bin_index])\n",
    "    binned_lengths_correct_s014_pn.append(bin_index)\n",
    "    \n",
    "frequencies_correct_s014_pn = Counter(binned_lengths_correct_s014_pn)\n",
    "\n",
    "binned_lengths_correct_s115_pn = []\n",
    "for value in lengths_correct_s115_pn:\n",
    "    bin_index = find_bin(value, bins)\n",
    "    #print(value, bin_index, bins[bin_index])\n",
    "    binned_lengths_correct_s115_pn.append(bin_index)\n",
    "    \n",
    "frequencies_correct_s115_pn = Counter(binned_lengths_correct_s115_pn)\n",
    "\n",
    "binned_lengths_correct_s216_pn = []\n",
    "for value in lengths_correct_s216_pn:\n",
    "    bin_index = find_bin(value, bins)\n",
    "    #print(value, bin_index, bins[bin_index])\n",
    "    binned_lengths_correct_s216_pn.append(bin_index)\n",
    "    \n",
    "frequencies_correct_s216_pn = Counter(binned_lengths_correct_s216_pn)\n",
    "\n",
    "binned_lengths_correct_s620_pn = []\n",
    "for value in lengths_correct_s620_pn:\n",
    "    bin_index = find_bin(value, bins)\n",
    "    #print(value, bin_index, bins[bin_index])\n",
    "    binned_lengths_correct_s620_pn.append(bin_index)\n",
    "    \n",
    "frequencies_correct_s620_pn = Counter(binned_lengths_correct_s620_pn)"
   ]
  },
  {
   "cell_type": "code",
   "execution_count": 146,
   "metadata": {},
   "outputs": [],
   "source": [
    "from collections import Counter\n",
    "binned_curve_correct_s014_pn = []\n",
    "for value in curve_correct_s014_pn:\n",
    "    bin_index = find_bin(value, bins)\n",
    "    #print(value, bin_index, bins[bin_index])\n",
    "    binned_curve_correct_s014_pn.append(bin_index)\n",
    "    \n",
    "frequencies_correct_s014_pn = Counter(binned_curve_correct_s014_pn)\n",
    "\n",
    "binned_curve_correct_s115_pn = []\n",
    "for value in curve_correct_s115_pn:\n",
    "    bin_index = find_bin(value, bins)\n",
    "    #print(value, bin_index, bins[bin_index])\n",
    "    binned_curve_correct_s115_pn.append(bin_index)\n",
    "    \n",
    "frequencies_correct_s115_pn = Counter(binned_curve_correct_s115_pn)\n",
    "\n",
    "binned_curve_correct_s216_pn = []\n",
    "for value in curve_correct_s216_pn:\n",
    "    bin_index = find_bin(value, bins)\n",
    "    #print(value, bin_index, bins[bin_index])\n",
    "    binned_curve_correct_s216_pn.append(bin_index)\n",
    "    \n",
    "frequencies_correct_s216_pn = Counter(binned_curve_correct_s216_pn)\n",
    "\n",
    "binned_curve_correct_s620_pn = []\n",
    "for value in curve_correct_s620_pn:\n",
    "    bin_index = find_bin(value, bins)\n",
    "    #print(value, bin_index, bins[bin_index])\n",
    "    binned_curve_correct_s620_pn.append(bin_index)\n",
    "    \n",
    "frequencies_correct_s620_pn = Counter(binned_curve_correct_s620_pn)"
   ]
  },
  {
   "cell_type": "code",
   "execution_count": 148,
   "metadata": {},
   "outputs": [],
   "source": [
    "#frequencies_correct_s014_gcn[2]+=frequencies_correct_s014_gcn[-1]\n",
    "#frequencies_correct_s115_gcn[2]+=frequencies_correct_s115_gcn[-1]\n",
    "#frequencies_correct_s216_gcn[2]+=frequencies_correct_s216_gcn[-1]\n",
    "#frequencies_correct_s620_gcn[2]+=frequencies_correct_s620_gcn[-1]\n",
    "\n",
    "frequencies_correct_s014_sdeq[2]+=frequencies_correct_s014_sdeq[-1]\n",
    "frequencies_correct_s115_sdeq[2]+=frequencies_correct_s115_sdeq[-1]\n",
    "frequencies_correct_s216_sdeq[2]+=frequencies_correct_s216_sdeq[-1]\n",
    "frequencies_correct_s620_sdeq[2]+=frequencies_correct_s620_sdeq[-1]\n",
    "\n",
    "#frequencies_correct_s014_blstm[2]+=frequencies_correct_s014_blstm[-1]\n",
    "#frequencies_correct_s115_blstm[2]+=frequencies_correct_s115_blstm[-1]\n",
    "#frequencies_correct_s216_blstm[2]+=frequencies_correct_s216_blstm[-1]\n",
    "#frequencies_correct_s620_blstm[2]+=frequencies_correct_s620_blstm[-1]\n",
    "\n",
    "#frequencies_correct_s014_dec[2]+=frequencies_correct_s014_dec[-1]\n",
    "#frequencies_correct_s115_dec[2]+=frequencies_correct_s115_dec[-1]\n",
    "#frequencies_correct_s216_dec[2]+=frequencies_correct_s216_dec[-1]\n",
    "#frequencies_correct_s620_dec[2]+=frequencies_correct_s620_dec[-1]\n",
    "\n",
    "frequencies_correct_s014_pn[2]+=frequencies_correct_s014_pn[-1]\n",
    "frequencies_correct_s115_pn[2]+=frequencies_correct_s115_pn[-1]\n",
    "frequencies_correct_s216_pn[2]+=frequencies_correct_s216_pn[-1]\n",
    "frequencies_correct_s620_pn[2]+=frequencies_correct_s620_pn[-1]"
   ]
  },
  {
   "cell_type": "code",
   "execution_count": 149,
   "metadata": {},
   "outputs": [],
   "source": [
    "#del frequencies_correct_s014_gcn[-1]\n",
    "#del frequencies_correct_s115_gcn[-1]\n",
    "#del frequencies_correct_s216_gcn[-1]\n",
    "#del frequencies_correct_s620_gcn[-1]\n",
    "\n",
    "del frequencies_correct_s014_sdeq[-1]\n",
    "del frequencies_correct_s115_sdeq[-1]\n",
    "del frequencies_correct_s216_sdeq[-1]\n",
    "del frequencies_correct_s620_sdeq[-1]\n",
    "\n",
    "#del frequencies_correct_s014_blstm[-1]\n",
    "#del frequencies_correct_s115_blstm[-1]\n",
    "#del frequencies_correct_s216_blstm[-1]\n",
    "#del frequencies_correct_s620_blstm[-1]\n",
    "\n",
    "#del frequencies_correct_s014_dec[-1]\n",
    "#del frequencies_correct_s115_dec[-1]\n",
    "#del frequencies_correct_s216_dec[-1]\n",
    "#del frequencies_correct_s620_dec[-1]\n",
    "\n",
    "del frequencies_correct_s014_pn[-1]\n",
    "del frequencies_correct_s115_pn[-1]\n",
    "del frequencies_correct_s216_pn[-1]\n",
    "del frequencies_correct_s620_pn[-1]"
   ]
  },
  {
   "cell_type": "code",
   "execution_count": 159,
   "metadata": {},
   "outputs": [],
   "source": [
    "acc_binned_s014_gcn = {}\n",
    "for i in frequencies_correct_s014_gcn.keys():\n",
    "    acc_binned_s014_gcn[i]=(frequencies_correct_s014_gcn[i]/frequencies_tot_s014[i])*100.0\n",
    "    \n",
    "acc_binned_s115_gcn = {}\n",
    "for i in frequencies_correct_s115_gcn.keys():\n",
    "    acc_binned_s115_gcn[i]=(frequencies_correct_s115_gcn[i]/frequencies_tot_s115[i])*100.0\n",
    "    \n",
    "acc_binned_s216_gcn = {}\n",
    "for i in frequencies_correct_s216_gcn.keys():\n",
    "    acc_binned_s216_gcn[i]=(frequencies_correct_s216_gcn[i]/frequencies_tot_s216[i])*100.0\n",
    "    \n",
    "acc_binned_s620_gcn = {}\n",
    "for i in frequencies_correct_s620_gcn.keys():\n",
    "    acc_binned_s620_gcn[i]=(frequencies_correct_s620_gcn[i]/frequencies_tot_s620[i])*100.0"
   ]
  },
  {
   "cell_type": "code",
   "execution_count": 150,
   "metadata": {},
   "outputs": [],
   "source": [
    "acc_binned_s014_sdeq = {}\n",
    "for i in frequencies_correct_s014_sdeq.keys():\n",
    "    acc_binned_s014_sdeq[i]=(frequencies_correct_s014_sdeq[i]/frequencies_tot_s014[i])*100.0\n",
    "    \n",
    "acc_binned_s115_sdeq = {}\n",
    "for i in frequencies_correct_s115_sdeq.keys():\n",
    "    acc_binned_s115_sdeq[i]=(frequencies_correct_s115_sdeq[i]/frequencies_tot_s115[i])*100.0\n",
    "    \n",
    "acc_binned_s216_sdeq = {}\n",
    "for i in frequencies_correct_s216_sdeq.keys():\n",
    "    acc_binned_s216_sdeq[i]=(frequencies_correct_s216_sdeq[i]/frequencies_tot_s216[i])*100.0\n",
    "    \n",
    "acc_binned_s620_sdeq = {}\n",
    "for i in frequencies_correct_s620_sdeq.keys():\n",
    "    acc_binned_s620_sdeq[i]=(frequencies_correct_s620_sdeq[i]/frequencies_tot_s620[i])*100.0"
   ]
  },
  {
   "cell_type": "code",
   "execution_count": 161,
   "metadata": {},
   "outputs": [],
   "source": [
    "acc_binned_s014_blstm = {}\n",
    "for i in frequencies_correct_s014_blstm.keys():\n",
    "    acc_binned_s014_blstm[i]=(frequencies_correct_s014_blstm[i]/frequencies_tot_s014[i])*100.0\n",
    "    \n",
    "acc_binned_s115_blstm = {}\n",
    "for i in frequencies_correct_s115_blstm.keys():\n",
    "    acc_binned_s115_blstm[i]=(frequencies_correct_s115_blstm[i]/frequencies_tot_s115[i])*100.0\n",
    "    \n",
    "acc_binned_s216_blstm = {}\n",
    "for i in frequencies_correct_s216_blstm.keys():\n",
    "    acc_binned_s216_blstm[i]=(frequencies_correct_s216_blstm[i]/frequencies_tot_s216[i])*100.0\n",
    "    \n",
    "acc_binned_s620_blstm = {}\n",
    "for i in frequencies_correct_s620_blstm.keys():\n",
    "    acc_binned_s620_blstm[i]=(frequencies_correct_s620_blstm[i]/frequencies_tot_s620[i])*100.0"
   ]
  },
  {
   "cell_type": "code",
   "execution_count": 162,
   "metadata": {},
   "outputs": [],
   "source": [
    "acc_binned_s014_dec = {}\n",
    "for i in frequencies_correct_s014_dec.keys():\n",
    "    acc_binned_s014_dec[i]=(frequencies_correct_s014_dec[i]/frequencies_tot_s014[i])*100.0\n",
    "    \n",
    "acc_binned_s115_dec = {}\n",
    "for i in frequencies_correct_s115_dec.keys():\n",
    "    acc_binned_s115_dec[i]=(frequencies_correct_s115_dec[i]/frequencies_tot_s115[i])*100.0\n",
    "    \n",
    "acc_binned_s216_dec = {}\n",
    "for i in frequencies_correct_s216_dec.keys():\n",
    "    acc_binned_s216_dec[i]=(frequencies_correct_s216_dec[i]/frequencies_tot_s216[i])*100.0\n",
    "    \n",
    "acc_binned_s620_dec = {}\n",
    "for i in frequencies_correct_s620_dec.keys():\n",
    "    acc_binned_s620_dec[i]=(frequencies_correct_s620_dec[i]/frequencies_tot_s620[i])*100.0"
   ]
  },
  {
   "cell_type": "code",
   "execution_count": 151,
   "metadata": {},
   "outputs": [],
   "source": [
    "acc_binned_s014_pn = {}\n",
    "for i in frequencies_correct_s014_pn.keys():\n",
    "    acc_binned_s014_pn[i]=(frequencies_correct_s014_pn[i]/frequencies_tot_s014[i])*100.0\n",
    "    \n",
    "acc_binned_s115_pn = {}\n",
    "for i in frequencies_correct_s115_pn.keys():\n",
    "    acc_binned_s115_pn[i]=(frequencies_correct_s115_pn[i]/frequencies_tot_s115[i])*100.0\n",
    "    \n",
    "acc_binned_s216_pn = {}\n",
    "for i in frequencies_correct_s216_pn.keys():\n",
    "    acc_binned_s216_pn[i]=(frequencies_correct_s216_pn[i]/frequencies_tot_s216[i])*100.0\n",
    "    \n",
    "acc_binned_s620_pn = {}\n",
    "for i in frequencies_correct_s620_pn.keys():\n",
    "    acc_binned_s620_pn[i]=(frequencies_correct_s620_pn[i]/frequencies_tot_s620[i])*100.0"
   ]
  },
  {
   "cell_type": "code",
   "execution_count": 152,
   "metadata": {},
   "outputs": [],
   "source": [
    "#acc_binned_gcn = {0:np.mean([acc_binned_s014_gcn[0],acc_binned_s115_gcn[0],\n",
    "#                           acc_binned_s216_gcn[0],acc_binned_s620_gcn[0]]),\n",
    "#                  1:np.mean([acc_binned_s014_gcn[1],acc_binned_s115_gcn[1],\n",
    "#                           acc_binned_s216_gcn[1],acc_binned_s620_gcn[1]]),\n",
    "#                  2:np.mean([acc_binned_s014_gcn[2],acc_binned_s115_gcn[2],\n",
    "#                           acc_binned_s216_gcn[2],acc_binned_s620_gcn[2]])}\n",
    "                  #3:np.mean([acc_binned_s014_gcn[3],acc_binned_s115_gcn[3],\n",
    "                  #         acc_binned_s216_gcn[3],acc_binned_s620_gcn[3]])}\n",
    "\n",
    "acc_binned_sdeq = {0:np.mean([acc_binned_s014_sdeq[0],acc_binned_s115_sdeq[0],\n",
    "                           acc_binned_s216_sdeq[0],acc_binned_s620_sdeq[0]]),\n",
    "                  1:np.mean([acc_binned_s014_sdeq[1],acc_binned_s115_sdeq[1],\n",
    "                           acc_binned_s216_sdeq[1],acc_binned_s620_sdeq[1]]),\n",
    "                  2:np.mean([acc_binned_s014_sdeq[2],acc_binned_s115_sdeq[2],\n",
    "                           acc_binned_s216_sdeq[2],acc_binned_s620_sdeq[2]])}\n",
    "                  #3:np.mean([acc_binned_s014_sdeq[3],acc_binned_s115_sdeq[3],\n",
    "                  #         acc_binned_s216_sdeq[3],acc_binned_s620_sdeq[3]])}\n",
    "\n",
    "#acc_binned_blstm = {0:np.mean([acc_binned_s014_blstm[0],acc_binned_s115_blstm[0],\n",
    "#                           acc_binned_s216_blstm[0],acc_binned_s620_blstm[0]]),\n",
    "#                  1:np.mean([acc_binned_s014_blstm[1],acc_binned_s115_blstm[1],\n",
    "#                           acc_binned_s216_blstm[1],acc_binned_s620_blstm[1]]),\n",
    "#                  2:np.mean([acc_binned_s014_blstm[2],acc_binned_s115_blstm[2],\n",
    "#                           acc_binned_s216_blstm[2],acc_binned_s620_blstm[2]])}\n",
    "                  #3:np.mean([acc_binned_s014_blstm[3],acc_binned_s115_blstm[3],\n",
    "                  #         acc_binned_s216_blstm[3],acc_binned_s620_blstm[3]])}\n",
    "\n",
    "#acc_binned_dec = {0:np.mean([acc_binned_s014_dec[0],acc_binned_s115_dec[0],\n",
    "#                           acc_binned_s216_dec[0],acc_binned_s620_dec[0]]),\n",
    "#                  1:np.mean([acc_binned_s014_dec[1],acc_binned_s115_dec[1],\n",
    "#                           acc_binned_s216_dec[1],acc_binned_s620_dec[1]]),\n",
    "#                  2:np.mean([acc_binned_s014_dec[2],acc_binned_s115_dec[2],\n",
    "#                           acc_binned_s216_dec[2],acc_binned_s620_dec[2]])}\n",
    "                  #3:np.mean([acc_binned_s014_dec[3],acc_binned_s115_dec[3],\n",
    "                  #         acc_binned_s216_dec[3],acc_binned_s620_dec[3]])}\n",
    "\n",
    "acc_binned_pn = {0:np.mean([acc_binned_s014_pn[0],acc_binned_s115_pn[0],\n",
    "                           acc_binned_s216_pn[0],acc_binned_s620_pn[0]]),\n",
    "                  1:np.mean([acc_binned_s014_pn[1],acc_binned_s115_pn[1],\n",
    "                           acc_binned_s216_pn[1],acc_binned_s620_pn[1]]),\n",
    "                  2:np.mean([acc_binned_s014_pn[2],acc_binned_s115_pn[2],\n",
    "                           acc_binned_s216_pn[2],acc_binned_s620_pn[2]])}\n",
    "                  #3:np.mean([acc_binned_s014_pn[3],acc_binned_s115_pn[3],\n",
    "                  #         acc_binned_s216_pn[3],acc_binned_s620_pn[3]])}"
   ]
  },
  {
   "cell_type": "code",
   "execution_count": 153,
   "metadata": {},
   "outputs": [],
   "source": [
    "#acc_binned_gcn_sd = {0:np.std([acc_binned_s014_gcn[0],acc_binned_s115_gcn[0],\n",
    "#                           acc_binned_s216_gcn[0],acc_binned_s620_gcn[0]]),\n",
    "#                  1:np.std([acc_binned_s014_gcn[1],acc_binned_s115_gcn[1],\n",
    "#                           acc_binned_s216_gcn[1],acc_binned_s620_gcn[1]]),\n",
    "#                  2:np.std([acc_binned_s014_gcn[2],acc_binned_s115_gcn[2],\n",
    "#                           acc_binned_s216_gcn[2],acc_binned_s620_gcn[2]])}\n",
    "                  #3:np.std([acc_binned_s014_gcn[3],acc_binned_s115_gcn[3],\n",
    "                  #         acc_binned_s216_gcn[3],acc_binned_s620_gcn[3]])}\n",
    "\n",
    "acc_binned_sdeq_sd = {0:np.std([acc_binned_s014_sdeq[0],acc_binned_s115_sdeq[0],\n",
    "                           acc_binned_s216_sdeq[0],acc_binned_s620_sdeq[0]]),\n",
    "                  1:np.std([acc_binned_s014_sdeq[1],acc_binned_s115_sdeq[1],\n",
    "                           acc_binned_s216_sdeq[1],acc_binned_s620_sdeq[1]]),\n",
    "                  2:np.std([acc_binned_s014_sdeq[2],acc_binned_s115_sdeq[2],\n",
    "                           acc_binned_s216_sdeq[2],acc_binned_s620_sdeq[2]])}\n",
    "                  #3:np.std([acc_binned_s014_sdeq[3],acc_binned_s115_sdeq[3],\n",
    "                  #         acc_binned_s216_sdeq[3],acc_binned_s620_sdeq[3]])}\n",
    "\n",
    "#acc_binned_blstm_sd = {0:np.std([acc_binned_s014_blstm[0],acc_binned_s115_blstm[0],\n",
    "#                           acc_binned_s216_blstm[0],acc_binned_s620_blstm[0]]),\n",
    "#                  1:np.std([acc_binned_s014_blstm[1],acc_binned_s115_blstm[1],\n",
    "#                           acc_binned_s216_blstm[1],acc_binned_s620_blstm[1]]),\n",
    "#                  2:np.std([acc_binned_s014_blstm[2],acc_binned_s115_blstm[2],\n",
    "#                           acc_binned_s216_blstm[2],acc_binned_s620_blstm[2]])}\n",
    "                  #3:np.std([acc_binned_s014_blstm[3],acc_binned_s115_blstm[3],\n",
    "                  #         acc_binned_s216_blstm[3],acc_binned_s620_blstm[3]])}\n",
    "\n",
    "#acc_binned_dec_sd = {0:np.std([acc_binned_s014_dec[0],acc_binned_s115_dec[0],\n",
    "#                           acc_binned_s216_dec[0],acc_binned_s620_dec[0]]),\n",
    "#                  1:np.std([acc_binned_s014_dec[1],acc_binned_s115_dec[1],\n",
    "#                           acc_binned_s216_dec[1],acc_binned_s620_dec[1]]),\n",
    "#                  2:np.std([acc_binned_s014_dec[2],acc_binned_s115_dec[2],\n",
    "#                           acc_binned_s216_dec[2],acc_binned_s620_dec[2]])}\n",
    "                  #3:np.std([acc_binned_s014_dec[3],acc_binned_s115_dec[3],\n",
    "                  #         acc_binned_s216_dec[3],acc_binned_s620_dec[3]])}\n",
    "\n",
    "acc_binned_pn_sd = {0:np.std([acc_binned_s014_pn[0],acc_binned_s115_pn[0],\n",
    "                           acc_binned_s216_pn[0],acc_binned_s620_pn[0]]),\n",
    "                  1:np.std([acc_binned_s014_pn[1],acc_binned_s115_pn[1],\n",
    "                           acc_binned_s216_pn[1],acc_binned_s620_pn[1]]),\n",
    "                  2:np.std([acc_binned_s014_pn[2],acc_binned_s115_pn[2],\n",
    "                           acc_binned_s216_pn[2],acc_binned_s620_pn[2]])}\n",
    "                  #3:np.std([acc_binned_s014_pn[3],acc_binned_s115_pn[3],\n",
    "                  #         acc_binned_s216_pn[3],acc_binned_s620_pn[3]])}"
   ]
  },
  {
   "cell_type": "markdown",
   "metadata": {},
   "source": [
    "# Plots accuracy distribution"
   ]
  },
  {
   "cell_type": "code",
   "execution_count": 155,
   "metadata": {},
   "outputs": [
    {
     "data": {
      "image/png": "[encoded data removed]",
      "text/plain": [
       "<Figure size 1440x720 with 1 Axes>"
      ]
     },
     "metadata": {
      "needs_background": "light"
     },
     "output_type": "display_data"
    }
   ],
   "source": [
    "import matplotlib\n",
    "import matplotlib.pyplot as plt\n",
    "\n",
    "labels=['0 - 0.1','0.1 - 0.2','0.2 and higher']\n",
    "sdeq = acc_binned_sdeq.values()\n",
    "pn = acc_binned_pn.values()\n",
    "\n",
    "rnd_sdeq = []\n",
    "rnd_pn = []\n",
    "\n",
    "for i in sdeq:\n",
    "    i = round(i,1)\n",
    "    rnd_sdeq.append(i)\n",
    "for i in pn:\n",
    "    i = round(i,1)\n",
    "    rnd_pn.append(i)\n",
    "\n",
    "x = np.arange(len(labels))\n",
    "width = .2\n",
    "\n",
    "fig, ax = plt.subplots(figsize=(20,10))\n",
    "rects1 = ax.bar([.1,.7,1.3], rnd_pn, width,yerr=acc_binned_pn_sd,ecolor='black',capsize=10,label='PointNet',color='#58508d')\n",
    "rects2 = ax.bar([.3,.9,1.5], rnd_sdeq, width,yerr=acc_binned_sdeq_sd,ecolor='black',capsize=10, label='sDEC',color='#ff6361')\n",
    "\n",
    "ax.set_xlabel('Streamline curvature',fontsize=30,labelpad=30)\n",
    "ax.set_ylabel('Accuracy (%)',fontsize=30)\n",
    "ax.set_xticks([.2,.8,1.4])\n",
    "ax.set_xticklabels(labels,fontsize=30)\n",
    "plt.legend(loc='lower right', prop={'size': 25})\n",
    "\n",
    "def autolabel(rects):\n",
    "    \"\"\"Attach a text label above each bar in *rects*, displaying its height.\"\"\"\n",
    "    for rect in rects:\n",
    "        height = rect.get_height()\n",
    "        ax.annotate('{}'.format(height),\n",
    "                    xy=(rect.get_x() + rect.get_width() / 2, height),\n",
    "                    xytext=(0, 15),  # 3 points vertical offset\n",
    "                    textcoords=\"offset points\",\n",
    "                    ha='center', va='bottom',\n",
    "                    fontsize=20)\n",
    "        \n",
    "autolabel(rects1)\n",
    "autolabel(rects2)\n",
    "\n",
    "#fig.tight_layout()\n",
    "plt.setp(ax.get_xticklabels(), rotation=45)\n",
    "plt.xticks(fontsize=20)\n",
    "plt.yticks(fontsize=20)\n",
    "plt.ylim(0,105)\n",
    "#plt.savefig('dec_acc.png')\n",
    "plt.show()"
   ]
  },
  {
   "cell_type": "code",
   "execution_count": 171,
   "metadata": {},
   "outputs": [
    {
     "data": {
      "image/png": "[encoded data removed]",
      "text/plain": [
       "<Figure size 1440x720 with 1 Axes>"
      ]
     },
     "metadata": {
      "needs_background": "light"
     },
     "output_type": "display_data"
    }
   ],
   "source": [
    "import matplotlib\n",
    "import matplotlib.pyplot as plt\n",
    "\n",
    "labels=['0 - 100','100 - 200','200 - 300']\n",
    "gcn = acc_binned_gcn.values()\n",
    "sdeq = acc_binned_sdeq.values()\n",
    "blstm = acc_binned_blstm.values()\n",
    "dec = acc_binned_dec.values()\n",
    "pn = acc_binned_pn.values()\n",
    "#s620 = acc_binned_s620.values()\n",
    "\n",
    "rnd_gcn = []\n",
    "rnd_sdeq = []\n",
    "rnd_blstm = []\n",
    "rnd_dec = []\n",
    "rnd_pn = []\n",
    "#rnd_620 = []\n",
    "\n",
    "for i in gcn:\n",
    "    i = round(i,1)\n",
    "    rnd_gcn.append(i)\n",
    "for i in sdeq:\n",
    "    i = round(i,1)\n",
    "    rnd_sdeq.append(i)\n",
    "for i in blstm:\n",
    "    i = round(i,1)\n",
    "    rnd_blstm.append(i)\n",
    "for i in dec:\n",
    "    i = round(i,1)\n",
    "    rnd_dec.append(i)\n",
    "for i in pn:\n",
    "    i = round(i,1)\n",
    "    rnd_pn.append(i)\n",
    "#for i in s620:\n",
    "#    i = round(i,1)\n",
    "#    rnd_620.append(i)\n",
    "\n",
    "\n",
    "x = np.arange(len(labels))\n",
    "width = .2\n",
    "\n",
    "fig, ax = plt.subplots(figsize=(20,10))\n",
    "rects1 = ax.bar([.1,1.3,2.5], rnd_sdeq, width,yerr=acc_binned_sdeq_sd,ecolor='black',capsize=10,label='sDEC',color='#003f5c')\n",
    "rects2 = ax.bar([.3,1.5,2.7], rnd_dec, width,yerr=acc_binned_dec_sd,ecolor='black',capsize=10, label='DEC',color='#58508d')\n",
    "rects3 = ax.bar([.5,1.7,2.9], rnd_blstm, width,yerr=acc_binned_blstm_sd,ecolor='black',capsize=10, label='bLSTM',color='#bc5090')\n",
    "rects4 = ax.bar([.7,1.9,3.1], rnd_gcn, width,yerr=acc_binned_gcn_sd,ecolor='black',capsize=10, label='GCN',color='#ff6361')\n",
    "rects5 = ax.bar([.9,2.1,3.3], rnd_pn, width,yerr=acc_binned_pn_sd,ecolor='black',capsize=10, label='PN',color='#ffa600')\n",
    "#rects4 = ax.bar(x + width/.405, rnd_620, width, label='sub-105620',color='#ffa600')\n",
    "\n",
    "\n",
    "ax.set_xlabel('Streamline length (mm)',fontsize=30,labelpad=30)\n",
    "ax.set_ylabel('Accuracy (%)',fontsize=30)\n",
    "ax.set_xticks([0.5,1.7,2.9])\n",
    "ax.set_xticklabels(labels,fontsize=30)\n",
    "plt.legend(loc='lower right', prop={'size': 25})\n",
    "\n",
    "def autolabel(rects):\n",
    "    \"\"\"Attach a text label above each bar in *rects*, displaying its height.\"\"\"\n",
    "    for rect in rects:\n",
    "        height = rect.get_height()\n",
    "        ax.annotate('{}'.format(height),\n",
    "                    xy=(rect.get_x() + rect.get_width() / 2, height),\n",
    "                    xytext=(0, 15),  # 3 points vertical offset\n",
    "                    textcoords=\"offset points\",\n",
    "                    ha='center', va='bottom',\n",
    "                    fontsize=20)\n",
    "        \n",
    "autolabel(rects1)\n",
    "autolabel(rects2)\n",
    "autolabel(rects3)\n",
    "autolabel(rects4)\n",
    "autolabel(rects5)\n",
    "\n",
    "fig.tight_layout()\n",
    "plt.setp(ax.get_xticklabels(), rotation=45)\n",
    "plt.xticks(fontsize=20)\n",
    "plt.yticks(fontsize=20)\n",
    "plt.ylim(0,105)\n",
    "#plt.savefig('dec_acc.png')\n",
    "plt.show()"
   ]
  },
  {
   "cell_type": "code",
   "execution_count": 137,
   "metadata": {},
   "outputs": [
    {
     "data": {
      "image/png": "[encoded data removed]",
      "text/plain": [
       "<Figure size 1440x720 with 1 Axes>"
      ]
     },
     "metadata": {
      "needs_background": "light"
     },
     "output_type": "display_data"
    }
   ],
   "source": [
    "import matplotlib\n",
    "import matplotlib.pyplot as plt\n",
    "\n",
    "labels=['0 - 0.1','0.1 - 0.2','0.2 - 0.3', '0.3 and bigger']\n",
    "gcn = acc_binned_gcn.values()\n",
    "sdeq = acc_binned_sdeq.values()\n",
    "blstm = acc_binned_blstm.values()\n",
    "dec = acc_binned_dec.values()\n",
    "pn = acc_binned_pn.values()\n",
    "#s620 = acc_binned_s620.values()\n",
    "\n",
    "rnd_gcn = []\n",
    "rnd_sdeq = []\n",
    "rnd_blstm = []\n",
    "rnd_dec = []\n",
    "rnd_pn = []\n",
    "#rnd_620 = []\n",
    "\n",
    "for i in gcn:\n",
    "    i = round(i,1)\n",
    "    rnd_gcn.append(i)\n",
    "for i in sdeq:\n",
    "    i = round(i,1)\n",
    "    rnd_sdeq.append(i)\n",
    "for i in blstm:\n",
    "    i = round(i,1)\n",
    "    rnd_blstm.append(i)\n",
    "for i in dec:\n",
    "    i = round(i,1)\n",
    "    rnd_dec.append(i)\n",
    "for i in pn:\n",
    "    i = round(i,1)\n",
    "    rnd_pn.append(i)\n",
    "#for i in s620:\n",
    "#    i = round(i,1)\n",
    "#    rnd_620.append(i)\n",
    "\n",
    "\n",
    "x = np.arange(len(labels))\n",
    "width = .2\n",
    "\n",
    "fig, ax = plt.subplots(figsize=(20,10))\n",
    "rects1 = ax.bar([.1,1.3,2.5,3.7], rnd_sdeq, width,yerr=acc_binned_sdeq_sd,ecolor='black',capsize=10,label='sDEC',color='#003f5c')\n",
    "rects2 = ax.bar([.3,1.5,2.7,3.9], rnd_dec, width,yerr=acc_binned_dec_sd,ecolor='black',capsize=10, label='DEC',color='#58508d')\n",
    "rects3 = ax.bar([.5,1.7,2.9,4.1], rnd_blstm, width,yerr=acc_binned_blstm_sd,ecolor='black',capsize=10, label='bLSTM',color='#bc5090')\n",
    "rects4 = ax.bar([.7,1.9,3.1,4.3], rnd_gcn, width,yerr=acc_binned_gcn_sd,ecolor='black',capsize=10, label='GCN',color='#ff6361')\n",
    "rects5 = ax.bar([.9,2.1,3.3,4.5], rnd_pn, width,yerr=acc_binned_pn_sd,ecolor='black',capsize=10, label='PN',color='#ffa600')\n",
    "#rects4 = ax.bar(x + width/.405, rnd_620, width, label='sub-105620',color='#ffa600')\n",
    "\n",
    "\n",
    "ax.set_xlabel('Streamline curvature',fontsize=30,labelpad=30)\n",
    "ax.set_ylabel('Accuracy (%)',fontsize=30)\n",
    "ax.set_xticks([0.5,1.7,2.9,4.1])\n",
    "ax.set_xticklabels(labels,fontsize=30)\n",
    "plt.legend(loc='lower right', prop={'size': 25})\n",
    "\n",
    "def autolabel(rects):\n",
    "    \"\"\"Attach a text label above each bar in *rects*, displaying its height.\"\"\"\n",
    "    for rect in rects:\n",
    "        height = rect.get_height()\n",
    "        ax.annotate('{}'.format(height),\n",
    "                    xy=(rect.get_x() + rect.get_width() / 2, height),\n",
    "                    xytext=(0, 18),  # 3 points vertical offset\n",
    "                    textcoords=\"offset points\",\n",
    "                    ha='center', va='bottom',\n",
    "                    fontsize=20)\n",
    "        \n",
    "autolabel(rects1)\n",
    "autolabel(rects2)\n",
    "autolabel(rects3)\n",
    "autolabel(rects4)\n",
    "autolabel(rects5)\n",
    "\n",
    "fig.tight_layout()\n",
    "plt.setp(ax.get_xticklabels(), rotation=45)\n",
    "plt.xticks(fontsize=20)\n",
    "plt.yticks(fontsize=20)\n",
    "plt.ylim(0,107)\n",
    "#plt.savefig('dec_acc.png')\n",
    "plt.show()"
   ]
  },
  {
   "cell_type": "markdown",
   "metadata": {},
   "source": [
    "# Error distribution"
   ]
  },
  {
   "cell_type": "code",
   "execution_count": 156,
   "metadata": {},
   "outputs": [],
   "source": [
    "fp_014_pn = []\n",
    "fn_014_pn = []\n",
    "for i, item in enumerate(y_test_s014_pn):\n",
    "    if y_test_s014_pn[i]==0 and y_pred_s014_pn[i]==1:\n",
    "        fp_014_pn.append(i)\n",
    "    if y_test_s014_pn[i]==1 and y_pred_s014_pn[i]==0:\n",
    "        fn_014_pn.append(i)\n",
    "        \n",
    "fp_115_pn = []\n",
    "fn_115_pn = []\n",
    "for i, item in enumerate(y_test_s115_pn):\n",
    "    if y_test_s115_pn[i]==0 and y_pred_s115_pn[i]==1:\n",
    "        fp_115_pn.append(i)\n",
    "    if y_test_s115_pn[i]==1 and y_pred_s115_pn[i]==0:\n",
    "        fn_115_pn.append(i)\n",
    "        \n",
    "fp_216_pn = []\n",
    "fn_216_pn = []\n",
    "for i, item in enumerate(y_test_s216_pn):\n",
    "    if y_test_s216_pn[i]==0 and y_pred_s216_pn[i]==1:\n",
    "        fp_216_pn.append(i)\n",
    "    if y_test_s216_pn[i]==1 and y_pred_s216_pn[i]==0:\n",
    "        fn_216_pn.append(i)\n",
    "        \n",
    "fp_620_pn = []\n",
    "fn_620_pn = []\n",
    "for i, item in enumerate(y_test_s620_pn):\n",
    "    if y_test_s620_pn[i]==0 and y_pred_s620_pn[i]==1:\n",
    "        fp_620_pn.append(i)\n",
    "    if y_test_s620_pn[i]==1 and y_pred_s620_pn[i]==0:\n",
    "        fn_620_pn.append(i)"
   ]
  },
  {
   "cell_type": "code",
   "execution_count": 157,
   "metadata": {},
   "outputs": [],
   "source": [
    "fp_014_sdeq = []\n",
    "fn_014_sdeq = []\n",
    "for i, item in enumerate(y_test_s014_sdeq):\n",
    "    if y_test_s014_sdeq[i]==0 and y_pred_s014_sdeq[i]==1:\n",
    "        fp_014_sdeq.append(i)\n",
    "    if y_test_s014_sdeq[i]==1 and y_pred_s014_sdeq[i]==0:\n",
    "        fn_014_sdeq.append(i)\n",
    "        \n",
    "fp_115_sdeq = []\n",
    "fn_115_sdeq = []\n",
    "for i, item in enumerate(y_test_s115_sdeq):\n",
    "    if y_test_s115_sdeq[i]==0 and y_pred_s115_sdeq[i]==1:\n",
    "        fp_115_sdeq.append(i)\n",
    "    if y_test_s115_sdeq[i]==1 and y_pred_s115_sdeq[i]==0:\n",
    "        fn_115_sdeq.append(i)\n",
    "        \n",
    "fp_216_sdeq = []\n",
    "fn_216_sdeq = []\n",
    "for i, item in enumerate(y_test_s216_sdeq):\n",
    "    if y_test_s216_sdeq[i]==0 and y_pred_s216_sdeq[i]==1:\n",
    "        fp_216_sdeq.append(i)\n",
    "    if y_test_s216_sdeq[i]==1 and y_pred_s216_sdeq[i]==0:\n",
    "        fn_216_sdeq.append(i)\n",
    "        \n",
    "fp_620_sdeq = []\n",
    "fn_620_sdeq = []\n",
    "for i, item in enumerate(y_test_s620_sdeq):\n",
    "    if y_test_s620_sdeq[i]==0 and y_pred_s620_sdeq[i]==1:\n",
    "        fp_620_sdeq.append(i)\n",
    "    if y_test_s620_sdeq[i]==1 and y_pred_s620_sdeq[i]==0:\n",
    "        fn_620_sdeq.append(i)"
   ]
  },
  {
   "cell_type": "code",
   "execution_count": null,
   "metadata": {},
   "outputs": [],
   "source": []
  },
  {
   "cell_type": "code",
   "execution_count": 18,
   "metadata": {},
   "outputs": [],
   "source": [
    "idxs_fp = np.random.choice(np.arange(len(fp_gin)),100,replace=False)"
   ]
  },
  {
   "cell_type": "code",
   "execution_count": 22,
   "metadata": {},
   "outputs": [],
   "source": [
    "idxs_fn = np.random.choice(np.arange(len(fn_gin)),100,replace=False)"
   ]
  },
  {
   "cell_type": "code",
   "execution_count": 192,
   "metadata": {},
   "outputs": [],
   "source": [
    "fp_lengths_014_pn = []\n",
    "for i in fp_014_pn:\n",
    "    fp_lengths_014_pn.append(lengths_s014[i])\n",
    "fn_lengths_014_pn = []\n",
    "for i in fn_014_pn:\n",
    "    fn_lengths_014_pn.append(lengths_s014[i])\n",
    "    \n",
    "fp_lengths_115_pn = []\n",
    "for i in fp_115_pn:\n",
    "    fp_lengths_115_pn.append(lengths_s115[i])\n",
    "fn_lengths_115_pn = []\n",
    "for i in fn_115_pn:\n",
    "    fn_lengths_115_pn.append(lengths_s115[i])\n",
    "    \n",
    "fp_lengths_216_pn = []\n",
    "for i in fp_216_pn:\n",
    "    fp_lengths_216_pn.append(lengths_s216[i])\n",
    "fn_lengths_216_pn = []\n",
    "for i in fn_216_pn:\n",
    "    fn_lengths_216_pn.append(lengths_s216[i])\n",
    "    \n",
    "fp_lengths_620_pn = []\n",
    "for i in fp_620_pn:\n",
    "    fp_lengths_620_pn.append(lengths_s620[i])\n",
    "fn_lengths_620_pn = []\n",
    "for i in fn_620_pn:\n",
    "    fn_lengths_620_pn.append(lengths_s620[i])"
   ]
  },
  {
   "cell_type": "code",
   "execution_count": 193,
   "metadata": {},
   "outputs": [],
   "source": [
    "fp_lengths_014_sdeq = []\n",
    "for i in fp_014_sdeq:\n",
    "    fp_lengths_014_sdeq.append(lengths_s014[i])\n",
    "fn_lengths_014_sdeq = []\n",
    "for i in fn_014_sdeq:\n",
    "    fn_lengths_014_sdeq.append(lengths_s014[i])\n",
    "    \n",
    "fp_lengths_115_sdeq = []\n",
    "for i in fp_115_sdeq:\n",
    "    fp_lengths_115_sdeq.append(lengths_s115[i])\n",
    "fn_lengths_115_sdeq = []\n",
    "for i in fn_115_sdeq:\n",
    "    fn_lengths_115_sdeq.append(lengths_s115[i])\n",
    "    \n",
    "fp_lengths_216_sdeq = []\n",
    "for i in fp_216_sdeq:\n",
    "    fp_lengths_216_sdeq.append(lengths_s216[i])\n",
    "fn_lengths_216_sdeq = []\n",
    "for i in fn_216_sdeq:\n",
    "    fn_lengths_216_sdeq.append(lengths_s216[i])\n",
    "    \n",
    "fp_lengths_620_sdeq = []\n",
    "for i in fp_620_sdeq:\n",
    "    fp_lengths_620_sdeq.append(lengths_s620[i])\n",
    "fn_lengths_620_sdeq = []\n",
    "for i in fn_620_sdeq:\n",
    "    fn_lengths_620_sdeq.append(lengths_s620[i])"
   ]
  },
  {
   "cell_type": "code",
   "execution_count": null,
   "metadata": {},
   "outputs": [],
   "source": []
  },
  {
   "cell_type": "code",
   "execution_count": 158,
   "metadata": {},
   "outputs": [],
   "source": [
    "fp_curve_014_pn = []\n",
    "for i in fp_014_pn:\n",
    "    fp_curve_014_pn.append(curve_014[i])\n",
    "fn_curve_014_pn = []\n",
    "for i in fn_014_pn:\n",
    "    fn_curve_014_pn.append(curve_014[i])\n",
    "    \n",
    "fp_curve_115_pn = []\n",
    "for i in fp_115_pn:\n",
    "    fp_curve_115_pn.append(curve_115[i])\n",
    "fn_curve_115_pn = []\n",
    "for i in fn_115_pn:\n",
    "    fn_curve_115_pn.append(curve_115[i])\n",
    "    \n",
    "fp_curve_216_pn = []\n",
    "for i in fp_216_pn:\n",
    "    fp_curve_216_pn.append(curve_216[i])\n",
    "fn_curve_216_pn = []\n",
    "for i in fn_216_pn:\n",
    "    fn_curve_216_pn.append(curve_216[i])\n",
    "    \n",
    "fp_curve_620_pn = []\n",
    "for i in fp_620_pn:\n",
    "    fp_curve_620_pn.append(curve_620[i])\n",
    "fn_curve_620_pn = []\n",
    "for i in fn_620_pn:\n",
    "    fn_curve_620_pn.append(curve_620[i])"
   ]
  },
  {
   "cell_type": "code",
   "execution_count": 159,
   "metadata": {},
   "outputs": [],
   "source": [
    "fp_curve_014_sdeq = []\n",
    "for i in fp_014_sdeq:\n",
    "    fp_curve_014_sdeq.append(curve_014[i])\n",
    "fn_curve_014_sdeq = []\n",
    "for i in fn_014_sdeq:\n",
    "    fn_curve_014_sdeq.append(curve_014[i])\n",
    "    \n",
    "fp_curve_115_sdeq = []\n",
    "for i in fp_115_sdeq:\n",
    "    fp_curve_115_sdeq.append(curve_115[i])\n",
    "fn_curve_115_sdeq = []\n",
    "for i in fn_115_sdeq:\n",
    "    fn_curve_115_sdeq.append(curve_115[i])\n",
    "    \n",
    "fp_curve_216_sdeq = []\n",
    "for i in fp_216_sdeq:\n",
    "    fp_curve_216_sdeq.append(curve_216[i])\n",
    "fn_curve_216_sdeq = []\n",
    "for i in fn_216_sdeq:\n",
    "    fn_curve_216_sdeq.append(curve_216[i])\n",
    "    \n",
    "fp_curve_620_sdeq = []\n",
    "for i in fp_620_sdeq:\n",
    "    fp_curve_620_sdeq.append(curve_620[i])\n",
    "fn_curve_620_sdeq = []\n",
    "for i in fn_620_sdeq:\n",
    "    fn_curve_620_sdeq.append(curve_620[i])"
   ]
  },
  {
   "cell_type": "code",
   "execution_count": null,
   "metadata": {},
   "outputs": [],
   "source": []
  },
  {
   "cell_type": "code",
   "execution_count": 194,
   "metadata": {},
   "outputs": [],
   "source": [
    "from collections import Counter\n",
    "binned_fp_014_pn = []\n",
    "for value in fp_lengths_014_pn:\n",
    "    bin_index = find_bin(value, bins)\n",
    "    #print(value, bin_index, bins[bin_index])\n",
    "    binned_fp_014_pn.append(bin_index)\n",
    "    \n",
    "frequencies_fp_014_pn = Counter(binned_fp_014_pn)\n",
    "\n",
    "binned_fp_115_pn = []\n",
    "for value in fp_lengths_115_pn:\n",
    "    bin_index = find_bin(value, bins)\n",
    "    #print(value, bin_index, bins[bin_index])\n",
    "    binned_fp_115_pn.append(bin_index)\n",
    "    \n",
    "frequencies_fp_115_pn = Counter(binned_fp_115_pn)\n",
    "\n",
    "binned_fp_216_pn = []\n",
    "for value in fp_lengths_216_pn:\n",
    "    bin_index = find_bin(value, bins)\n",
    "    #print(value, bin_index, bins[bin_index])\n",
    "    binned_fp_216_pn.append(bin_index)\n",
    "    \n",
    "frequencies_fp_216_pn = Counter(binned_fp_216_pn)\n",
    "\n",
    "binned_fp_620_pn = []\n",
    "for value in fp_lengths_620_pn:\n",
    "    bin_index = find_bin(value, bins)\n",
    "    #print(value, bin_index, bins[bin_index])\n",
    "    binned_fp_620_pn.append(bin_index)\n",
    "    \n",
    "frequencies_fp_620_pn = Counter(binned_fp_620_pn)"
   ]
  },
  {
   "cell_type": "code",
   "execution_count": 196,
   "metadata": {},
   "outputs": [],
   "source": [
    "from collections import Counter\n",
    "binned_fn_014_pn = []\n",
    "for value in fn_lengths_014_pn:\n",
    "    bin_index = find_bin(value, bins)\n",
    "    #print(value, bin_index, bins[bin_index])\n",
    "    binned_fn_014_pn.append(bin_index)\n",
    "    \n",
    "frequencies_fn_014_pn = Counter(binned_fn_014_pn)\n",
    "\n",
    "binned_fn_115_pn = []\n",
    "for value in fn_lengths_115_pn:\n",
    "    bin_index = find_bin(value, bins)\n",
    "    #print(value, bin_index, bins[bin_index])\n",
    "    binned_fn_115_pn.append(bin_index)\n",
    "    \n",
    "frequencies_fn_115_pn = Counter(binned_fn_115_pn)\n",
    "\n",
    "binned_fn_216_pn = []\n",
    "for value in fn_lengths_216_pn:\n",
    "    bin_index = find_bin(value, bins)\n",
    "    #print(value, bin_index, bins[bin_index])\n",
    "    binned_fn_216_pn.append(bin_index)\n",
    "    \n",
    "frequencies_fn_216_pn = Counter(binned_fn_216_pn)\n",
    "\n",
    "binned_fn_620_pn = []\n",
    "for value in fn_lengths_620_pn:\n",
    "    bin_index = find_bin(value, bins)\n",
    "    #print(value, bin_index, bins[bin_index])\n",
    "    binned_fn_620_pn.append(bin_index)\n",
    "    \n",
    "frequencies_fn_620_pn = Counter(binned_fn_620_pn)"
   ]
  },
  {
   "cell_type": "code",
   "execution_count": 195,
   "metadata": {},
   "outputs": [],
   "source": [
    "from collections import Counter\n",
    "binned_fp_014_sdeq = []\n",
    "for value in fp_lengths_014_sdeq:\n",
    "    bin_index = find_bin(value, bins)\n",
    "    #print(value, bin_index, bins[bin_index])\n",
    "    binned_fp_014_sdeq.append(bin_index)\n",
    "    \n",
    "frequencies_fp_014_sdeq = Counter(binned_fp_014_sdeq)\n",
    "\n",
    "binned_fp_115_sdeq = []\n",
    "for value in fp_lengths_115_sdeq:\n",
    "    bin_index = find_bin(value, bins)\n",
    "    #print(value, bin_index, bins[bin_index])\n",
    "    binned_fp_115_sdeq.append(bin_index)\n",
    "    \n",
    "frequencies_fp_115_sdeq = Counter(binned_fp_115_sdeq)\n",
    "\n",
    "binned_fp_216_sdeq = []\n",
    "for value in fp_lengths_216_sdeq:\n",
    "    bin_index = find_bin(value, bins)\n",
    "    #print(value, bin_index, bins[bin_index])\n",
    "    binned_fp_216_sdeq.append(bin_index)\n",
    "    \n",
    "frequencies_fp_216_sdeq = Counter(binned_fp_216_sdeq)\n",
    "\n",
    "binned_fp_620_sdeq = []\n",
    "for value in fp_lengths_620_sdeq:\n",
    "    bin_index = find_bin(value, bins)\n",
    "    #print(value, bin_index, bins[bin_index])\n",
    "    binned_fp_620_sdeq.append(bin_index)\n",
    "    \n",
    "frequencies_fp_620_sdeq = Counter(binned_fp_620_sdeq)"
   ]
  },
  {
   "cell_type": "code",
   "execution_count": 197,
   "metadata": {},
   "outputs": [],
   "source": [
    "from collections import Counter\n",
    "binned_fn_014_sdeq = []\n",
    "for value in fn_lengths_014_sdeq:\n",
    "    bin_index = find_bin(value, bins)\n",
    "    #print(value, bin_index, bins[bin_index])\n",
    "    binned_fn_014_sdeq.append(bin_index)\n",
    "    \n",
    "frequencies_fn_014_sdeq = Counter(binned_fn_014_sdeq)\n",
    "\n",
    "binned_fn_115_sdeq = []\n",
    "for value in fn_lengths_115_sdeq:\n",
    "    bin_index = find_bin(value, bins)\n",
    "    #print(value, bin_index, bins[bin_index])\n",
    "    binned_fn_115_sdeq.append(bin_index)\n",
    "    \n",
    "frequencies_fn_115_sdeq = Counter(binned_fn_115_sdeq)\n",
    "\n",
    "binned_fn_216_sdeq = []\n",
    "for value in fn_lengths_216_sdeq:\n",
    "    bin_index = find_bin(value, bins)\n",
    "    #print(value, bin_index, bins[bin_index])\n",
    "    binned_fn_216_sdeq.append(bin_index)\n",
    "    \n",
    "frequencies_fn_216_sdeq = Counter(binned_fn_216_sdeq)\n",
    "\n",
    "binned_fn_620_sdeq = []\n",
    "for value in fn_lengths_620_sdeq:\n",
    "    bin_index = find_bin(value, bins)\n",
    "    #print(value, bin_index, bins[bin_index])\n",
    "    binned_fn_620_sdeq.append(bin_index)\n",
    "    \n",
    "frequencies_fn_620_sdeq = Counter(binned_fn_620_sdeq)"
   ]
  },
  {
   "cell_type": "code",
   "execution_count": null,
   "metadata": {},
   "outputs": [],
   "source": []
  },
  {
   "cell_type": "code",
   "execution_count": 227,
   "metadata": {},
   "outputs": [],
   "source": [
    "from collections import Counter\n",
    "binned_fn_014_pn = []\n",
    "for value in fn_curve_014_pn:\n",
    "    bin_index = find_bin(value, bins)\n",
    "    #print(value, bin_index, bins[bin_index])\n",
    "    binned_fn_014_pn.append(bin_index)\n",
    "    \n",
    "frequencies_fn_014_pn = Counter(binned_fn_014_pn)\n",
    "\n",
    "binned_fn_115_pn = []\n",
    "for value in fn_curve_115_pn:\n",
    "    bin_index = find_bin(value, bins)\n",
    "    #print(value, bin_index, bins[bin_index])\n",
    "    binned_fn_115_pn.append(bin_index)\n",
    "    \n",
    "frequencies_fn_115_pn = Counter(binned_fn_115_pn)\n",
    "\n",
    "binned_fn_216_pn = []\n",
    "for value in fn_curve_216_pn:\n",
    "    bin_index = find_bin(value, bins)\n",
    "    #print(value, bin_index, bins[bin_index])\n",
    "    binned_fn_216_pn.append(bin_index)\n",
    "    \n",
    "frequencies_fn_216_pn = Counter(binned_fn_216_pn)\n",
    "\n",
    "binned_fn_620_pn = []\n",
    "for value in fn_curve_620_pn:\n",
    "    bin_index = find_bin(value, bins)\n",
    "    #print(value, bin_index, bins[bin_index])\n",
    "    binned_fn_620_pn.append(bin_index)\n",
    "    \n",
    "frequencies_fn_620_pn = Counter(binned_fn_620_pn)"
   ]
  },
  {
   "cell_type": "code",
   "execution_count": 228,
   "metadata": {},
   "outputs": [],
   "source": [
    "from collections import Counter\n",
    "binned_fp_014_pn = []\n",
    "for value in fp_curve_014_pn:\n",
    "    bin_index = find_bin(value, bins)\n",
    "    #print(value, bin_index, bins[bin_index])\n",
    "    binned_fp_014_pn.append(bin_index)\n",
    "    \n",
    "frequencies_fp_014_pn = Counter(binned_fp_014_pn)\n",
    "\n",
    "binned_fp_115_pn = []\n",
    "for value in fp_curve_115_pn:\n",
    "    bin_index = find_bin(value, bins)\n",
    "    #print(value, bin_index, bins[bin_index])\n",
    "    binned_fp_115_pn.append(bin_index)\n",
    "    \n",
    "frequencies_fp_115_pn = Counter(binned_fp_115_pn)\n",
    "\n",
    "binned_fp_216_pn = []\n",
    "for value in fp_curve_216_pn:\n",
    "    bin_index = find_bin(value, bins)\n",
    "    #print(value, bin_index, bins[bin_index])\n",
    "    binned_fp_216_pn.append(bin_index)\n",
    "    \n",
    "frequencies_fp_216_pn = Counter(binned_fp_216_pn)\n",
    "\n",
    "binned_fp_620_pn = []\n",
    "for value in fp_curve_620_pn:\n",
    "    bin_index = find_bin(value, bins)\n",
    "    #print(value, bin_index, bins[bin_index])\n",
    "    binned_fp_620_pn.append(bin_index)\n",
    "    \n",
    "frequencies_fp_620_pn = Counter(binned_fp_620_pn)"
   ]
  },
  {
   "cell_type": "code",
   "execution_count": 229,
   "metadata": {},
   "outputs": [],
   "source": [
    "from collections import Counter\n",
    "binned_fn_014_sdeq = []\n",
    "for value in fn_curve_014_sdeq:\n",
    "    bin_index = find_bin(value, bins)\n",
    "    #print(value, bin_index, bins[bin_index])\n",
    "    binned_fn_014_sdeq.append(bin_index)\n",
    "    \n",
    "frequencies_fn_014_sdeq = Counter(binned_fn_014_sdeq)\n",
    "\n",
    "binned_fn_115_sdeq = []\n",
    "for value in fn_curve_115_sdeq:\n",
    "    bin_index = find_bin(value, bins)\n",
    "    #print(value, bin_index, bins[bin_index])\n",
    "    binned_fn_115_sdeq.append(bin_index)\n",
    "    \n",
    "frequencies_fn_115_sdeq = Counter(binned_fn_115_sdeq)\n",
    "\n",
    "binned_fn_216_sdeq = []\n",
    "for value in fn_curve_216_sdeq:\n",
    "    bin_index = find_bin(value, bins)\n",
    "    #print(value, bin_index, bins[bin_index])\n",
    "    binned_fn_216_sdeq.append(bin_index)\n",
    "    \n",
    "frequencies_fn_216_sdeq = Counter(binned_fn_216_sdeq)\n",
    "\n",
    "binned_fn_620_sdeq = []\n",
    "for value in fn_curve_620_sdeq:\n",
    "    bin_index = find_bin(value, bins)\n",
    "    #print(value, bin_index, bins[bin_index])\n",
    "    binned_fn_620_sdeq.append(bin_index)\n",
    "    \n",
    "frequencies_fn_620_sdeq = Counter(binned_fn_620_sdeq)"
   ]
  },
  {
   "cell_type": "code",
   "execution_count": 230,
   "metadata": {},
   "outputs": [],
   "source": [
    "from collections import Counter\n",
    "binned_fp_014_sdeq = []\n",
    "for value in fp_curve_014_sdeq:\n",
    "    bin_index = find_bin(value, bins)\n",
    "    #print(value, bin_index, bins[bin_index])\n",
    "    binned_fp_014_sdeq.append(bin_index)\n",
    "    \n",
    "frequencies_fp_014_sdeq = Counter(binned_fp_014_sdeq)\n",
    "\n",
    "binned_fp_115_sdeq = []\n",
    "for value in fp_curve_115_sdeq:\n",
    "    bin_index = find_bin(value, bins)\n",
    "    #print(value, bin_index, bins[bin_index])\n",
    "    binned_fp_115_sdeq.append(bin_index)\n",
    "    \n",
    "frequencies_fp_115_sdeq = Counter(binned_fp_115_sdeq)\n",
    "\n",
    "binned_fp_216_sdeq = []\n",
    "for value in fp_curve_216_sdeq:\n",
    "    bin_index = find_bin(value, bins)\n",
    "    #print(value, bin_index, bins[bin_index])\n",
    "    binned_fp_216_sdeq.append(bin_index)\n",
    "    \n",
    "frequencies_fp_216_sdeq = Counter(binned_fp_216_sdeq)\n",
    "\n",
    "binned_fp_620_sdeq = []\n",
    "for value in fp_curve_620_sdeq:\n",
    "    bin_index = find_bin(value, bins)\n",
    "    #print(value, bin_index, bins[bin_index])\n",
    "    binned_fp_620_sdeq.append(bin_index)\n",
    "    \n",
    "frequencies_fp_620_sdeq = Counter(binned_fp_620_sdeq)"
   ]
  },
  {
   "cell_type": "code",
   "execution_count": null,
   "metadata": {},
   "outputs": [],
   "source": []
  },
  {
   "cell_type": "code",
   "execution_count": 231,
   "metadata": {},
   "outputs": [
    {
     "data": {
      "text/plain": [
       "Counter({-1: 17, 0: 19056, 1: 8510, 2: 172})"
      ]
     },
     "execution_count": 231,
     "metadata": {},
     "output_type": "execute_result"
    }
   ],
   "source": [
    "frequencies_fp_014_pn"
   ]
  },
  {
   "cell_type": "code",
   "execution_count": 199,
   "metadata": {},
   "outputs": [
    {
     "data": {
      "text/plain": [
       "Counter({0: 21689, 1: 3910, 2: 150})"
      ]
     },
     "execution_count": 199,
     "metadata": {},
     "output_type": "execute_result"
    }
   ],
   "source": [
    "frequencies_fn_014_pn"
   ]
  },
  {
   "cell_type": "code",
   "execution_count": 232,
   "metadata": {},
   "outputs": [],
   "source": [
    "for i,c in enumerate(binned_fn_014_pn):\n",
    "    if c==-1:\n",
    "        #print(i,fn_curve_014[i])\n",
    "        if fn_curve_014_pn[i]>.3:\n",
    "            frequencies_fn_014_pn[2]+=1\n",
    "        if fn_curve_014_pn[i]<0:\n",
    "            frequencies_fn_014_pn[0]+=1\n",
    "            \n",
    "for i,c in enumerate(binned_fn_115_pn):\n",
    "    if c==-1:\n",
    "        #print(i,fn_curve_115[i])\n",
    "        if fn_curve_115_pn[i]>.3:\n",
    "            frequencies_fn_115_pn[2]+=1\n",
    "        if fn_curve_115_pn[i]<0:\n",
    "            frequencies_fn_115_pn[0]+=1\n",
    "            \n",
    "for i,c in enumerate(binned_fn_216_pn):\n",
    "    if c==-1:\n",
    "        #print(i,fn_curve_216[i])\n",
    "        if fn_curve_216_pn[i]>.3:\n",
    "            frequencies_fn_216_pn[2]+=1\n",
    "        if fn_curve_216_pn[i]<0:\n",
    "            frequencies_fn_216_pn[0]+=1\n",
    "            \n",
    "for i,c in enumerate(binned_fn_620_pn):\n",
    "    if c==-1:\n",
    "        #print(i,fn_curve_620[i])\n",
    "        if fn_curve_620_pn[i]>.3:\n",
    "            frequencies_fn_620_pn[2]+=1\n",
    "        if fn_curve_620_pn[i]<0:\n",
    "            frequencies_fn_620_pn[0]+=1"
   ]
  },
  {
   "cell_type": "code",
   "execution_count": 233,
   "metadata": {},
   "outputs": [],
   "source": [
    "for i,c in enumerate(binned_fp_014_pn):\n",
    "    if c==-1:\n",
    "        #print(i,fp_curve_014[i])\n",
    "        if fp_curve_014_pn[i]>.3:\n",
    "            frequencies_fp_014_pn[2]+=1\n",
    "        if fp_curve_014_pn[i]<0:\n",
    "            frequencies_fp_014_pn[0]+=1\n",
    "            \n",
    "for i,c in enumerate(binned_fp_115_pn):\n",
    "    if c==-1:\n",
    "        #print(i,fp_curve_115[i])\n",
    "        if fp_curve_115_pn[i]>.3:\n",
    "            frequencies_fp_115_pn[2]+=1\n",
    "        if fp_curve_115_pn[i]<0:\n",
    "            frequencies_fp_115_pn[0]+=1\n",
    "            \n",
    "for i,c in enumerate(binned_fp_216_pn):\n",
    "    if c==-1:\n",
    "        #print(i,fp_curve_216[i])\n",
    "        if fp_curve_216_pn[i]>.3:\n",
    "            frequencies_fp_216_pn[2]+=1\n",
    "        if fp_curve_216_pn[i]<0:\n",
    "            frequencies_fp_216_pn[0]+=1\n",
    "            \n",
    "for i,c in enumerate(binned_fp_620_pn):\n",
    "    if c==-1:\n",
    "        #print(i,fp_curve_620[i])\n",
    "        if fp_curve_620_pn[i]>.3:\n",
    "            frequencies_fp_620_pn[2]+=1\n",
    "        if fp_curve_620_pn[i]<0:\n",
    "            frequencies_fp_620_pn[0]+=1"
   ]
  },
  {
   "cell_type": "code",
   "execution_count": 234,
   "metadata": {},
   "outputs": [],
   "source": [
    "for i,c in enumerate(binned_fn_014_sdeq):\n",
    "    if c==-1:\n",
    "        #print(i,fn_curve_014[i])\n",
    "        if fn_curve_014_sdeq[i]>.3:\n",
    "            frequencies_fn_014_sdeq[2]+=1\n",
    "        if fn_curve_014_sdeq[i]<0:\n",
    "            frequencies_fn_014_sdeq[0]+=1\n",
    "            \n",
    "for i,c in enumerate(binned_fn_115_sdeq):\n",
    "    if c==-1:\n",
    "        #print(i,fn_curve_115[i])\n",
    "        if fn_curve_115_sdeq[i]>.3:\n",
    "            frequencies_fn_115_sdeq[2]+=1\n",
    "        if fn_curve_115_sdeq[i]<0:\n",
    "            frequencies_fn_115_sdeq[0]+=1\n",
    "            \n",
    "for i,c in enumerate(binned_fn_216_sdeq):\n",
    "    if c==-1:\n",
    "        #print(i,fn_curve_216[i])\n",
    "        if fn_curve_216_sdeq[i]>.3:\n",
    "            frequencies_fn_216_sdeq[2]+=1\n",
    "        if fn_curve_216_sdeq[i]<0:\n",
    "            frequencies_fn_216_sdeq[0]+=1\n",
    "            \n",
    "for i,c in enumerate(binned_fn_620_sdeq):\n",
    "    if c==-1:\n",
    "        #print(i,fn_curve_620[i])\n",
    "        if fn_curve_620_sdeq[i]>.3:\n",
    "            frequencies_fn_620_sdeq[2]+=1\n",
    "        if fn_curve_620_sdeq[i]<0:\n",
    "            frequencies_fn_620_sdeq[0]+=1"
   ]
  },
  {
   "cell_type": "code",
   "execution_count": 235,
   "metadata": {},
   "outputs": [],
   "source": [
    "for i,c in enumerate(binned_fp_014_sdeq):\n",
    "    if c==-1:\n",
    "        #print(i,fp_curve_014[i])\n",
    "        if fp_curve_014_sdeq[i]>.3:\n",
    "            frequencies_fp_014_sdeq[2]+=1\n",
    "        if fp_curve_014_sdeq[i]<0:\n",
    "            frequencies_fp_014_sdeq[0]+=1\n",
    "            \n",
    "for i,c in enumerate(binned_fp_115_sdeq):\n",
    "    if c==-1:\n",
    "        #print(i,fp_curve_115[i])\n",
    "        if fp_curve_115_sdeq[i]>.3:\n",
    "            frequencies_fp_115_sdeq[2]+=1\n",
    "        if fp_curve_115_sdeq[i]<0:\n",
    "            frequencies_fp_115_sdeq[0]+=1\n",
    "            \n",
    "for i,c in enumerate(binned_fp_216_sdeq):\n",
    "    if c==-1:\n",
    "        #print(i,fp_curve_216[i])\n",
    "        if fp_curve_216_sdeq[i]>.3:\n",
    "            frequencies_fp_216_sdeq[2]+=1\n",
    "        if fp_curve_216_sdeq[i]<0:\n",
    "            frequencies_fp_216_sdeq[0]+=1\n",
    "            \n",
    "for i,c in enumerate(binned_fp_620_sdeq):\n",
    "    if c==-1:\n",
    "        #print(i,fp_curve_620[i])\n",
    "        if fp_curve_620_sdeq[i]>.3:\n",
    "            frequencies_fp_620_sdeq[2]+=1\n",
    "        if fp_curve_620_sdeq[i]<0:\n",
    "            frequencies_fp_620_sdeq[0]+=1"
   ]
  },
  {
   "cell_type": "code",
   "execution_count": null,
   "metadata": {},
   "outputs": [],
   "source": []
  },
  {
   "cell_type": "code",
   "execution_count": 236,
   "metadata": {},
   "outputs": [],
   "source": [
    "for f in [frequencies_fn_014_pn,frequencies_fn_115_pn, frequencies_fn_216_pn,frequencies_fn_620_pn]:\n",
    "    del f[-1]"
   ]
  },
  {
   "cell_type": "code",
   "execution_count": 237,
   "metadata": {},
   "outputs": [],
   "source": [
    "for f in [frequencies_fp_014_pn,frequencies_fp_115_pn, frequencies_fp_216_pn,frequencies_fp_620_pn]:\n",
    "    del f[-1]"
   ]
  },
  {
   "cell_type": "code",
   "execution_count": 238,
   "metadata": {},
   "outputs": [],
   "source": [
    "for f in [frequencies_fn_014_sdeq,frequencies_fn_115_sdeq, frequencies_fn_216_sdeq,frequencies_fn_620_sdeq]:\n",
    "    del f[-1]"
   ]
  },
  {
   "cell_type": "code",
   "execution_count": 239,
   "metadata": {},
   "outputs": [],
   "source": [
    "for f in [frequencies_fp_014_sdeq,frequencies_fp_115_sdeq, frequencies_fp_216_sdeq,frequencies_fp_620_sdeq]:\n",
    "    del f[-1]"
   ]
  },
  {
   "cell_type": "code",
   "execution_count": null,
   "metadata": {},
   "outputs": [],
   "source": []
  },
  {
   "cell_type": "code",
   "execution_count": 240,
   "metadata": {},
   "outputs": [],
   "source": [
    "fp_perc_014_pn = {}\n",
    "fn_perc_014_pn = {}\n",
    "for i in frequencies_fp_014_pn.keys():\n",
    "    fp_perc_014_pn[i] = (frequencies_fp_014_pn[i]/(frequencies_fp_014_pn[i]+frequencies_fn_014_pn[i]))*100\n",
    "    fn_perc_014_pn[i] = (frequencies_fn_014_pn[i]/(frequencies_fp_014_pn[i]+frequencies_fn_014_pn[i]))*100\n",
    "    \n",
    "fp_perc_115_pn = {}\n",
    "fn_perc_115_pn = {}\n",
    "for i in frequencies_fp_115_pn.keys():\n",
    "    fp_perc_115_pn[i] = (frequencies_fp_115_pn[i]/(frequencies_fp_115_pn[i]+frequencies_fn_115_pn[i]))*100\n",
    "    fn_perc_115_pn[i] = (frequencies_fn_115_pn[i]/(frequencies_fp_115_pn[i]+frequencies_fn_115_pn[i]))*100\n",
    "    \n",
    "fp_perc_216_pn = {}\n",
    "fn_perc_216_pn = {}\n",
    "for i in frequencies_fp_216_pn.keys():\n",
    "    fp_perc_216_pn[i] = (frequencies_fp_216_pn[i]/(frequencies_fp_216_pn[i]+frequencies_fn_216_pn[i]))*100\n",
    "    fn_perc_216_pn[i] = (frequencies_fn_216_pn[i]/(frequencies_fp_216_pn[i]+frequencies_fn_216_pn[i]))*100\n",
    "    \n",
    "fp_perc_620_pn = {}\n",
    "fn_perc_620_pn = {}\n",
    "for i in frequencies_fp_620_pn.keys():\n",
    "    fp_perc_620_pn[i] = (frequencies_fp_620_pn[i]/(frequencies_fp_620_pn[i]+frequencies_fn_620_pn[i]))*100\n",
    "    fn_perc_620_pn[i] = (frequencies_fn_620_pn[i]/(frequencies_fp_620_pn[i]+frequencies_fn_620_pn[i]))*100"
   ]
  },
  {
   "cell_type": "code",
   "execution_count": 241,
   "metadata": {},
   "outputs": [],
   "source": [
    "fp_perc_014_sdeq = {}\n",
    "fn_perc_014_sdeq = {}\n",
    "for i in frequencies_fp_014_sdeq.keys():\n",
    "    fp_perc_014_sdeq[i] = (frequencies_fp_014_sdeq[i]/(frequencies_fp_014_sdeq[i]+frequencies_fn_014_sdeq[i]))*100\n",
    "    fn_perc_014_sdeq[i] = (frequencies_fn_014_sdeq[i]/(frequencies_fp_014_sdeq[i]+frequencies_fn_014_sdeq[i]))*100\n",
    "    \n",
    "fp_perc_115_sdeq = {}\n",
    "fn_perc_115_sdeq = {}\n",
    "for i in frequencies_fp_115_sdeq.keys():\n",
    "    fp_perc_115_sdeq[i] = (frequencies_fp_115_sdeq[i]/(frequencies_fp_115_sdeq[i]+frequencies_fn_115_sdeq[i]))*100\n",
    "    fn_perc_115_sdeq[i] = (frequencies_fn_115_sdeq[i]/(frequencies_fp_115_sdeq[i]+frequencies_fn_115_sdeq[i]))*100\n",
    "    \n",
    "fp_perc_216_sdeq = {}\n",
    "fn_perc_216_sdeq = {}\n",
    "for i in frequencies_fp_216_sdeq.keys():\n",
    "    fp_perc_216_sdeq[i] = (frequencies_fp_216_sdeq[i]/(frequencies_fp_216_sdeq[i]+frequencies_fn_216_sdeq[i]))*100\n",
    "    fn_perc_216_sdeq[i] = (frequencies_fn_216_sdeq[i]/(frequencies_fp_216_sdeq[i]+frequencies_fn_216_sdeq[i]))*100\n",
    "    \n",
    "fp_perc_620_sdeq = {}\n",
    "fn_perc_620_sdeq = {}\n",
    "for i in frequencies_fp_620_sdeq.keys():\n",
    "    fp_perc_620_sdeq[i] = (frequencies_fp_620_sdeq[i]/(frequencies_fp_620_sdeq[i]+frequencies_fn_620_sdeq[i]))*100\n",
    "    fn_perc_620_sdeq[i] = (frequencies_fn_620_sdeq[i]/(frequencies_fp_620_sdeq[i]+frequencies_fn_620_sdeq[i]))*100"
   ]
  },
  {
   "cell_type": "code",
   "execution_count": null,
   "metadata": {},
   "outputs": [],
   "source": []
  },
  {
   "cell_type": "code",
   "execution_count": 242,
   "metadata": {},
   "outputs": [],
   "source": [
    "#bin1fp = np.mean([fp_perc_014.values()[0],fp_perc_115.values()[0],fp_perc_216.values()[0],fp_perc_620.values()[0]])\n",
    "#bin2fp = np.mean([fp_perc_014.values()[1],fp_perc_115.values()[1],fp_perc_216.values()[1],fp_perc_620.values()[1]])\n",
    "#bin3fp = np.mean([fp_perc_014.values()[2],fp_perc_115.values()[2],fp_perc_216.values()[2],fp_perc_620.values()[2]])\n",
    "\n",
    "bin1fn_pn = np.mean([fn_perc_014_pn.values()[0],fn_perc_115_pn.values()[0],fn_perc_216_pn.values()[0],fn_perc_620_pn.values()[0]])\n",
    "bin2fn_pn = np.mean([fn_perc_014_pn.values()[1],fn_perc_115_pn.values()[1],fn_perc_216_pn.values()[1],fn_perc_620_pn.values()[1]])\n",
    "bin3fn_pn = np.mean([fn_perc_014_pn.values()[2],fn_perc_115_pn.values()[2],fn_perc_216_pn.values()[2],fn_perc_620_pn.values()[2]])"
   ]
  },
  {
   "cell_type": "code",
   "execution_count": 243,
   "metadata": {},
   "outputs": [],
   "source": [
    "#bin1fp = np.std([fp_perc_014.values()[0],fp_perc_115.values()[0],fp_perc_216.values()[0],fp_perc_620.values()[0]])\n",
    "#bin2fp = np.std([fp_perc_014.values()[1],fp_perc_115.values()[1],fp_perc_216.values()[1],fp_perc_620.values()[1]])\n",
    "#bin3fp = np.std([fp_perc_014.values()[2],fp_perc_115.values()[2],fp_perc_216.values()[2],fp_perc_620.values()[2]])\n",
    "\n",
    "bin1fn_pn_sd = np.std([fn_perc_014_pn.values()[0],fn_perc_115_pn.values()[0],fn_perc_216_pn.values()[0],fn_perc_620_pn.values()[0]])\n",
    "bin2fn_pn_sd = np.std([fn_perc_014_pn.values()[1],fn_perc_115_pn.values()[1],fn_perc_216_pn.values()[1],fn_perc_620_pn.values()[1]])\n",
    "bin3fn_pn_sd = np.std([fn_perc_014_pn.values()[2],fn_perc_115_pn.values()[2],fn_perc_216_pn.values()[2],fn_perc_620_pn.values()[2]])"
   ]
  },
  {
   "cell_type": "code",
   "execution_count": 244,
   "metadata": {},
   "outputs": [],
   "source": [
    "#bin1fp = np.mean([fp_perc_014.values()[0],fp_perc_115.values()[0],fp_perc_216.values()[0],fp_perc_620.values()[0]])\n",
    "#bin2fp = np.mean([fp_perc_014.values()[1],fp_perc_115.values()[1],fp_perc_216.values()[1],fp_perc_620.values()[1]])\n",
    "#bin3fp = np.mean([fp_perc_014.values()[2],fp_perc_115.values()[2],fp_perc_216.values()[2],fp_perc_620.values()[2]])\n",
    "\n",
    "bin1fn_sdeq = np.mean([fn_perc_014_sdeq.values()[0],fn_perc_115_sdeq.values()[0],fn_perc_216_sdeq.values()[0],fn_perc_620_sdeq.values()[0]])\n",
    "bin2fn_sdeq = np.mean([fn_perc_014_sdeq.values()[1],fn_perc_115_sdeq.values()[1],fn_perc_216_sdeq.values()[1],fn_perc_620_sdeq.values()[1]])\n",
    "bin3fn_sdeq = np.mean([fn_perc_014_sdeq.values()[2],fn_perc_115_sdeq.values()[2],fn_perc_216_sdeq.values()[2],fn_perc_620_sdeq.values()[2]])"
   ]
  },
  {
   "cell_type": "code",
   "execution_count": 245,
   "metadata": {},
   "outputs": [],
   "source": [
    "#bin1fp = np.std([fp_perc_014.values()[0],fp_perc_115.values()[0],fp_perc_216.values()[0],fp_perc_620.values()[0]])\n",
    "#bin2fp = np.std([fp_perc_014.values()[1],fp_perc_115.values()[1],fp_perc_216.values()[1],fp_perc_620.values()[1]])\n",
    "#bin3fp = np.std([fp_perc_014.values()[2],fp_perc_115.values()[2],fp_perc_216.values()[2],fp_perc_620.values()[2]])\n",
    "\n",
    "bin1fn_sdeq_sd = np.std([fn_perc_014_sdeq.values()[0],fn_perc_115_sdeq.values()[0],fn_perc_216_sdeq.values()[0],fn_perc_620_sdeq.values()[0]])\n",
    "bin2fn_sdeq_sd = np.std([fn_perc_014_sdeq.values()[1],fn_perc_115_sdeq.values()[1],fn_perc_216_sdeq.values()[1],fn_perc_620_sdeq.values()[1]])\n",
    "bin3fn_sdeq_sd = np.std([fn_perc_014_sdeq.values()[2],fn_perc_115_sdeq.values()[2],fn_perc_216_sdeq.values()[2],fn_perc_620_sdeq.values()[2]])"
   ]
  },
  {
   "cell_type": "code",
   "execution_count": 246,
   "metadata": {},
   "outputs": [
    {
     "data": {
      "text/plain": [
       "1.69176337783923"
      ]
     },
     "execution_count": 246,
     "metadata": {},
     "output_type": "execute_result"
    }
   ],
   "source": [
    "bin1fn_sdeq_sd"
   ]
  },
  {
   "cell_type": "markdown",
   "metadata": {},
   "source": [
    "# Plotting error distribution"
   ]
  },
  {
   "cell_type": "code",
   "execution_count": 247,
   "metadata": {},
   "outputs": [
    {
     "data": {
      "image/png": "[encoded data removed]",
      "text/plain": [
       "<Figure size 1440x720 with 1 Axes>"
      ]
     },
     "metadata": {
      "needs_background": "light"
     },
     "output_type": "display_data"
    }
   ],
   "source": [
    "import matplotlib\n",
    "import matplotlib.pyplot as plt\n",
    "\n",
    "labels=['0 - 0.1','0.1 - 0.2','0.2 and higher']\n",
    "sdeq = [bin1fn_sdeq,bin2fn_sdeq,bin3fn_sdeq]\n",
    "pn = [bin1fn_pn,bin2fn_pn,bin3fn_pn]\n",
    "sdeq_sd = [bin1fn_sdeq_sd,bin2fn_sdeq_sd,bin3fn_sdeq_sd]\n",
    "pn_sd = [bin1fn_pn_sd,bin2fn_pn_sd,bin3fn_pn_sd]\n",
    "\n",
    "rnd_sdeq = []\n",
    "rnd_pn = []\n",
    "\n",
    "for i in sdeq:\n",
    "    i = round(i,1)\n",
    "    rnd_sdeq.append(i)\n",
    "for i in pn:\n",
    "    i = round(i,1)\n",
    "    rnd_pn.append(i)\n",
    "\n",
    "x = np.arange(len(labels))\n",
    "width = .2\n",
    "\n",
    "fig, ax = plt.subplots(figsize=(20,10))\n",
    "rects1 = ax.bar([.1,.7,1.3], rnd_pn, width,yerr=pn_sd,ecolor='black',capsize=10,label='PointNet',color='#58508d')\n",
    "rects2 = ax.bar([.3,.9,1.5], rnd_sdeq, width,yerr=sdeq_sd,ecolor='black',capsize=10, label='sDEC',color='#ff6361')\n",
    "\n",
    "ax.set_xlabel('Streamline curvature',fontsize=30,labelpad=30)\n",
    "ax.set_ylabel('% of false negatives',fontsize=30)\n",
    "ax.set_xticks([.2,.8,1.4])\n",
    "ax.set_xticklabels(labels,fontsize=30)\n",
    "plt.legend(loc='upper right', prop={'size': 25})\n",
    "\n",
    "def autolabel(rects):\n",
    "    \"\"\"Attach a text label above each bar in *rects*, displaying its height.\"\"\"\n",
    "    for rect in rects:\n",
    "        height = rect.get_height()\n",
    "        ax.annotate('{}'.format(height),\n",
    "                    xy=(rect.get_x() + rect.get_width() / 2, height),\n",
    "                    xytext=(40, 3),  # 3 points vertical offset\n",
    "                    textcoords=\"offset points\",\n",
    "                    ha='center', va='bottom',\n",
    "                    fontsize=20)\n",
    "        \n",
    "autolabel(rects1)\n",
    "autolabel(rects2)\n",
    "\n",
    "#fig.tight_layout()\n",
    "plt.setp(ax.get_xticklabels(), rotation=45)\n",
    "plt.xticks(fontsize=20)\n",
    "plt.yticks(fontsize=20)\n",
    "plt.ylim(0,105)\n",
    "#plt.savefig('dec_acc.png')\n",
    "plt.show()"
   ]
  },
  {
   "cell_type": "code",
   "execution_count": null,
   "metadata": {},
   "outputs": [],
   "source": []
  },
  {
   "cell_type": "code",
   "execution_count": 272,
   "metadata": {},
   "outputs": [
    {
     "data": {
      "image/png": "[encoded data removed]",
      "text/plain": [
       "<Figure size 2160x720 with 1 Axes>"
      ]
     },
     "metadata": {
      "needs_background": "light"
     },
     "output_type": "display_data"
    }
   ],
   "source": [
    "labels=['0 - 100','100 - 200','200 - 300']\n",
    "\n",
    "fp014 = [bin1fp,bin2fp,bin3fp]\n",
    "fn014 = [bin1fn,bin2fn,bin3fn]\n",
    "rnd_fp014 = []\n",
    "rnd_fn014 = []\n",
    "\n",
    "for i in fp014:\n",
    "    i = round(i,1)\n",
    "    rnd_fp014.append(i)\n",
    "for i in fn014:\n",
    "    i = round(i,1)\n",
    "    rnd_fn014.append(i)\n",
    "    \n",
    "x = np.arange(len(labels))\n",
    "width = .35\n",
    "    \n",
    "fig, ax = plt.subplots(figsize=(30,10))\n",
    "rects1 = ax.bar(x - width/2, rnd_fp014, width, label='FP',color='#58508d')\n",
    "rects2 = ax.bar(x + width/2, rnd_fn014, width, label='FN',color='#ff6361')\n",
    "\n",
    "#rects3 = ax2.bar(x - width/2, rnd_fp115, width, label='FP')\n",
    "#rects4 = ax2.bar(x + width/2, rnd_fn115, width, label='FN')\n",
    "\n",
    "#rects5 = ax3.bar(x - width/2, rnd_fp216, width, label='FP')\n",
    "#rects6 = ax3.bar(x + width/2, rnd_fn216, width, label='FN')\n",
    "\n",
    "#rects7 = ax4.bar(x - width/2, rnd_fp620, width, label='FP')\n",
    "#rects8 = ax4.bar(x + width/2, rnd_fn620, width, label='FN')\n",
    "\n",
    "def autolabel1(rects):\n",
    "    \"\"\"Attach a text label above each bar in *rects*, displaying its height.\"\"\"\n",
    "    for rect in rects:\n",
    "        height = rect.get_height()\n",
    "        ax.annotate('{}'.format(height),\n",
    "                    xy=(rect.get_x() + rect.get_width() / 2, height),\n",
    "                    xytext=(0, 3),  # 3 points vertical offset\n",
    "                    textcoords=\"offset points\",\n",
    "                    ha='center', va='bottom',\n",
    "                    fontsize=20)\n",
    "        \n",
    "autolabel1(rects1)\n",
    "autolabel1(rects2)\n",
    "\n",
    "\n",
    "ax.set_ylim([0,100])\n",
    "\n",
    "plt.xticks([0,1,2],labels,fontsize=50)\n",
    "\n",
    "plt.sca(ax)\n",
    "plt.yticks(fontsize=20)\n",
    "\n",
    "ax.legend(loc='upper left', prop={'size': 20})\n",
    "\n",
    "fig.text(0.5,-0.05,'Streamline length (mm)',ha='center',fontsize=30)\n",
    "#fig.text(0.07,1.6,'% of errors', ha='left',fontsize=30,rotation=90)\n",
    "ax.set_ylabel('error% HCP',fontsize=30,labelpad=20)\n",
    "#fig.tight_layout()\n",
    "plt.setp(ax.get_xticklabels(), rotation=45)\n",
    "plt.xticks(fontsize=20)\n",
    "plt.yticks(fontsize=20)\n",
    "#plt.savefig('decseq5_fp_vs_fn_GIN.png')\n",
    "plt.show()"
   ]
  }
 ],
 "metadata": {
  "kernelspec": {
   "display_name": "Python 2",
   "language": "python",
   "name": "python2"
  },
  "language_info": {
   "codemirror_mode": {
    "name": "ipython",
    "version": 2
   },
   "file_extension": ".py",
   "mimetype": "text/x-python",
   "name": "python",
   "nbconvert_exporter": "python",
   "pygments_lexer": "ipython2",
   "version": "2.7.16"
  }
 },
 "nbformat": 4,
 "nbformat_minor": 2
}
