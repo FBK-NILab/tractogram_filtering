{
 "cells": [
  {
   "cell_type": "code",
   "execution_count": 1,
   "metadata": {},
   "outputs": [],
   "source": [
    "import nibabel as nib\n",
    "import numpy as np\n",
    "import os\n",
    "import glob"
   ]
  },
  {
   "cell_type": "code",
   "execution_count": 3,
   "metadata": {},
   "outputs": [
    {
     "name": "stdout",
     "output_type": "stream",
     "text": [
      "total 44\n",
      "drwxrwxr-x  5 pa 4096 ott 23 14:09 \u001b[0m\u001b[01;34mextractor\u001b[0m/\n",
      "drwxrwxr-x  2 pa 4096 ott 24 16:50 \u001b[01;34mHCP_N20\u001b[0m/\n",
      "drwxr-xr-x 23 pa 4096 dic 20 16:59 \u001b[01;34mmerge_shuffle_trk\u001b[0m/\n",
      "drwxrwxr-x  2 pa 4096 dic 20 16:44 \u001b[01;34mpermuted_streamlines\u001b[0m/\n",
      "drwxrwxr-x 23 pa 4096 dic 17 14:12 \u001b[01;34mstreamlines_resampled_12\u001b[0m/\n",
      "drwxrwxr-x 23 pa 4096 nov 28 12:32 \u001b[01;34mstreamlines_resampled_16\u001b[0m/\n",
      "drwxrwxr-x 24 pa 4096 mar 30 16:15 \u001b[01;34mstreamlines_resampled_16_new\u001b[0m/\n",
      "drwxrwxr-x 23 pa 4096 dic 17 15:00 \u001b[01;34mstreamlines_resampled_20\u001b[0m/\n",
      "drwxrwxr-x 22 pa 4096 nov 20 13:28 \u001b[01;34mstreamlines_resampling_32p\u001b[0m/\n",
      "drwxr-xr-x 22 pa 4096 nov 13 15:06 \u001b[01;34mstreamlines_resampling_HCP20\u001b[0m/\n",
      "drwxrwxr-x  2 pa 4096 ott 24 16:50 \u001b[01;34mt0337_data\u001b[0m/\n"
     ]
    }
   ],
   "source": [
    "ll /home/pa/data/ExTractor_PRIVATE/derivatives/"
   ]
  },
  {
   "cell_type": "code",
   "execution_count": null,
   "metadata": {},
   "outputs": [],
   "source": [
    "mni_nii = nib.load('/usr/local/fsl/data/standard/MNI152_T1_1mm_brain.nii.gz')\n",
    "native_nii = nib.load('input/sub-105014/T1w/T1w_acpc_dc_restore_brain.nii.gz')"
   ]
  }
 ],
 "metadata": {
  "kernelspec": {
   "display_name": "Python 3",
   "language": "python",
   "name": "python3"
  },
  "language_info": {
   "codemirror_mode": {
    "name": "ipython",
    "version": 3
   },
   "file_extension": ".py",
   "mimetype": "text/x-python",
   "name": "python",
   "nbconvert_exporter": "python",
   "pygments_lexer": "ipython3",
   "version": "3.8.2"
  }
 },
 "nbformat": 4,
 "nbformat_minor": 4
}
